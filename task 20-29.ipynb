{
 "cells": [
  {
   "cell_type": "code",
   "execution_count": 32,
   "id": "b88bd177",
   "metadata": {},
   "outputs": [
    {
     "name": "stdout",
     "output_type": "stream",
     "text": [
      "welcome to write file\n",
      "\n"
     ]
    }
   ],
   "source": [
    "### task-20, file handling\n",
    "'''\n",
    "File handling in simple it means handling of files such as opening the file, reading, writing,\n",
    "and many other operations\n",
    "\n",
    "open\n",
    "read or write\n",
    "append\n",
    "close '''\n",
    "\n",
    "fh = open('demo.txt','r')\n",
    "content = fh.read()\n",
    "print(content)\n",
    "fh.close()"
   ]
  },
  {
   "cell_type": "code",
   "execution_count": 31,
   "id": "13e9ade6",
   "metadata": {},
   "outputs": [],
   "source": [
    "fh=open('demo.txt','w')\n",
    "content=fh.write('welcome to write file')\n",
    "fh.close()\n",
    "\n",
    "#output: /'welcome to write file '/(replace of 'welcome to text file')"
   ]
  },
  {
   "cell_type": "code",
   "execution_count": 16,
   "id": "6e2511fd",
   "metadata": {},
   "outputs": [],
   "source": [
    "fh=open('demo.txt','a')\n",
    "content=fh.write('this is append')\n",
    "fh.close()\n",
    "\n",
    "#output :welcome to write filethis is append"
   ]
  },
  {
   "cell_type": "code",
   "execution_count": 17,
   "id": "621a3944",
   "metadata": {},
   "outputs": [
    {
     "name": "stdout",
     "output_type": "stream",
     "text": [
      "welcome to write filethis is append\n"
     ]
    }
   ],
   "source": [
    "fh = open('demo.txt','r')\n",
    "content = fh.readline()\n",
    "print(content)\n",
    "fh.close()"
   ]
  },
  {
   "cell_type": "code",
   "execution_count": 28,
   "id": "76cd037e",
   "metadata": {},
   "outputs": [
    {
     "name": "stdout",
     "output_type": "stream",
     "text": [
      "welcome to\n"
     ]
    }
   ],
   "source": [
    "fh = open('demo.txt','r')\n",
    "content = fh.readline(10)\n",
    "print(content)\n",
    "fh.close()"
   ]
  },
  {
   "cell_type": "code",
   "execution_count": 25,
   "id": "b0a6370d",
   "metadata": {},
   "outputs": [
    {
     "name": "stdout",
     "output_type": "stream",
     "text": [
      "['welcome to write filethis is append\\n', 'some\\n', 'went\\n', 'where\\n', 'well\\n', 'food\\n', 'ball\\n', 'hello']\n"
     ]
    }
   ],
   "source": [
    "fh = open('demo.txt','r')\n",
    "content = fh.readlines()\n",
    "print(content)\n",
    "fh.close()"
   ]
  },
  {
   "cell_type": "code",
   "execution_count": 27,
   "id": "3529242e",
   "metadata": {},
   "outputs": [
    {
     "name": "stdout",
     "output_type": "stream",
     "text": [
      "['welcome to write filethis is append\\n']\n"
     ]
    }
   ],
   "source": [
    "fh = open('demo.txt','r')\n",
    "content = fh.readlines(6)\n",
    "print(content)\n",
    "fh.close()"
   ]
  },
  {
   "cell_type": "code",
   "execution_count": 30,
   "id": "662eb026",
   "metadata": {},
   "outputs": [
    {
     "name": "stdout",
     "output_type": "stream",
     "text": [
      "0\n"
     ]
    }
   ],
   "source": [
    "'''\n",
    "tell() method can be used to get the position of File Handle. \n",
    "tell() method returns current position of file object.\n",
    "This method takes no parameters and returns an integer value. \n",
    "'''\n",
    "\n",
    "\n",
    "fh= open('demo.txt','r')\n",
    "print(fh.tell())\n",
    "fh.close()\n"
   ]
  },
  {
   "cell_type": "code",
   "execution_count": 29,
   "id": "57553834",
   "metadata": {},
   "outputs": [
    {
     "name": "stdout",
     "output_type": "stream",
     "text": [
      "0\n",
      "0\n"
     ]
    }
   ],
   "source": [
    "fh = open('demo.txt','r')\n",
    "print(fh.tell())\n",
    "fh.read(6)\n",
    "print(fh.tell())\n",
    "fh.close()"
   ]
  },
  {
   "cell_type": "code",
   "execution_count": 37,
   "id": "dafa3f09",
   "metadata": {},
   "outputs": [
    {
     "name": "stdout",
     "output_type": "stream",
     "text": [
      "6\n",
      "0\n"
     ]
    }
   ],
   "source": [
    "'''\n",
    "# seek() function is used to change the position of the File Handle to a given specific position. \n",
    "# File handle is like a cursor, which defines from where the data has to be read or written in the file. \n",
    "\n",
    "# f.seek(0)\n",
    "# Move file pointer to the beginning of a File\n",
    " '''\n",
    "\n",
    "fh = open('demo.txt','r')\n",
    "fh.read(6)\n",
    "print(fh.tell())  # 6\n",
    "fh.seek(0)\n",
    "print(fh.tell())  # 0\n",
    "fh.close()"
   ]
  },
  {
   "cell_type": "code",
   "execution_count": 45,
   "id": "8cacd8d5",
   "metadata": {},
   "outputs": [
    {
     "name": "stdout",
     "output_type": "stream",
     "text": [
      "welcometowritefileorangehellohaidearsosadofyouorangeorangeorangeorangeorange\n",
      "['welcometowritefileorangehellohaidearsosadofyouorangeorangeorangeorangeorange']\n",
      "76\n"
     ]
    }
   ],
   "source": [
    "file = open('demo.txt',mode='r+')   ## open\n",
    "content = file.read()              # operation\n",
    "v = str(content)\n",
    "print(v)\n",
    "\n",
    "f = v.split()\n",
    "print(f)\n",
    "\n",
    "f.insert(4,'orange')\n",
    "print(file.tell())\n",
    "file.close()\n",
    "\n",
    "file = open('demo.txt',mode='w')\n",
    "for i in f:\n",
    "    file.writelines([i])\n"
   ]
  },
  {
   "cell_type": "code",
   "execution_count": 47,
   "id": "b8ca2627",
   "metadata": {},
   "outputs": [
    {
     "name": "stdout",
     "output_type": "stream",
     "text": [
      "'welcome excel file'\n"
     ]
    }
   ],
   "source": [
    "# practice file handling and explore how to change data in excel file using file handling\n",
    "fx=open('demo.xlsx','r')\n",
    "cont=fx.read()\n",
    "print(cont)\n",
    "fx.close()"
   ]
  },
  {
   "cell_type": "code",
   "execution_count": 57,
   "id": "c36a7d9f",
   "metadata": {},
   "outputs": [
    {
     "name": "stdout",
     "output_type": "stream",
     "text": [
      "error is occured\n"
     ]
    }
   ],
   "source": [
    "## task-21\n",
    "# Exception Handling or Error Handling\n",
    "try:\n",
    "    print(21/0)\n",
    "except:\n",
    "    print('error is occured')"
   ]
  },
  {
   "cell_type": "code",
   "execution_count": 61,
   "id": "5733e33e",
   "metadata": {},
   "outputs": [
    {
     "name": "stdout",
     "output_type": "stream",
     "text": [
      "error is occured\n"
     ]
    }
   ],
   "source": [
    "try:\n",
    "    print(21/0)\n",
    "except:\n",
    "    print('error is occured')\n",
    "else:\n",
    "    print('this is else')"
   ]
  },
  {
   "cell_type": "code",
   "execution_count": 64,
   "id": "45162ff4",
   "metadata": {},
   "outputs": [
    {
     "name": "stdout",
     "output_type": "stream",
     "text": [
      "11.0\n",
      "this is else\n"
     ]
    }
   ],
   "source": [
    "try:\n",
    "    print(22/2)\n",
    "except:\n",
    "    print('error is occured')\n",
    "else:\n",
    "    print('this is else')"
   ]
  },
  {
   "cell_type": "code",
   "execution_count": 69,
   "id": "b1620a9e",
   "metadata": {},
   "outputs": [
    {
     "name": "stdout",
     "output_type": "stream",
     "text": [
      "10.5\n",
      "this is else\n",
      "done finally\n"
     ]
    }
   ],
   "source": [
    "try:\n",
    "    print(21/2)\n",
    "except:\n",
    "    print('error is occured')\n",
    "else:\n",
    "    print('this is else')\n",
    "finally:\n",
    "    print('done finally')"
   ]
  },
  {
   "cell_type": "code",
   "execution_count": 71,
   "id": "58a4bbde",
   "metadata": {},
   "outputs": [
    {
     "name": "stdout",
     "output_type": "stream",
     "text": [
      "error is occured division by zero\n"
     ]
    }
   ],
   "source": [
    "try:\n",
    "    print(21/0)\n",
    "    \n",
    "#except class as object\n",
    "\n",
    "except Exception as santu:\n",
    "    print('error is occured',santu)"
   ]
  },
  {
   "cell_type": "code",
   "execution_count": 74,
   "id": "7bbfc2ec",
   "metadata": {},
   "outputs": [
    {
     "name": "stdout",
     "output_type": "stream",
     "text": [
      "an error occured name\n"
     ]
    }
   ],
   "source": [
    "## name error example\n",
    "try:\n",
    "    print(s)\n",
    "except TypeError:\n",
    "    print('an error occured type')\n",
    "except NameError:\n",
    "    print('an error occured name')"
   ]
  },
  {
   "cell_type": "code",
   "execution_count": 12,
   "id": "e9d94f7e",
   "metadata": {},
   "outputs": [
    {
     "ename": "ValueError",
     "evalue": "string cannot convert into int",
     "output_type": "error",
     "traceback": [
      "\u001b[1;31m---------------------------------------------------------------------------\u001b[0m",
      "\u001b[1;31mValueError\u001b[0m                                Traceback (most recent call last)",
      "\u001b[1;32m<ipython-input-12-d633bf22da65>\u001b[0m in \u001b[0;36m<module>\u001b[1;34m\u001b[0m\n\u001b[0;32m      2\u001b[0m \u001b[1;32mtry\u001b[0m\u001b[1;33m:\u001b[0m\u001b[1;33m\u001b[0m\u001b[1;33m\u001b[0m\u001b[0m\n\u001b[1;32m----> 3\u001b[1;33m     \u001b[0mnum\u001b[0m\u001b[1;33m=\u001b[0m\u001b[0mint\u001b[0m\u001b[1;33m(\u001b[0m\u001b[0ms\u001b[0m\u001b[1;33m)\u001b[0m\u001b[1;33m\u001b[0m\u001b[1;33m\u001b[0m\u001b[0m\n\u001b[0m\u001b[0;32m      4\u001b[0m \u001b[1;32mexcept\u001b[0m \u001b[0mValueError\u001b[0m\u001b[1;33m:\u001b[0m\u001b[1;33m\u001b[0m\u001b[1;33m\u001b[0m\u001b[0m\n",
      "\u001b[1;31mValueError\u001b[0m: invalid literal for int() with base 10: 'cake'",
      "\nDuring handling of the above exception, another exception occurred:\n",
      "\u001b[1;31mValueError\u001b[0m                                Traceback (most recent call last)",
      "\u001b[1;32m<ipython-input-12-d633bf22da65>\u001b[0m in \u001b[0;36m<module>\u001b[1;34m\u001b[0m\n\u001b[0;32m      3\u001b[0m     \u001b[0mnum\u001b[0m\u001b[1;33m=\u001b[0m\u001b[0mint\u001b[0m\u001b[1;33m(\u001b[0m\u001b[0ms\u001b[0m\u001b[1;33m)\u001b[0m\u001b[1;33m\u001b[0m\u001b[1;33m\u001b[0m\u001b[0m\n\u001b[0;32m      4\u001b[0m \u001b[1;32mexcept\u001b[0m \u001b[0mValueError\u001b[0m\u001b[1;33m:\u001b[0m\u001b[1;33m\u001b[0m\u001b[1;33m\u001b[0m\u001b[0m\n\u001b[1;32m----> 5\u001b[1;33m     \u001b[1;32mraise\u001b[0m \u001b[0mValueError\u001b[0m \u001b[1;33m(\u001b[0m\u001b[1;34m'string cannot convert into int'\u001b[0m\u001b[1;33m)\u001b[0m\u001b[1;33m\u001b[0m\u001b[1;33m\u001b[0m\u001b[0m\n\u001b[0m",
      "\u001b[1;31mValueError\u001b[0m: string cannot convert into int"
     ]
    }
   ],
   "source": [
    "s='cake'\n",
    "try:\n",
    "    num=int(s)\n",
    "except ValueError:\n",
    "    raise ValueError ('string cannot convert into int')\n"
   ]
  },
  {
   "cell_type": "code",
   "execution_count": 1,
   "id": "5cf14ae0",
   "metadata": {},
   "outputs": [
    {
     "name": "stdout",
     "output_type": "stream",
     "text": [
      "jai kisan\n",
      "55 66\n"
     ]
    }
   ],
   "source": [
    "## oops-concept \n",
    "## (1) class and objects\n",
    "\n",
    "# class(template)\n",
    "'''\n",
    "1.we will define class by using 'class' \n",
    "2.blue print to create a objects\n",
    "3.collection of objects is called class\n",
    "'''\n",
    "#ex fruits\n",
    "\n",
    "# object\n",
    "# physical entity(real)\n",
    "'''\n",
    "1.an instance of a class\n",
    "2.memory is created when it declared\n",
    "'''\n",
    "#ex apple,orange,mango\n",
    "\n",
    "# attribute (variable) data members\n",
    "'''\n",
    "age=20 \n",
    "color='blue'\n",
    "'''\n",
    "\n",
    "\n",
    "# method(behaviour) or functions\n",
    "'''\n",
    "eat() \n",
    "sleep()\n",
    "'''\n",
    "\n",
    "# self keyword\n",
    "'''\n",
    "we can access the attributes and methods of the class(current class only)\n",
    "'''\n",
    "# class Class_name:\n",
    "#     #constructor\n",
    "#     #attributes\n",
    "#     #methods\n",
    "\n",
    "\n",
    "\n",
    "\n",
    "\n",
    "class Apple:              # class , class name\n",
    "    print('jai kisan')    # attributes/data members\n",
    "    def display(self):    #method(self)\n",
    "        a=55              \n",
    "        b=66\n",
    "        print(a,b)\n",
    "obj=Apple()              #object name,method name()\n",
    "obj.display()            #declaring object"
   ]
  },
  {
   "cell_type": "code",
   "execution_count": 26,
   "id": "de3cd5c0",
   "metadata": {},
   "outputs": [
    {
     "name": "stdout",
     "output_type": "stream",
     "text": [
      "55\n"
     ]
    },
    {
     "data": {
      "text/plain": [
       "88"
      ]
     },
     "execution_count": 26,
     "metadata": {},
     "output_type": "execute_result"
    }
   ],
   "source": [
    "class Apple:\n",
    "    c=88\n",
    "    def display(self):\n",
    "        a=55\n",
    "        print(a)\n",
    "ob=Apple()\n",
    "obj.display()\n",
    "obj.c"
   ]
  },
  {
   "cell_type": "code",
   "execution_count": 12,
   "id": "85365d88",
   "metadata": {},
   "outputs": [
    {
     "name": "stdout",
     "output_type": "stream",
     "text": [
      "22\n"
     ]
    }
   ],
   "source": [
    "class Apple:\n",
    "    a=22\n",
    "    def display(self):\n",
    "        print(self.a)\n",
    "obj=Apple()\n",
    "obj.display()"
   ]
  },
  {
   "cell_type": "code",
   "execution_count": 31,
   "id": "567f939b",
   "metadata": {},
   "outputs": [
    {
     "name": "stdout",
     "output_type": "stream",
     "text": [
      "25\n",
      "26\n",
      "27\n"
     ]
    }
   ],
   "source": [
    "\n",
    "# __init__\n",
    "\n",
    "'''\n",
    "Constructors are generally used for instantiating an object. \n",
    "The task of constructors is to initialize(assign values)\n",
    "to the data members of the class when an object of the class \n",
    "is created.\n",
    "In Python the __init__() method is called the constructor\n",
    "and is always called when an object is created\n",
    "\n",
    "does'nt support multiple constructor\n",
    "'''\n",
    "\n",
    "class Name:                   # class declaration\n",
    "    def __init__(self,a,b,c):   #constructor\n",
    "        self.l=a    # variables\n",
    "        self.m=b\n",
    "        self.n=c\n",
    "    def display(self):\n",
    "        print(self.l)\n",
    "        print(self.m)\n",
    "        print(self.n)\n",
    "        \n",
    "obj=Name(25,26,27)\n",
    "obj.display()"
   ]
  },
  {
   "cell_type": "code",
   "execution_count": 4,
   "id": "3377ec22",
   "metadata": {},
   "outputs": [
    {
     "name": "stdout",
     "output_type": "stream",
     "text": [
      "enter movie name: RRR\n",
      "enter director name:SS RAJAMOULI\n",
      "enter total budget:360CR INR\n",
      "enter total theatres:12000\n",
      "------------------------------------\n",
      "movie:  RRR\n",
      "director: SS RAJAMOULI\n",
      "budget: 360CR INR\n",
      "theatres: 12000\n"
     ]
    }
   ],
   "source": [
    "## task-24\n",
    "\n",
    "class Tollywood:\n",
    "    def __init__(self,movie,director,budget,theatres):\n",
    "        self.a=movie\n",
    "        self.b=director\n",
    "        self.c=budget\n",
    "        self.d=theatres\n",
    "        \n",
    "    def movie_details(self):\n",
    "        print(\"movie:\",self.a)\n",
    "        print('director:',self.b)\n",
    "        print('budget:',self.c)\n",
    "        print('theatres:',self.d)\n",
    "\n",
    "k=input('enter movie name:')\n",
    "l=input('enter director name:')\n",
    "m=input('enter total budget:')\n",
    "n=input('enter total theatres:')\n",
    "print('------------------------------------')\n",
    "obj=Tollywood(k,l,m,n)\n",
    "obj.movie_details()\n",
    "        "
   ]
  },
  {
   "cell_type": "code",
   "execution_count": 10,
   "id": "92b484ea",
   "metadata": {},
   "outputs": [
    {
     "name": "stdout",
     "output_type": "stream",
     "text": [
      "this is a parent class\n",
      "this is a child class\n"
     ]
    }
   ],
   "source": [
    "# # inheritance\n",
    "# # single parent child\n",
    "# # multiple\n",
    "# # multilevel\n",
    "# # hierarchical\n",
    "\n",
    "\n",
    "   # single-level-inheritance\n",
    "class Parent:\n",
    "    def display(self):\n",
    "        print('this is a parent class')\n",
    "        \n",
    "class Child(Parent):\n",
    "    def display1(self):\n",
    "        print('this is a child class')\n",
    "obj=Child()\n",
    "obj.display()\n",
    "obj.display1()"
   ]
  },
  {
   "cell_type": "code",
   "execution_count": 3,
   "id": "ee8b8e73",
   "metadata": {},
   "outputs": [
    {
     "name": "stdout",
     "output_type": "stream",
     "text": [
      "this is a grand father class\n",
      "this is a father class\n",
      "this is a child class\n"
     ]
    }
   ],
   "source": [
    "### multilevel-inheritance\n",
    "class Grandfather:\n",
    "    def display(self):\n",
    "        print('this is a grand father class')\n",
    "class Father(Grandfather):\n",
    "    def display1(self):\n",
    "        print('this is a father class')\n",
    "class Child(Father):\n",
    "    def display2(self):\n",
    "        print('this is a child class')\n",
    "\n",
    "obj=Child()\n",
    "obj.display()\n",
    "obj.display1()\n",
    "obj.display2()"
   ]
  },
  {
   "cell_type": "code",
   "execution_count": 11,
   "id": "0988e705",
   "metadata": {},
   "outputs": [
    {
     "name": "stdout",
     "output_type": "stream",
     "text": [
      "this is a father class\n",
      "this is a mother class\n",
      "this is a child class\n"
     ]
    }
   ],
   "source": [
    "#multiple-inheritance\n",
    "\n",
    "class Father:\n",
    "    def display(self):\n",
    "        print('this is a father class')\n",
    "class Mother:\n",
    "    def display1(self):\n",
    "        print('this is a mother class')\n",
    "class Child(Father,Mother):\n",
    "    def display2(self):\n",
    "        print('this is a child class')\n",
    "obj=Child()\n",
    "obj.display()\n",
    "obj.display1()\n",
    "obj.display2()\n"
   ]
  },
  {
   "cell_type": "code",
   "execution_count": 15,
   "id": "5aac3a8e",
   "metadata": {},
   "outputs": [
    {
     "name": "stdout",
     "output_type": "stream",
     "text": [
      "this is a father class\n",
      "this is a father class\n"
     ]
    }
   ],
   "source": [
    "# heirchical-inheritance\n",
    "class Father:\n",
    "    def display(self):\n",
    "        print('this is a father class')\n",
    "class Child1(Father):\n",
    "    def display1(self):\n",
    "        print('this is a child 1 class')\n",
    "class Child2(Father):\n",
    "    def display2(self):\n",
    "        print('this is a child 2 class')\n",
    "obj=Child1()\n",
    "obj=Child2()\n",
    "obj.display()\n",
    "obj.display()"
   ]
  },
  {
   "cell_type": "code",
   "execution_count": 12,
   "id": "8388eaf0",
   "metadata": {},
   "outputs": [
    {
     "name": "stdout",
     "output_type": "stream",
     "text": [
      "10 14 15 18\n",
      "10 14 15 0\n",
      "10 14 0 0\n",
      "10 0 0 0\n"
     ]
    }
   ],
   "source": [
    "# polymorphism##\n",
    "#method- overloading ::same class,same methods,different parameters\n",
    "\n",
    "class Method_overloading:\n",
    "    def display(self,a,b=0,c=0,d=0):\n",
    "        print(a,b,c,d)\n",
    "        \n",
    "obj=Method_overloading()\n",
    "obj.display(10,14,15,18)\n",
    "obj.display(10,14,15)\n",
    "obj.display(10,14)\n",
    "obj.display(10)"
   ]
  },
  {
   "cell_type": "code",
   "execution_count": 45,
   "id": "24c4084e",
   "metadata": {},
   "outputs": [
    {
     "name": "stdout",
     "output_type": "stream",
     "text": [
      "this is child class\n",
      "this is method overriding class\n"
     ]
    }
   ],
   "source": [
    "# method-overriding\n",
    "# different class,different parameters,same methods\n",
    "class Methodoverriding:\n",
    "    def display(self):\n",
    "        print('this is method overriding class')\n",
    "        \n",
    "class Child(Methodoverriding):\n",
    "    def display(self):\n",
    "        print('this is child class')\n",
    "        super().display()\n",
    "        \n",
    "obj=Child()\n",
    "obj.display()\n",
    "    "
   ]
  },
  {
   "cell_type": "code",
   "execution_count": 56,
   "id": "b27e562a",
   "metadata": {},
   "outputs": [
    {
     "name": "stdout",
     "output_type": "stream",
     "text": [
      "child 500 cr\n"
     ]
    }
   ],
   "source": [
    "\n",
    "#encapsulation\n",
    "\n",
    "# binding of class (methods and variables(attributes))\n",
    "# public \n",
    "# and \n",
    "# private __\n",
    "# protected _\n",
    "\n",
    "\n",
    "## _ is protected,they belongs to only family\n",
    "\n",
    "class GrandFather:\n",
    "    def __init__(self,a):\n",
    "        self._x=a\n",
    "        \n",
    "class Father(GrandFather):\n",
    "    def display1(self):\n",
    "        print(self._x)\n",
    "        \n",
    "class Child(Father):\n",
    "    def display2(self):\n",
    "        print(\"child\",self._x)\n",
    "        \n",
    "obj=Child('500 cr')\n",
    "obj.display2()"
   ]
  },
  {
   "cell_type": "code",
   "execution_count": 58,
   "id": "70b268fb",
   "metadata": {},
   "outputs": [
    {
     "ename": "AttributeError",
     "evalue": "'Child' object has no attribute '_Child__x'",
     "output_type": "error",
     "traceback": [
      "\u001b[1;31m---------------------------------------------------------------------------\u001b[0m",
      "\u001b[1;31mAttributeError\u001b[0m                            Traceback (most recent call last)",
      "\u001b[1;32m<ipython-input-58-8787a65aadc9>\u001b[0m in \u001b[0;36m<module>\u001b[1;34m\u001b[0m\n\u001b[0;32m     13\u001b[0m \u001b[1;33m\u001b[0m\u001b[0m\n\u001b[0;32m     14\u001b[0m \u001b[0mobj\u001b[0m\u001b[1;33m=\u001b[0m\u001b[0mChild\u001b[0m\u001b[1;33m(\u001b[0m\u001b[1;34m'500 cr'\u001b[0m\u001b[1;33m)\u001b[0m\u001b[1;33m\u001b[0m\u001b[1;33m\u001b[0m\u001b[0m\n\u001b[1;32m---> 15\u001b[1;33m \u001b[0mobj\u001b[0m\u001b[1;33m.\u001b[0m\u001b[0mdisplay2\u001b[0m\u001b[1;33m(\u001b[0m\u001b[1;33m)\u001b[0m\u001b[1;33m\u001b[0m\u001b[1;33m\u001b[0m\u001b[0m\n\u001b[0m",
      "\u001b[1;32m<ipython-input-58-8787a65aadc9>\u001b[0m in \u001b[0;36mdisplay2\u001b[1;34m(self)\u001b[0m\n\u001b[0;32m     10\u001b[0m \u001b[1;32mclass\u001b[0m \u001b[0mChild\u001b[0m\u001b[1;33m(\u001b[0m\u001b[0mFather\u001b[0m\u001b[1;33m)\u001b[0m\u001b[1;33m:\u001b[0m\u001b[1;33m\u001b[0m\u001b[1;33m\u001b[0m\u001b[0m\n\u001b[0;32m     11\u001b[0m     \u001b[1;32mdef\u001b[0m \u001b[0mdisplay2\u001b[0m\u001b[1;33m(\u001b[0m\u001b[0mself\u001b[0m\u001b[1;33m)\u001b[0m\u001b[1;33m:\u001b[0m\u001b[1;33m\u001b[0m\u001b[1;33m\u001b[0m\u001b[0m\n\u001b[1;32m---> 12\u001b[1;33m         \u001b[0mprint\u001b[0m\u001b[1;33m(\u001b[0m\u001b[1;34m\"child\"\u001b[0m\u001b[1;33m,\u001b[0m\u001b[0mself\u001b[0m\u001b[1;33m.\u001b[0m\u001b[0m__x\u001b[0m\u001b[1;33m)\u001b[0m\u001b[1;33m\u001b[0m\u001b[1;33m\u001b[0m\u001b[0m\n\u001b[0m\u001b[0;32m     13\u001b[0m \u001b[1;33m\u001b[0m\u001b[0m\n\u001b[0;32m     14\u001b[0m \u001b[0mobj\u001b[0m\u001b[1;33m=\u001b[0m\u001b[0mChild\u001b[0m\u001b[1;33m(\u001b[0m\u001b[1;34m'500 cr'\u001b[0m\u001b[1;33m)\u001b[0m\u001b[1;33m\u001b[0m\u001b[1;33m\u001b[0m\u001b[0m\n",
      "\u001b[1;31mAttributeError\u001b[0m: 'Child' object has no attribute '_Child__x'"
     ]
    }
   ],
   "source": [
    "## __private ,they dont belong to anyone\n",
    "class GrandFather:\n",
    "    def __init__(self,a):\n",
    "        self.__x=a\n",
    "        \n",
    "class Father(GrandFather):\n",
    "    def display1(self):\n",
    "        print(self.__x)\n",
    "        \n",
    "class Child(Father):\n",
    "    def display2(self):\n",
    "        print(\"child\",self.__x)\n",
    "        \n",
    "obj=Child('500 cr')\n",
    "obj.display2()"
   ]
  },
  {
   "cell_type": "code",
   "execution_count": 6,
   "id": "20f6f7d9",
   "metadata": {},
   "outputs": [
    {
     "name": "stdout",
     "output_type": "stream",
     "text": [
      "this is child 1200\n",
      "this is parent\n"
     ]
    }
   ],
   "source": [
    "#abstraction\n",
    "#abs method there is no body\n",
    "#abs class can not  create object\n",
    "#a class contain one or more abstract methods then it said to be a abc\n",
    "\n",
    "\n",
    "\n",
    "from abc import ABC,abstractmethod\n",
    "\n",
    "class Parent(ABC):\n",
    "    \n",
    "    @abstractmethod\n",
    "    \n",
    "    def display(self):\n",
    "        pass\n",
    "    def display1(self):\n",
    "       print('this is parent')\n",
    "\n",
    "class Child(Parent):\n",
    "    def display(self,a):\n",
    "        print('this is child',a) \n",
    "        \n",
    "obj=Child()\n",
    "obj.display(1200)\n",
    "obj.display1()"
   ]
  },
  {
   "cell_type": "code",
   "execution_count": 26,
   "id": "fc5eb278",
   "metadata": {},
   "outputs": [
    {
     "name": "stdout",
     "output_type": "stream",
     "text": [
      "Requirement already satisfied: pandas in c:\\users\\hp\\anaconda3\\lib\\site-packages (1.2.4)\n",
      "Requirement already satisfied: python-dateutil>=2.7.3 in c:\\users\\hp\\anaconda3\\lib\\site-packages (from pandas) (2.8.1)\n",
      "Requirement already satisfied: numpy>=1.16.5 in c:\\users\\hp\\anaconda3\\lib\\site-packages (from pandas) (1.20.1)\n",
      "Requirement already satisfied: pytz>=2017.3 in c:\\users\\hp\\anaconda3\\lib\\site-packages (from pandas) (2021.1)\n",
      "Requirement already satisfied: six>=1.5 in c:\\users\\hp\\anaconda3\\lib\\site-packages (from python-dateutil>=2.7.3->pandas) (1.15.0)\n",
      "Requirement already satisfied: requests in c:\\users\\hp\\anaconda3\\lib\\site-packages (2.25.1)\n",
      "Requirement already satisfied: chardet<5,>=3.0.2 in c:\\users\\hp\\anaconda3\\lib\\site-packages (from requests) (4.0.0)\n",
      "Requirement already satisfied: idna<3,>=2.5 in c:\\users\\hp\\anaconda3\\lib\\site-packages (from requests) (2.10)\n",
      "Requirement already satisfied: urllib3<1.27,>=1.21.1 in c:\\users\\hp\\anaconda3\\lib\\site-packages (from requests) (1.26.4)\n",
      "Requirement already satisfied: certifi>=2017.4.17 in c:\\users\\hp\\anaconda3\\lib\\site-packages (from requests) (2020.12.5)\n",
      "Requirement already satisfied: BeautifulSoup4 in c:\\users\\hp\\anaconda3\\lib\\site-packages (4.9.3)\n",
      "Requirement already satisfied: soupsieve>1.2 in c:\\users\\hp\\anaconda3\\lib\\site-packages (from BeautifulSoup4) (2.2.1)\n"
     ]
    }
   ],
   "source": [
    "## web -scrapping\n",
    "'''\n",
    "Web Scrapping extracts the data from websites in the unstructured format. \n",
    "It helps to collect these unstructured data and convert it in a structured form.\n",
    "'''\n",
    "\n",
    "'''\n",
    "pip:\n",
    "\n",
    "pip is the standard package manager for Python. \n",
    "It allows you to install and manage additional packages'''\n",
    "\n",
    "#installations\n",
    "!pip install pandas\n",
    "!pip install requests\n",
    "!pip install BeautifulSoup4\n",
    "\n",
    "import pandas as pd\n",
    "import requests\n",
    "from urllib import response"
   ]
  },
  {
   "cell_type": "code",
   "execution_count": 16,
   "id": "6a904fe4",
   "metadata": {},
   "outputs": [
    {
     "name": "stdout",
     "output_type": "stream",
     "text": [
      "<Response [200]>\n"
     ]
    }
   ],
   "source": [
    "response=requests.get(\"https://www.imdb.com/chart/top/\")\n",
    "print(response)"
   ]
  },
  {
   "cell_type": "code",
   "execution_count": 34,
   "id": "6408922c",
   "metadata": {},
   "outputs": [
    {
     "ename": "NameError",
     "evalue": "name 'BeautifulSoup' is not defined",
     "output_type": "error",
     "traceback": [
      "\u001b[1;31m---------------------------------------------------------------------------\u001b[0m",
      "\u001b[1;31mNameError\u001b[0m                                 Traceback (most recent call last)",
      "\u001b[1;32m<ipython-input-34-f3f082aa889c>\u001b[0m in \u001b[0;36m<module>\u001b[1;34m\u001b[0m\n\u001b[0;32m      1\u001b[0m \u001b[0mresponse\u001b[0m\u001b[1;33m=\u001b[0m\u001b[0mrequests\u001b[0m\u001b[1;33m.\u001b[0m\u001b[0mget\u001b[0m\u001b[1;33m(\u001b[0m\u001b[1;34m'https://www.imdb.com/chart/top/'\u001b[0m\u001b[1;33m)\u001b[0m\u001b[1;33m\u001b[0m\u001b[1;33m\u001b[0m\u001b[0m\n\u001b[1;32m----> 2\u001b[1;33m \u001b[0msoup\u001b[0m\u001b[1;33m=\u001b[0m\u001b[0mBeautifulSoup\u001b[0m\u001b[1;33m(\u001b[0m\u001b[0mresponse\u001b[0m\u001b[1;33m.\u001b[0m\u001b[0mcontent\u001b[0m\u001b[1;33m,\u001b[0m\u001b[1;34m'html.parser'\u001b[0m\u001b[1;33m)\u001b[0m\u001b[1;33m\u001b[0m\u001b[1;33m\u001b[0m\u001b[0m\n\u001b[0m",
      "\u001b[1;31mNameError\u001b[0m: name 'BeautifulSoup' is not defined"
     ]
    }
   ],
   "source": [
    "response=requests.get('https://www.imdb.com/chart/top/')\n",
    "soup=BeautifulSoup(response.content,'html.parser')"
   ]
  },
  {
   "cell_type": "code",
   "execution_count": 35,
   "id": "84d16aec",
   "metadata": {},
   "outputs": [
    {
     "ename": "NameError",
     "evalue": "name 'BeautifulSoup' is not defined",
     "output_type": "error",
     "traceback": [
      "\u001b[1;31m---------------------------------------------------------------------------\u001b[0m",
      "\u001b[1;31mNameError\u001b[0m                                 Traceback (most recent call last)",
      "\u001b[1;32m<ipython-input-35-2eac99920da6>\u001b[0m in \u001b[0;36m<module>\u001b[1;34m\u001b[0m\n\u001b[0;32m      1\u001b[0m \u001b[0mresponce\u001b[0m\u001b[1;33m=\u001b[0m\u001b[0mrequests\u001b[0m\u001b[1;33m.\u001b[0m\u001b[0mget\u001b[0m\u001b[1;33m(\u001b[0m\u001b[1;34m'https://www.flipkart.com/mobiles/pr?sid=tyy%2C4io&p%5B%5D=facets.brand%255B%255D%3Drealme&p%5B%5D=facets.availability%255B%255D%3DExclude%2BOut%2Bof%2BStock&param=7564&otracker=clp_metro_expandable_1_3.metroExpandable.METRO_EXPANDABLE_Shop%2BNow_mobile-phones-store_Q1PDG4YW86MF_wp3&fm=neo%2Fmerchandising&iid=M_000aa9ef-55e2-4007-b67f-187559239969_3.Q1PDG4YW86MF&ppt=hp&ppn=homepage&ssid=zprtnrni5s0000001647870368934'\u001b[0m\u001b[1;33m)\u001b[0m\u001b[1;33m\u001b[0m\u001b[1;33m\u001b[0m\u001b[0m\n\u001b[0;32m      2\u001b[0m \u001b[1;31m# print(responce) # 200 ok\u001b[0m\u001b[1;33m\u001b[0m\u001b[1;33m\u001b[0m\u001b[1;33m\u001b[0m\u001b[0m\n\u001b[1;32m----> 3\u001b[1;33m \u001b[0msoup\u001b[0m\u001b[1;33m=\u001b[0m\u001b[0mBeautifulSoup\u001b[0m\u001b[1;33m(\u001b[0m\u001b[0mresponce\u001b[0m\u001b[1;33m.\u001b[0m\u001b[0mcontent\u001b[0m\u001b[1;33m,\u001b[0m\u001b[1;34m'html.parser'\u001b[0m\u001b[1;33m)\u001b[0m\u001b[1;33m\u001b[0m\u001b[1;33m\u001b[0m\u001b[0m\n\u001b[0m\u001b[0;32m      4\u001b[0m \u001b[0mprint\u001b[0m\u001b[1;33m(\u001b[0m\u001b[0msoup\u001b[0m\u001b[1;33m.\u001b[0m\u001b[0mprettify\u001b[0m\u001b[1;33m(\u001b[0m\u001b[1;33m)\u001b[0m\u001b[1;33m)\u001b[0m\u001b[1;33m\u001b[0m\u001b[1;33m\u001b[0m\u001b[0m\n",
      "\u001b[1;31mNameError\u001b[0m: name 'BeautifulSoup' is not defined"
     ]
    }
   ],
   "source": [
    "responce=requests.get('https://www.flipkart.com/mobiles/pr?sid=tyy%2C4io&p%5B%5D=facets.brand%255B%255D%3Drealme&p%5B%5D=facets.availability%255B%255D%3DExclude%2BOut%2Bof%2BStock&param=7564&otracker=clp_metro_expandable_1_3.metroExpandable.METRO_EXPANDABLE_Shop%2BNow_mobile-phones-store_Q1PDG4YW86MF_wp3&fm=neo%2Fmerchandising&iid=M_000aa9ef-55e2-4007-b67f-187559239969_3.Q1PDG4YW86MF&ppt=hp&ppn=homepage&ssid=zprtnrni5s0000001647870368934')\n",
    "# print(responce) # 200 ok\n",
    "soup=BeautifulSoup(responce.content,'html.parser')\n",
    "print(soup.prettify())"
   ]
  },
  {
   "cell_type": "code",
   "execution_count": null,
   "id": "d743ddf4",
   "metadata": {},
   "outputs": [],
   "source": []
  },
  {
   "cell_type": "code",
   "execution_count": null,
   "id": "bc8dbd73",
   "metadata": {},
   "outputs": [],
   "source": []
  },
  {
   "cell_type": "code",
   "execution_count": null,
   "id": "61e816d1",
   "metadata": {},
   "outputs": [],
   "source": []
  },
  {
   "cell_type": "code",
   "execution_count": null,
   "id": "fad42bc2",
   "metadata": {},
   "outputs": [],
   "source": []
  },
  {
   "cell_type": "code",
   "execution_count": null,
   "id": "b1a41926",
   "metadata": {},
   "outputs": [],
   "source": []
  },
  {
   "cell_type": "code",
   "execution_count": null,
   "id": "c11728a7",
   "metadata": {},
   "outputs": [],
   "source": []
  },
  {
   "cell_type": "code",
   "execution_count": null,
   "id": "19b7cf2a",
   "metadata": {},
   "outputs": [],
   "source": []
  },
  {
   "cell_type": "code",
   "execution_count": null,
   "id": "f87418d9",
   "metadata": {},
   "outputs": [],
   "source": []
  },
  {
   "cell_type": "code",
   "execution_count": null,
   "id": "63104c28",
   "metadata": {},
   "outputs": [],
   "source": []
  },
  {
   "cell_type": "code",
   "execution_count": null,
   "id": "787158eb",
   "metadata": {},
   "outputs": [],
   "source": []
  },
  {
   "cell_type": "code",
   "execution_count": null,
   "id": "09619896",
   "metadata": {},
   "outputs": [],
   "source": []
  },
  {
   "cell_type": "code",
   "execution_count": null,
   "id": "ae0660c0",
   "metadata": {},
   "outputs": [],
   "source": []
  },
  {
   "cell_type": "code",
   "execution_count": null,
   "id": "c7e62ddc",
   "metadata": {},
   "outputs": [],
   "source": []
  },
  {
   "cell_type": "code",
   "execution_count": null,
   "id": "564db4f8",
   "metadata": {},
   "outputs": [],
   "source": []
  },
  {
   "cell_type": "code",
   "execution_count": null,
   "id": "03eacbec",
   "metadata": {},
   "outputs": [],
   "source": []
  },
  {
   "cell_type": "code",
   "execution_count": null,
   "id": "95b32494",
   "metadata": {},
   "outputs": [],
   "source": []
  },
  {
   "cell_type": "code",
   "execution_count": null,
   "id": "d66ebf95",
   "metadata": {},
   "outputs": [],
   "source": []
  },
  {
   "cell_type": "code",
   "execution_count": null,
   "id": "fd9c8afb",
   "metadata": {},
   "outputs": [],
   "source": []
  },
  {
   "cell_type": "code",
   "execution_count": null,
   "id": "ef28390b",
   "metadata": {},
   "outputs": [],
   "source": []
  },
  {
   "cell_type": "code",
   "execution_count": null,
   "id": "029b9349",
   "metadata": {},
   "outputs": [],
   "source": []
  },
  {
   "cell_type": "code",
   "execution_count": null,
   "id": "e8248d88",
   "metadata": {},
   "outputs": [],
   "source": []
  },
  {
   "cell_type": "code",
   "execution_count": null,
   "id": "8654be21",
   "metadata": {},
   "outputs": [],
   "source": []
  },
  {
   "cell_type": "code",
   "execution_count": null,
   "id": "5fd8a6d9",
   "metadata": {},
   "outputs": [],
   "source": []
  },
  {
   "cell_type": "code",
   "execution_count": null,
   "id": "77398e48",
   "metadata": {},
   "outputs": [],
   "source": []
  },
  {
   "cell_type": "code",
   "execution_count": null,
   "id": "71ed968b",
   "metadata": {},
   "outputs": [],
   "source": []
  },
  {
   "cell_type": "code",
   "execution_count": null,
   "id": "9fce7ff8",
   "metadata": {},
   "outputs": [],
   "source": []
  }
 ],
 "metadata": {
  "kernelspec": {
   "display_name": "Python 3",
   "language": "python",
   "name": "python3"
  },
  "language_info": {
   "codemirror_mode": {
    "name": "ipython",
    "version": 3
   },
   "file_extension": ".py",
   "mimetype": "text/x-python",
   "name": "python",
   "nbconvert_exporter": "python",
   "pygments_lexer": "ipython3",
   "version": "3.8.8"
  }
 },
 "nbformat": 4,
 "nbformat_minor": 5
}
