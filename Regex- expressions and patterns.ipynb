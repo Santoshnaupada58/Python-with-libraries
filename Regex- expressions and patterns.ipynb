{
 "cells": [
  {
   "cell_type": "code",
   "execution_count": 1,
   "id": "e0267dba",
   "metadata": {},
   "outputs": [],
   "source": [
    "import re\n",
    "\n",
    "### Regex - \n",
    "\n",
    "##  The Regex or Regular Expression is a way to define a pattern for searching or manipulating strings.\n",
    "##  We can use a regular expression to match, search, replace, and manipulate inside textual data\n",
    "\n",
    "### Find all\n",
    "# re.findall() method scans the regex pattern through the entire target string and returns all the matches-\n",
    "# that were found in the form of a list."
   ]
  },
  {
   "cell_type": "code",
   "execution_count": 22,
   "id": "b7098d83",
   "metadata": {},
   "outputs": [
    {
     "name": "stdout",
     "output_type": "stream",
     "text": [
      "sorting only nums ['30', '82', '88', '530002', '530046']\n"
     ]
    }
   ],
   "source": [
    "# extract the num\n",
    "\n",
    "address = \"30 82 88 daba gardens 530002 530046 visakahapatnam\"\n",
    "add_num = re.findall(r'\\d+', address)\n",
    "\n",
    "print(f'sorting only nums {add_num}')"
   ]
  },
  {
   "cell_type": "code",
   "execution_count": 21,
   "id": "47cc417d",
   "metadata": {},
   "outputs": [
    {
     "name": "stdout",
     "output_type": "stream",
     "text": [
      "sorting only nums ['30', '82', '88', '53', '00', '02', '53', '00', '46']\n"
     ]
    }
   ],
   "source": [
    "## now i want nos with 2-digit only\n",
    "# REAL LIFE APPLICATION - EXTRACTING THE PIN CODES\n",
    "\n",
    "add_dig = re.findall(r'\\d{2}', address)\n",
    "print(f'sorting only nums {add_dig}')"
   ]
  },
  {
   "cell_type": "code",
   "execution_count": 19,
   "id": "df59b987",
   "metadata": {},
   "outputs": [
    {
     "name": "stdout",
     "output_type": "stream",
     "text": [
      "sorting only nums ['530002', '530046']\n"
     ]
    }
   ],
   "source": [
    "## now i want nos with 6-digit only\n",
    "\n",
    "add_dig = re.findall(r'\\d{6}', address)\n",
    "print(f'sorting only nums {add_dig}')"
   ]
  },
  {
   "cell_type": "code",
   "execution_count": 20,
   "id": "6adb6468",
   "metadata": {},
   "outputs": [
    {
     "name": "stdout",
     "output_type": "stream",
     "text": [
      "sorting only nums ['30', '82', '88', '530002', '530046']\n"
     ]
    }
   ],
   "source": [
    "## now i want nos with 1-4 digit only\n",
    "\n",
    "add_digs = re.findall(r'\\d{1,6}', address)\n",
    "\n",
    "print(f'sorting only nums {add_digs}')"
   ]
  },
  {
   "cell_type": "code",
   "execution_count": 24,
   "id": "0e8d8eac",
   "metadata": {},
   "outputs": [],
   "source": [
    "\n",
    "k = '''\n",
    "<html>\n",
    "<head>\n",
    "<title>Current IP Address Allocations\n",
    "</title>\n",
    "</head>\n",
    "<body>\n",
    "IP Address are 172.45.78.109\n",
    "LoopBack Address: 127.0.0.1\n",
    "Computer 1: 10.67.89.101\n",
    "Computer 2: 11.67.98.102\n",
    "Computer 3: 12.68.98.102\n",
    "</body>\n",
    "</html>\n",
    "'''"
   ]
  },
  {
   "cell_type": "code",
   "execution_count": 31,
   "id": "35af0ffa",
   "metadata": {},
   "outputs": [
    {
     "name": "stdout",
     "output_type": "stream",
     "text": [
      "ip address are -: ['172.45.78', '127.0.0', '10.67.89.101', '11.67.98.102', '12.68.98.102']\n"
     ]
    }
   ],
   "source": [
    "ipk=re.findall(r'\\d{1,2}.\\d{1,2}.\\d{1,3}.\\d{1,3}',k)\n",
    "\n",
    "print(f'ip address are -: {ipk}')"
   ]
  },
  {
   "cell_type": "code",
   "execution_count": 27,
   "id": "6ff2ec63",
   "metadata": {},
   "outputs": [
    {
     "name": "stdout",
     "output_type": "stream",
     "text": [
      "ip address are -: ['10.67.89.101', '11.67.98.102']\n"
     ]
    }
   ],
   "source": [
    "### 10  0r 11\n",
    "ipk1=re.findall(r\"1[0-1]\\.\\d{1,3}\\.\\d{1,3}\\.\\d{1,3}\", k)\n",
    "print(f'ip address are -: {ipk1}')"
   ]
  },
  {
   "cell_type": "code",
   "execution_count": 32,
   "id": "282781a8",
   "metadata": {},
   "outputs": [
    {
     "name": "stdout",
     "output_type": "stream",
     "text": [
      "ip address are -: ['10.67.89.101', '11.67.98.102']\n"
     ]
    }
   ],
   "source": [
    "### 10  0r 11\n",
    "ipk1=re.findall(r\"1[01]\\.\\d{1,3}\\.\\d{1,3}\\.\\d{1,3}\", k)\n",
    "print(f'ip address are -: {ipk1}')"
   ]
  },
  {
   "cell_type": "code",
   "execution_count": 33,
   "id": "8993325f",
   "metadata": {},
   "outputs": [
    {
     "name": "stdout",
     "output_type": "stream",
     "text": [
      "ip address are -: ['10.67.89.101']\n"
     ]
    }
   ],
   "source": [
    "### 10  only\n",
    "ipk2=re.findall(r\"10\\.\\d{1,3}\\.\\d{1,3}\\.\\d{1,3}\", k)\n",
    "print(f'ip address are -: {ipk2}')"
   ]
  },
  {
   "cell_type": "code",
   "execution_count": 37,
   "id": "bb948667",
   "metadata": {},
   "outputs": [
    {
     "name": "stdout",
     "output_type": "stream",
     "text": [
      "Find all matches for format Month day\n",
      " Month Date format - ['Sep 10', 'August 10', 'Dec 22']\n",
      " Date format - ['10', '10', '22']\n",
      " tuple of Month & Date format - [('Sep', '10'), ('August', '10'), ('Dec', '22')]\n"
     ]
    }
   ],
   "source": [
    "print(\"Find all matches for format Month day\")\n",
    "\n",
    "matches = re.findall(r\"[A-Z][a-z]+\\s\\d{1,2}\", \"These are the match dates Sep 10, August 10, Dec 22\")\n",
    "print(f' Month Date format - {matches}')\n",
    "\n",
    "matches = re.findall(r\"[A-Z][a-z]+\\s(\\d{1,2})\", \"These are the match dates Sep 10, August 10, Dec 22\")\n",
    "print(f' Date format - {matches}')\n",
    "\n",
    "matches = re.findall(r\"([A-Z][a-z]+)\\s(\\d{1,2})\", \"These are the match dates Sep 10, August 10, Dec 22\")\n",
    "print(f' tuple of Month & Date format - {matches}')"
   ]
  },
  {
   "cell_type": "code",
   "execution_count": 42,
   "id": "fc99d0db",
   "metadata": {},
   "outputs": [
    {
     "name": "stdout",
     "output_type": "stream",
     "text": [
      "['poetry23@gamil.com', 'p23@gmail.com', '44@gmail.com', '56p@gmail.com']\n"
     ]
    }
   ],
   "source": [
    "p= \"poetry.com ,poetry23@gamil.com ,p23@gmail.com, 44@gmail.com, 56p@gmail.com\"\n",
    "\n",
    "emails = re.findall(r\"\\w+@\\w+\\.\\w+\", p)\n",
    "print(emails)"
   ]
  },
  {
   "cell_type": "code",
   "execution_count": 47,
   "id": "0d5c8000",
   "metadata": {},
   "outputs": [
    {
     "name": "stdout",
     "output_type": "stream",
     "text": [
      "starts with alphabets only ['p@gmail.com']\n"
     ]
    }
   ],
   "source": [
    "emails = re.findall(r\"[A-Za-z]+@\\w+\\.\\w+\", p)\n",
    "print(f'starts with alphabets only {emails}')\n"
   ]
  },
  {
   "cell_type": "code",
   "execution_count": 55,
   "id": "ed2e9be9",
   "metadata": {},
   "outputs": [
    {
     "name": "stdout",
     "output_type": "stream",
     "text": [
      "['41', '453']\n"
     ]
    }
   ],
   "source": [
    "# findall - digit 0ne or more\n",
    "\n",
    "s1 = 'santu 41 kumar in 453 deed'\n",
    "n = re.findall('\\d+',s1)\n",
    "print(n)"
   ]
  },
  {
   "cell_type": "code",
   "execution_count": 56,
   "id": "48120b00",
   "metadata": {},
   "outputs": [
    {
     "name": "stdout",
     "output_type": "stream",
     "text": [
      "['s', 'a', 'n', 't', 'u', ' ', ' ', 'k', 'u', 'm', 'a', 'r', ' ', 'i', 'n', ' ', ' ', 'd', 'e', 'e', 'd']\n"
     ]
    }
   ],
   "source": [
    "n= re.findall('\\D',s1)  # findall - except digit\n",
    "print(n)"
   ]
  },
  {
   "cell_type": "code",
   "execution_count": 57,
   "id": "efe83310",
   "metadata": {},
   "outputs": [
    {
     "name": "stdout",
     "output_type": "stream",
     "text": [
      "['s', 'a', 'n', 't', 'u', ' ', ' ', 'k', 'u', 'm', 'a', 'r', ' ', 'i', 'n', ' ', ' ', 'd', 'e', 'e', 'd']\n"
     ]
    }
   ],
   "source": [
    "p=re.findall('\\w',s1) #findall - words ( removes spaces)\n",
    "print(n)"
   ]
  },
  {
   "cell_type": "code",
   "execution_count": 58,
   "id": "0d25f0e9",
   "metadata": {},
   "outputs": [
    {
     "name": "stdout",
     "output_type": "stream",
     "text": [
      "['2', '3', '3', '2']\n"
     ]
    }
   ],
   "source": [
    "# findall - sets - [23] one digit\n",
    "s1 = 'Friend in need is 23 friend in 453214 deed'\n",
    "n= re.findall('[23]',s1) # 2,3\n",
    "print(n)"
   ]
  },
  {
   "cell_type": "code",
   "execution_count": null,
   "id": "9623cdb5",
   "metadata": {},
   "outputs": [],
   "source": [
    "### search\n",
    "\n",
    "#The re.search() returns only the first match to the pattern from the target string"
   ]
  },
  {
   "cell_type": "code",
   "execution_count": 75,
   "id": "fc797c07",
   "metadata": {},
   "outputs": [
    {
     "name": "stdout",
     "output_type": "stream",
     "text": [
      "santu\n"
     ]
    }
   ],
   "source": [
    "target_string = \"santu is a Python developer \\n santu also knows ML and AI\"\n",
    "\n",
    "# caret (^) matches at the beginning of a string\n",
    "result = re.search(r\"^\\w{5}\", target_string)\n",
    "print(result.group())"
   ]
  },
  {
   "cell_type": "code",
   "execution_count": 78,
   "id": "dc416493",
   "metadata": {},
   "outputs": [
    {
     "name": "stdout",
     "output_type": "stream",
     "text": [
      "AI\n"
     ]
    }
   ],
   "source": [
    "target_string = \"santu is a Python developer \\n santu also knows ML and AI\"\n",
    "\n",
    "# caret (^) matches at the beginning of a string\n",
    "result = re.search(r\"\\w{2}$\", target_string)\n",
    "print(result.group())"
   ]
  },
  {
   "cell_type": "code",
   "execution_count": 81,
   "id": "29ef9f82",
   "metadata": {},
   "outputs": [
    {
     "name": "stdout",
     "output_type": "stream",
     "text": [
      "type is object <re.Match object; span=(0, 1), match='i'>\n"
     ]
    }
   ],
   "source": [
    "st = 'i dont no anything bcz i dont want to'\n",
    "\n",
    "match_object = re.search('i',st)\n",
    "print(f'type is object {match_object}')"
   ]
  },
  {
   "cell_type": "code",
   "execution_count": 82,
   "id": "dc4964fe",
   "metadata": {},
   "outputs": [
    {
     "name": "stdout",
     "output_type": "stream",
     "text": [
      "type is object <re.Match object; span=(19, 22), match='bcz'>\n"
     ]
    }
   ],
   "source": [
    "match_object1 = re.search('bcz',st)\n",
    "print(f'type is object {match_object1}')"
   ]
  },
  {
   "cell_type": "code",
   "execution_count": 83,
   "id": "b8661a4a",
   "metadata": {},
   "outputs": [
    {
     "data": {
      "text/plain": [
       "0"
      ]
     },
     "execution_count": 83,
     "metadata": {},
     "output_type": "execute_result"
    }
   ],
   "source": [
    "match_object.start()"
   ]
  },
  {
   "cell_type": "code",
   "execution_count": 84,
   "id": "54800a0b",
   "metadata": {},
   "outputs": [
    {
     "data": {
      "text/plain": [
       "19"
      ]
     },
     "execution_count": 84,
     "metadata": {},
     "output_type": "execute_result"
    }
   ],
   "source": [
    "match_object1.start()"
   ]
  },
  {
   "cell_type": "code",
   "execution_count": 85,
   "id": "106b7c52",
   "metadata": {},
   "outputs": [
    {
     "data": {
      "text/plain": [
       "(19, 22)"
      ]
     },
     "execution_count": 85,
     "metadata": {},
     "output_type": "execute_result"
    }
   ],
   "source": [
    "match_object1.span()"
   ]
  },
  {
   "cell_type": "code",
   "execution_count": 86,
   "id": "f9e7ac28",
   "metadata": {},
   "outputs": [
    {
     "data": {
      "text/plain": [
       "<re.Match object; span=(10, 13), match='car'>"
      ]
     },
     "execution_count": 86,
     "metadata": {},
     "output_type": "execute_result"
    }
   ],
   "source": [
    "str  = 'apple bat car dog ear fat ghost'\n",
    "\n",
    "info = re.search('car', str)\n",
    "info"
   ]
  },
  {
   "cell_type": "code",
   "execution_count": 88,
   "id": "7560cff7",
   "metadata": {},
   "outputs": [
    {
     "name": "stdout",
     "output_type": "stream",
     "text": [
      "fat is there\n"
     ]
    }
   ],
   "source": [
    "if re.search('fat', str):\n",
    "    print('fat is there')"
   ]
  },
  {
   "cell_type": "code",
   "execution_count": 89,
   "id": "371d0695",
   "metadata": {},
   "outputs": [
    {
     "name": "stdout",
     "output_type": "stream",
     "text": [
      "he is \r",
      "rr\n"
     ]
    },
    {
     "data": {
      "text/plain": [
       "<re.Match object; span=(6, 9), match='\\rrr'>"
      ]
     },
     "execution_count": 89,
     "metadata": {},
     "output_type": "execute_result"
    }
   ],
   "source": [
    "str = 'he is \\rrr'\n",
    "\n",
    "print(str)\n",
    "\n",
    "re.search(r'\\rrr',str)"
   ]
  },
  {
   "cell_type": "code",
   "execution_count": null,
   "id": "e5fce08a",
   "metadata": {},
   "outputs": [],
   "source": [
    "### split\n",
    "'''re.split() method split the string by the occurrences of the regex pattern, returning\n",
    "a list containing the resulting substrings.'''"
   ]
  },
  {
   "cell_type": "code",
   "execution_count": 91,
   "id": "d683035d",
   "metadata": {},
   "outputs": [
    {
     "data": {
      "text/plain": [
       "['i', 'dont', 'no', 'anything', 'bcz', 'i', 'dont', 'want', 'to']"
      ]
     },
     "execution_count": 91,
     "metadata": {},
     "output_type": "execute_result"
    }
   ],
   "source": [
    "st = 'i dont no anything bcz i dont want to'\n",
    "r = re.split(' ',st)\n",
    "r"
   ]
  },
  {
   "cell_type": "code",
   "execution_count": 93,
   "id": "c9cb595f",
   "metadata": {},
   "outputs": [
    {
     "data": {
      "text/plain": [
       "['', ' dont no anyth', 'ng bcz ', ' dont want to']"
      ]
     },
     "execution_count": 93,
     "metadata": {},
     "output_type": "execute_result"
    }
   ],
   "source": [
    "r1 = re.split('i',st)\n",
    "r1"
   ]
  },
  {
   "cell_type": "code",
   "execution_count": 95,
   "id": "bfa03908",
   "metadata": {},
   "outputs": [
    {
     "data": {
      "text/plain": [
       "['', ' dont no anyth', 'ng bcz i dont want to']"
      ]
     },
     "execution_count": 95,
     "metadata": {},
     "output_type": "execute_result"
    }
   ],
   "source": [
    "# max split\n",
    "r12 = re.split('i',st,2)\n",
    "r12 "
   ]
  },
  {
   "cell_type": "code",
   "execution_count": 100,
   "id": "5f1685a2",
   "metadata": {},
   "outputs": [
    {
     "name": "stdout",
     "output_type": "stream",
     "text": [
      "the value of s               : Welcome to   Regex    Programming   using   Python\n",
      "Regex Split value of s        :['Welcome', 'to', '', '', 'Regex', '', '', '', 'Programming', '', '', 'using', '', '', 'Python']\n",
      "Regex Split value of s        :['Welcome', 'to', 'Regex', 'Programming', 'using', 'Python']\n"
     ]
    }
   ],
   "source": [
    "s = \"Welcome to   Regex    Programming   using   Python\"\n",
    "\n",
    "print(f'the value of s               : {s}')\n",
    "\n",
    "Val1 = re.split(r'\\s', s)\n",
    "                                                  #\\s only one space\n",
    "print(f'Regex Split value of s        :{Val1}')\n",
    "\n",
    "Val2 = re.split(r'\\s+', s)\n",
    "                                                   #\\s+ space one or more\n",
    "print(f'Regex Split value of s        :{Val2}')"
   ]
  },
  {
   "cell_type": "code",
   "execution_count": null,
   "id": "4fac2b7d",
   "metadata": {},
   "outputs": [],
   "source": [
    "'''sub - substitute\n",
    "\n",
    "    * sub('old pattern','new pattern',source_str)'''"
   ]
  },
  {
   "cell_type": "code",
   "execution_count": 103,
   "id": "79673129",
   "metadata": {},
   "outputs": [
    {
     "data": {
      "text/plain": [
       "'I dont no anythIng bcz I dont want to'"
      ]
     },
     "execution_count": 103,
     "metadata": {},
     "output_type": "execute_result"
    }
   ],
   "source": [
    "sb = re.sub('i','I',st)\n",
    "sb"
   ]
  },
  {
   "cell_type": "code",
   "execution_count": 104,
   "id": "a67990de",
   "metadata": {},
   "outputs": [
    {
     "data": {
      "text/plain": [
       "'I dont no anythIng bcz i dont want to'"
      ]
     },
     "execution_count": 104,
     "metadata": {},
     "output_type": "execute_result"
    }
   ],
   "source": [
    "# max no of occurances to be substituted\n",
    "sb1 = re.sub('i','I',st,2)\n",
    "sb1"
   ]
  },
  {
   "cell_type": "code",
   "execution_count": null,
   "id": "8cfd5038",
   "metadata": {},
   "outputs": [],
   "source": [
    "### Compile\n",
    "The re.compile() method changed the string pattern into a re.Pattern object that we can work upon."
   ]
  },
  {
   "cell_type": "code",
   "execution_count": 106,
   "id": "01a750a1",
   "metadata": {},
   "outputs": [
    {
     "data": {
      "text/plain": [
       "re.compile(r'[h]og', re.UNICODE)"
      ]
     },
     "execution_count": 106,
     "metadata": {},
     "output_type": "execute_result"
    }
   ],
   "source": [
    "san = 'fog hog jog log '\n",
    "reg = re.compile('[h]og')\n",
    "reg"
   ]
  },
  {
   "cell_type": "code",
   "execution_count": 107,
   "id": "f4f99a08",
   "metadata": {},
   "outputs": [
    {
     "data": {
      "text/plain": [
       "'fog FOOD jog log '"
      ]
     },
     "execution_count": 107,
     "metadata": {},
     "output_type": "execute_result"
    }
   ],
   "source": [
    "rplce = reg.sub('FOOD',san)\n",
    "rplce"
   ]
  },
  {
   "cell_type": "code",
   "execution_count": null,
   "id": "9a688ad6",
   "metadata": {},
   "outputs": [],
   "source": [
    "### working with white spaces"
   ]
  },
  {
   "cell_type": "code",
   "execution_count": 109,
   "id": "87aa300f",
   "metadata": {},
   "outputs": [
    {
     "data": {
      "text/plain": [
       "'sun rises\\nin the\\neast\\n'"
      ]
     },
     "execution_count": 109,
     "metadata": {},
     "output_type": "execute_result"
    }
   ],
   "source": [
    "w = '''sun rises\n",
    "in the\n",
    "east\n",
    "'''\n",
    "w"
   ]
  },
  {
   "cell_type": "code",
   "execution_count": 110,
   "id": "873c1b8e",
   "metadata": {},
   "outputs": [
    {
     "data": {
      "text/plain": [
       "'sun rises in the east '"
      ]
     },
     "execution_count": 110,
     "metadata": {},
     "output_type": "execute_result"
    }
   ],
   "source": [
    "str = re.sub('\\n',' ',w)\n",
    "str"
   ]
  },
  {
   "cell_type": "code",
   "execution_count": 111,
   "id": "32fae5c3",
   "metadata": {},
   "outputs": [
    {
     "data": {
      "text/plain": [
       "'sun rises in the east '"
      ]
     },
     "execution_count": 111,
     "metadata": {},
     "output_type": "execute_result"
    }
   ],
   "source": [
    "# other method using compile\n",
    "\n",
    "comp = re.compile('\\n')\n",
    "\n",
    "new =comp.sub(' ',w)\n",
    "new"
   ]
  },
  {
   "cell_type": "code",
   "execution_count": null,
   "id": "c4f50cd4",
   "metadata": {},
   "outputs": [],
   "source": [
    "#'keep the blue flag flying high chelsa '\n",
    "\n",
    "* \\b : backspace\n",
    "* \\f : formfeed\n",
    "* \\r: carriage return\n",
    "* \\t: tab\n",
    "* \\v:vertical"
   ]
  },
  {
   "cell_type": "code",
   "execution_count": 113,
   "id": "43b95e95",
   "metadata": {},
   "outputs": [
    {
     "data": {
      "text/plain": [
       "['123-122-7899']"
      ]
     },
     "execution_count": 113,
     "metadata": {},
     "output_type": "execute_result"
    }
   ],
   "source": [
    "p = ''' \n",
    "888-555-888-000\n",
    "123-122-78999\n",
    "111-123-23\n",
    "67-7890-2019\n",
    "'''\n",
    "# 3 digit @ start & middle, end -4 digit\n",
    "\n",
    "reg = re.findall(r'\\d{3}\\-\\d{3}\\-\\d{4}',p)\n",
    "reg"
   ]
  },
  {
   "cell_type": "code",
   "execution_count": null,
   "id": "e52daadb",
   "metadata": {},
   "outputs": [],
   "source": [
    "### Match\n",
    "'''re.match() method looks for the regex pattern only at the beginning of the target string and\n",
    "returns match object if match found; otherwise, it will return None.'''\n"
   ]
  },
  {
   "cell_type": "code",
   "execution_count": 116,
   "id": "552f3032",
   "metadata": {},
   "outputs": [
    {
     "name": "stdout",
     "output_type": "stream",
     "text": [
      "None\n",
      "science\n",
      "['science', 'pandas']\n"
     ]
    }
   ],
   "source": [
    "import re\n",
    "\n",
    "str= \"santu loves data science and pandas\"\n",
    "                                          # Match six-letter word\n",
    "pattern = r\"\\w{6,7}\"\n",
    "\n",
    "                                          # match() method\n",
    "result = re.match(pattern, str)\n",
    "print(result)\n",
    "\n",
    "\n",
    "                                           # search() method\n",
    "result = re.search(pattern, str)\n",
    "print(result.group()) \n",
    "\n",
    "\n",
    "                                          # findall() method\n",
    "result = re.findall(pattern, str)\n",
    "print(result) \n"
   ]
  },
  {
   "cell_type": "code",
   "execution_count": null,
   "id": "f70569ea",
   "metadata": {},
   "outputs": [],
   "source": []
  },
  {
   "cell_type": "code",
   "execution_count": null,
   "id": "c354f425",
   "metadata": {},
   "outputs": [],
   "source": []
  },
  {
   "cell_type": "code",
   "execution_count": null,
   "id": "5fd2d342",
   "metadata": {},
   "outputs": [],
   "source": []
  },
  {
   "cell_type": "code",
   "execution_count": null,
   "id": "d9bbbc4d",
   "metadata": {},
   "outputs": [],
   "source": []
  },
  {
   "cell_type": "code",
   "execution_count": null,
   "id": "9a98d786",
   "metadata": {},
   "outputs": [],
   "source": []
  },
  {
   "cell_type": "code",
   "execution_count": null,
   "id": "4065f103",
   "metadata": {},
   "outputs": [],
   "source": []
  },
  {
   "cell_type": "code",
   "execution_count": null,
   "id": "94f360b7",
   "metadata": {},
   "outputs": [],
   "source": []
  },
  {
   "cell_type": "code",
   "execution_count": null,
   "id": "4c828689",
   "metadata": {},
   "outputs": [],
   "source": []
  },
  {
   "cell_type": "code",
   "execution_count": null,
   "id": "b210b5f5",
   "metadata": {},
   "outputs": [],
   "source": []
  }
 ],
 "metadata": {
  "kernelspec": {
   "display_name": "Python 3",
   "language": "python",
   "name": "python3"
  },
  "language_info": {
   "codemirror_mode": {
    "name": "ipython",
    "version": 3
   },
   "file_extension": ".py",
   "mimetype": "text/x-python",
   "name": "python",
   "nbconvert_exporter": "python",
   "pygments_lexer": "ipython3",
   "version": "3.8.8"
  }
 },
 "nbformat": 4,
 "nbformat_minor": 5
}
