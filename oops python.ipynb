{
 "cells": [
  {
   "cell_type": "code",
   "execution_count": 14,
   "id": "e984699a",
   "metadata": {},
   "outputs": [
    {
     "name": "stdout",
     "output_type": "stream",
     "text": [
      "['False', 'None', 'True', 'and', 'as', 'assert', 'async', 'await', 'break', 'class', 'continue', 'def', 'del', 'elif', 'else', 'except', 'finally', 'for', 'from', 'global', 'if', 'import', 'in', 'is', 'lambda', 'nonlocal', 'not', 'or', 'pass', 'raise', 'return', 'try', 'while', 'with', 'yield']\n"
     ]
    }
   ],
   "source": [
    "import keyword\n",
    "print(keyword.kwlist)"
   ]
  },
  {
   "cell_type": "code",
   "execution_count": 15,
   "id": "6bc038bc",
   "metadata": {},
   "outputs": [],
   "source": [
    "## list compression"
   ]
  },
  {
   "cell_type": "code",
   "execution_count": 16,
   "id": "592e4b75",
   "metadata": {},
   "outputs": [
    {
     "name": "stdout",
     "output_type": "stream",
     "text": [
      "[0, 2, 4, 6, 8, 10, 12, 14, 16, 18]\n"
     ]
    },
    {
     "data": {
      "text/plain": [
       "[1, 3, 5, 7, 9, 11, 13, 15, 17, 19]"
      ]
     },
     "execution_count": 16,
     "metadata": {},
     "output_type": "execute_result"
    }
   ],
   "source": [
    "even=[x for x in range(20) if x%2 == 0]\n",
    "print(even)\n",
    "odd=[x for x in range(20) if x%2 == 1]\n",
    "odd\n"
   ]
  },
  {
   "cell_type": "code",
   "execution_count": 17,
   "id": "7fd7a714",
   "metadata": {},
   "outputs": [],
   "source": [
    "# multiple"
   ]
  },
  {
   "cell_type": "code",
   "execution_count": 18,
   "id": "a50350f1",
   "metadata": {},
   "outputs": [
    {
     "data": {
      "text/plain": [
       "[4, 8, 12, 20]"
      ]
     },
     "execution_count": 18,
     "metadata": {},
     "output_type": "execute_result"
    }
   ],
   "source": [
    "list=[1,2,3,5]\n",
    "newlist=[x*4 for x in list]\n",
    "newlist"
   ]
  },
  {
   "cell_type": "code",
   "execution_count": 19,
   "id": "85f9c505",
   "metadata": {},
   "outputs": [
    {
     "name": "stdout",
     "output_type": "stream",
     "text": [
      "6\n"
     ]
    }
   ],
   "source": [
    "h= lambda a,b :a+b                     # lambda function\n",
    "print(h(2,4))"
   ]
  },
  {
   "cell_type": "code",
   "execution_count": 20,
   "id": "5ee2fe4e",
   "metadata": {},
   "outputs": [],
   "source": [
    "# class and objects"
   ]
  },
  {
   "cell_type": "code",
   "execution_count": 21,
   "id": "bfb9ac2e",
   "metadata": {},
   "outputs": [
    {
     "name": "stdout",
     "output_type": "stream",
     "text": [
      "brand: apple\n",
      "cost: 90000\n",
      "ram: 12gb\n",
      "camera: 48mp\n"
     ]
    }
   ],
   "source": [
    "class mobile:\n",
    "    def __init__ (self,brand,cost,ram,camera):\n",
    "        self.brand=brand\n",
    "        self.cost=cost\n",
    "        self.ram=ram\n",
    "        self.camera=camera\n",
    "        \n",
    "    def display (self):\n",
    "        print('brand:',self.brand)\n",
    "        print('cost:',self.cost)\n",
    "        print('ram:',self.ram)\n",
    "        print('camera:',self.camera)\n",
    "        \n",
    "obj=mobile('apple','90000','12gb','48mp')\n",
    "obj.display()"
   ]
  },
  {
   "cell_type": "code",
   "execution_count": 22,
   "id": "86a99514",
   "metadata": {},
   "outputs": [
    {
     "name": "stdout",
     "output_type": "stream",
     "text": [
      "brand: apple\n",
      "cost: 90000\n",
      "ram: 12gb\n",
      "camera: 48mp\n",
      "-------------------\n",
      "brand: samsung\n",
      "cost: 50000\n",
      "ram: 8gb\n",
      "camera: 64mp\n"
     ]
    }
   ],
   "source": [
    "class mobile:\n",
    "    def __init__ (self,brand,cost,ram,camera):\n",
    "        self.brand=brand\n",
    "        self.cost=cost\n",
    "        self.ram=ram\n",
    "        self.camera=camera\n",
    "        \n",
    "    def display (self):\n",
    "        print('brand:',self.brand)\n",
    "        print('cost:',self.cost)\n",
    "        print('ram:',self.ram)\n",
    "        print('camera:',self.camera)\n",
    "        \n",
    "obj=mobile('apple','90000','12gb','48mp')\n",
    "obj.display()\n",
    "print('-------------------')\n",
    "obj1=mobile('samsung','50000','8gb','64mp')\n",
    "obj1.display()\n"
   ]
  },
  {
   "cell_type": "code",
   "execution_count": 23,
   "id": "c8ee081e",
   "metadata": {},
   "outputs": [
    {
     "name": "stdout",
     "output_type": "stream",
     "text": [
      "iam apple\n",
      "method\n"
     ]
    }
   ],
   "source": [
    "class apple:\n",
    "    def __init__ (self):\n",
    "        print('iam apple')\n",
    "    def display(self):\n",
    "        print('method')\n",
    "obj=apple()\n",
    "obj.display()"
   ]
  },
  {
   "cell_type": "code",
   "execution_count": 26,
   "id": "163138cf",
   "metadata": {},
   "outputs": [
    {
     "name": "stdout",
     "output_type": "stream",
     "text": [
      "child class\n"
     ]
    }
   ],
   "source": [
    "## inheritance\n",
    "\n",
    "class parent:\n",
    "    def func1(self):                                 # single inheri....\n",
    "        print('parent class')\n",
    "class child(parent):\n",
    "    def func2(self):\n",
    "        print('child class')\n",
    "obj=child()\n",
    "obj.func2()"
   ]
  },
  {
   "cell_type": "code",
   "execution_count": 34,
   "id": "f8922d94",
   "metadata": {},
   "outputs": [
    {
     "name": "stdout",
     "output_type": "stream",
     "text": [
      "parent class\n",
      "child class\n",
      "grand child\n"
     ]
    }
   ],
   "source": [
    "## inheritance\n",
    "\n",
    "class parent:\n",
    "    def func1(self):                                 # multi level inheri....\n",
    "        print('parent class')\n",
    "        \n",
    "class child(parent):\n",
    "    def func2(self):\n",
    "        print('child class')\n",
    "        \n",
    "class grandchild(child):\n",
    "    def func3(self):\n",
    "        print('grand child')\n",
    "        \n",
    "obj=grandchild()\n",
    "obj.func1()\n",
    "obj.func2()\n",
    "obj.func3()"
   ]
  },
  {
   "cell_type": "code",
   "execution_count": 39,
   "id": "c3b9c10b",
   "metadata": {},
   "outputs": [
    {
     "name": "stdout",
     "output_type": "stream",
     "text": [
      "parent class\n",
      "child2 class\n"
     ]
    }
   ],
   "source": [
    "## inheritance\n",
    "\n",
    "class parent:\n",
    "    def func1(self):                                 # heirchical inheri....\n",
    "        print('parent class')\n",
    "        \n",
    "class child1(parent):\n",
    "    def func2(self):\n",
    "        print('child1 class')\n",
    "        \n",
    "class child2(parent):\n",
    "    def func3(self):\n",
    "        print('child2 class')\n",
    "        \n",
    "obj=child2()\n",
    "obj.func1()\n",
    "obj.func3()"
   ]
  },
  {
   "cell_type": "code",
   "execution_count": 43,
   "id": "da57ebd3",
   "metadata": {},
   "outputs": [
    {
     "name": "stdout",
     "output_type": "stream",
     "text": [
      "father class\n",
      "mother class\n",
      "child class\n"
     ]
    }
   ],
   "source": [
    "## inheritance\n",
    "\n",
    "class father:\n",
    "    def func1(self):                                 # multiple inheri....\n",
    "        print('father class')\n",
    "        \n",
    "class mother:\n",
    "    def func2(self):\n",
    "        print('mother class')\n",
    "        \n",
    "class child(father,mother):        #logic here\n",
    "    def func3(self):\n",
    "        print('child class')\n",
    "        \n",
    "obj=child()\n",
    "obj.func1()\n",
    "obj.func2()\n",
    "obj.func3()"
   ]
  },
  {
   "cell_type": "code",
   "execution_count": 63,
   "id": "4d2a5138",
   "metadata": {},
   "outputs": [
    {
     "name": "stdout",
     "output_type": "stream",
     "text": [
      "banana class\n"
     ]
    }
   ],
   "source": [
    "## inheritance\n",
    "\n",
    "class A:\n",
    "    def __init__ (self):                                 # soper keywords inheri....\n",
    "        print('apple class')\n",
    "    def func1(self):\n",
    "        print('father')\n",
    "        \n",
    "class B:\n",
    "    def __init__ (self):\n",
    "        print('banana class')\n",
    "        super(). __init__()\n",
    "    def func2(self):\n",
    "        print('mother')\n",
    "        \n",
    "obj=B()\n"
   ]
  },
  {
   "cell_type": "code",
   "execution_count": 25,
   "id": "76a54a24",
   "metadata": {},
   "outputs": [
    {
     "data": {
      "text/plain": [
       "10"
      ]
     },
     "execution_count": 25,
     "metadata": {},
     "output_type": "execute_result"
    }
   ],
   "source": [
    "## polymorphism           \n",
    "class C:                  #same function                 ## method over loading ,\n",
    "    def sum(self,a,b):    #same classes\n",
    "        return a+b        #different parameters\n",
    "    def sum(self,a,b,c=0):\n",
    "        return a+b+c\n",
    "obj=C()\n",
    "obj.sum(2,8)\n"
   ]
  },
  {
   "cell_type": "code",
   "execution_count": 26,
   "id": "05b8172a",
   "metadata": {},
   "outputs": [
    {
     "data": {
      "text/plain": [
       "'this is class b'"
      ]
     },
     "execution_count": 26,
     "metadata": {},
     "output_type": "execute_result"
    }
   ],
   "source": [
    "class A:                              # different classes\n",
    "    def display(self):                #different  parameters     #method over riding\n",
    "        return \"this is class a\"       # same functions\n",
    "class B(A):\n",
    "    def display(self):\n",
    "        return \"this is class b\"\n",
    "        \n",
    "obj=B()\n",
    "obj.display()"
   ]
  },
  {
   "cell_type": "code",
   "execution_count": 39,
   "id": "2ef51a9a",
   "metadata": {},
   "outputs": [
    {
     "name": "stdout",
     "output_type": "stream",
     "text": [
      "a= 22\n",
      "b= 55\n"
     ]
    }
   ],
   "source": [
    "### encapsulation \n",
    "class A:\n",
    "    def __init__ (self,a,b):\n",
    "        self.__a=a                         # private\n",
    "        self.__b=b\n",
    "    def display(self):\n",
    "        print('a=',self.__a)\n",
    "        print('b=',self.__b)\n",
    "obj=A(22,55)\n",
    "obj.display()\n"
   ]
  },
  {
   "cell_type": "code",
   "execution_count": 56,
   "id": "2993143c",
   "metadata": {},
   "outputs": [
    {
     "ename": "AttributeError",
     "evalue": "'B' object has no attribute '_a'",
     "output_type": "error",
     "traceback": [
      "\u001b[1;31m---------------------------------------------------------------------------\u001b[0m",
      "\u001b[1;31mAttributeError\u001b[0m                            Traceback (most recent call last)",
      "\u001b[1;32m<ipython-input-56-a4484c278eb7>\u001b[0m in \u001b[0;36m<module>\u001b[1;34m\u001b[0m\n\u001b[0;32m     10\u001b[0m         \u001b[0mprint\u001b[0m\u001b[1;33m(\u001b[0m\u001b[1;34m'b='\u001b[0m\u001b[1;33m,\u001b[0m\u001b[0mself\u001b[0m\u001b[1;33m.\u001b[0m\u001b[0m_b\u001b[0m\u001b[1;33m)\u001b[0m\u001b[1;33m\u001b[0m\u001b[1;33m\u001b[0m\u001b[0m\n\u001b[0;32m     11\u001b[0m \u001b[0mobj\u001b[0m\u001b[1;33m=\u001b[0m\u001b[0mB\u001b[0m\u001b[1;33m(\u001b[0m\u001b[1;33m)\u001b[0m\u001b[1;33m\u001b[0m\u001b[1;33m\u001b[0m\u001b[0m\n\u001b[1;32m---> 12\u001b[1;33m \u001b[0mobj\u001b[0m\u001b[1;33m.\u001b[0m\u001b[0mdisplay\u001b[0m\u001b[1;33m(\u001b[0m\u001b[1;33m)\u001b[0m\u001b[1;33m\u001b[0m\u001b[1;33m\u001b[0m\u001b[0m\n\u001b[0m\u001b[0;32m     13\u001b[0m \u001b[1;33m\u001b[0m\u001b[0m\n",
      "\u001b[1;32m<ipython-input-56-a4484c278eb7>\u001b[0m in \u001b[0;36mdisplay\u001b[1;34m(self)\u001b[0m\n\u001b[0;32m      7\u001b[0m       \u001b[0mA\u001b[0m\u001b[1;33m.\u001b[0m\u001b[0m_init_\u001b[0m\u001b[1;33m(\u001b[0m\u001b[0mself\u001b[0m\u001b[1;33m)\u001b[0m\u001b[1;33m\u001b[0m\u001b[1;33m\u001b[0m\u001b[0m\n\u001b[0;32m      8\u001b[0m     \u001b[1;32mdef\u001b[0m \u001b[0mdisplay\u001b[0m\u001b[1;33m(\u001b[0m\u001b[0mself\u001b[0m\u001b[1;33m)\u001b[0m\u001b[1;33m:\u001b[0m\u001b[1;33m\u001b[0m\u001b[1;33m\u001b[0m\u001b[0m\n\u001b[1;32m----> 9\u001b[1;33m         \u001b[0mprint\u001b[0m\u001b[1;33m(\u001b[0m\u001b[1;34m'a='\u001b[0m\u001b[1;33m,\u001b[0m\u001b[0mself\u001b[0m\u001b[1;33m.\u001b[0m\u001b[0m_a\u001b[0m\u001b[1;33m)\u001b[0m\u001b[1;33m\u001b[0m\u001b[1;33m\u001b[0m\u001b[0m\n\u001b[0m\u001b[0;32m     10\u001b[0m         \u001b[0mprint\u001b[0m\u001b[1;33m(\u001b[0m\u001b[1;34m'b='\u001b[0m\u001b[1;33m,\u001b[0m\u001b[0mself\u001b[0m\u001b[1;33m.\u001b[0m\u001b[0m_b\u001b[0m\u001b[1;33m)\u001b[0m\u001b[1;33m\u001b[0m\u001b[1;33m\u001b[0m\u001b[0m\n\u001b[0;32m     11\u001b[0m \u001b[0mobj\u001b[0m\u001b[1;33m=\u001b[0m\u001b[0mB\u001b[0m\u001b[1;33m(\u001b[0m\u001b[1;33m)\u001b[0m\u001b[1;33m\u001b[0m\u001b[1;33m\u001b[0m\u001b[0m\n",
      "\u001b[1;31mAttributeError\u001b[0m: 'B' object has no attribute '_a'"
     ]
    }
   ],
   "source": [
    "class A:\n",
    "    def _init_ (self):\n",
    "        self._a=20\n",
    "        self._b=25\n",
    "class B(A):\n",
    "    def _init_ (self):\n",
    "        A._init_\n",
    "      \n",
    "    \n",
    "    def display(self):\n",
    "        print('a=',self._a)\n",
    "        print('b=',self._b)\n",
    "obj=B()\n",
    "obj.display()\n",
    "        "
   ]
  },
  {
   "cell_type": "code",
   "execution_count": null,
   "id": "0c7cab76",
   "metadata": {},
   "outputs": [],
   "source": []
  },
  {
   "cell_type": "code",
   "execution_count": null,
   "id": "540bb126",
   "metadata": {},
   "outputs": [],
   "source": []
  },
  {
   "cell_type": "code",
   "execution_count": null,
   "id": "b41bb2e1",
   "metadata": {},
   "outputs": [],
   "source": []
  },
  {
   "cell_type": "code",
   "execution_count": null,
   "id": "2dddc49d",
   "metadata": {},
   "outputs": [],
   "source": []
  },
  {
   "cell_type": "code",
   "execution_count": null,
   "id": "11df5880",
   "metadata": {},
   "outputs": [],
   "source": []
  },
  {
   "cell_type": "code",
   "execution_count": null,
   "id": "9698d10d",
   "metadata": {},
   "outputs": [],
   "source": []
  },
  {
   "cell_type": "code",
   "execution_count": null,
   "id": "64327f64",
   "metadata": {},
   "outputs": [],
   "source": []
  },
  {
   "cell_type": "code",
   "execution_count": null,
   "id": "7d77d9c4",
   "metadata": {},
   "outputs": [],
   "source": []
  },
  {
   "cell_type": "code",
   "execution_count": null,
   "id": "76066721",
   "metadata": {},
   "outputs": [],
   "source": []
  },
  {
   "cell_type": "code",
   "execution_count": null,
   "id": "2ac5bf2f",
   "metadata": {},
   "outputs": [],
   "source": []
  },
  {
   "cell_type": "code",
   "execution_count": null,
   "id": "156ba08c",
   "metadata": {},
   "outputs": [],
   "source": []
  },
  {
   "cell_type": "code",
   "execution_count": null,
   "id": "874bfb85",
   "metadata": {},
   "outputs": [],
   "source": []
  },
  {
   "cell_type": "code",
   "execution_count": null,
   "id": "658af2f6",
   "metadata": {},
   "outputs": [],
   "source": []
  },
  {
   "cell_type": "code",
   "execution_count": null,
   "id": "286f6239",
   "metadata": {},
   "outputs": [],
   "source": []
  },
  {
   "cell_type": "code",
   "execution_count": null,
   "id": "9c3f2e00",
   "metadata": {},
   "outputs": [],
   "source": []
  },
  {
   "cell_type": "code",
   "execution_count": null,
   "id": "b440d1e0",
   "metadata": {},
   "outputs": [],
   "source": []
  },
  {
   "cell_type": "code",
   "execution_count": null,
   "id": "f377d952",
   "metadata": {},
   "outputs": [],
   "source": []
  },
  {
   "cell_type": "code",
   "execution_count": null,
   "id": "d3c8382f",
   "metadata": {},
   "outputs": [],
   "source": []
  },
  {
   "cell_type": "code",
   "execution_count": null,
   "id": "b87ac15d",
   "metadata": {},
   "outputs": [],
   "source": []
  }
 ],
 "metadata": {
  "kernelspec": {
   "display_name": "Python 3",
   "language": "python",
   "name": "python3"
  },
  "language_info": {
   "codemirror_mode": {
    "name": "ipython",
    "version": 3
   },
   "file_extension": ".py",
   "mimetype": "text/x-python",
   "name": "python",
   "nbconvert_exporter": "python",
   "pygments_lexer": "ipython3",
   "version": "3.8.8"
  }
 },
 "nbformat": 4,
 "nbformat_minor": 5
}
