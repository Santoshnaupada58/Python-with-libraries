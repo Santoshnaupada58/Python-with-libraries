{
 "cells": [
  {
   "cell_type": "code",
   "execution_count": 1,
   "id": "e654d7cf",
   "metadata": {},
   "outputs": [
    {
     "name": "stdout",
     "output_type": "stream",
     "text": [
      "simple inetrest: 700.0\n"
     ]
    }
   ],
   "source": [
    "## task 2 - simple inetrest\n",
    "\n",
    "p=2500\n",
    "t=2\n",
    "r=14\n",
    "si=(p*t*r)/100\n",
    "print('simple inetrest:',si)"
   ]
  },
  {
   "cell_type": "code",
   "execution_count": null,
   "id": "680d7ce4",
   "metadata": {},
   "outputs": [],
   "source": []
  },
  {
   "cell_type": "code",
   "execution_count": 2,
   "id": "73443e17",
   "metadata": {},
   "outputs": [
    {
     "name": "stdout",
     "output_type": "stream",
     "text": [
      "Enter principle amount: 1500\n",
      "Enter interest rate: 14\n",
      "Enter time(years): 4\n",
      "Compound interest is  1033.4402400000013\n"
     ]
    }
   ],
   "source": [
    "### task 3 - compound interest\n",
    "\n",
    "\n",
    "principle = int(input(\"Enter principle amount: \"))\n",
    "rate = int(input(\"Enter interest rate: \"))\n",
    "time = int(input(\"Enter time(years): \"))\n",
    "\n",
    "ci= principle * pow((1 + rate / 100), time) - principle\n",
    "\n",
    "print(\"Compound interest is \",ci)"
   ]
  },
  {
   "cell_type": "code",
   "execution_count": null,
   "id": "6651f43e",
   "metadata": {},
   "outputs": [],
   "source": []
  },
  {
   "cell_type": "code",
   "execution_count": 3,
   "id": "47c0c454",
   "metadata": {},
   "outputs": [
    {
     "name": "stdout",
     "output_type": "stream",
     "text": [
      "<class 'int'>\n",
      "<class 'float'>\n",
      "<class 'complex'>\n",
      "<class 'bool'>\n",
      "<class 'bool'>\n"
     ]
    }
   ],
   "source": [
    "#   task 4 \n",
    "## type function\n",
    "\n",
    "s=12\n",
    "a=24.33\n",
    "n=24+3j\n",
    "f=False\n",
    "c=True\n",
    "\n",
    "print(type(s))\n",
    "print(type(a))\n",
    "print(type(n))\n",
    "print(type(f))\n",
    "print(type(c))"
   ]
  },
  {
   "cell_type": "code",
   "execution_count": 4,
   "id": "0538b19e",
   "metadata": {},
   "outputs": [
    {
     "ename": "SyntaxError",
     "evalue": "invalid syntax (<ipython-input-4-bd5cc120e585>, line 26)",
     "output_type": "error",
     "traceback": [
      "\u001b[1;36m  File \u001b[1;32m\"<ipython-input-4-bd5cc120e585>\"\u001b[1;36m, line \u001b[1;32m26\u001b[0m\n\u001b[1;33m    print(float(d))\u001b[0m\n\u001b[1;37m    ^\u001b[0m\n\u001b[1;31mSyntaxError\u001b[0m\u001b[1;31m:\u001b[0m invalid syntax\n"
     ]
    }
   ],
   "source": [
    "# type conversion\n",
    "\n",
    "a=30\n",
    "b=15.88\n",
    "c=12+6j\n",
    "d=False\n",
    "\n",
    "print(int(a))\n",
    "print(float(a))\n",
    "print(complex(a))\n",
    "print(bool(a))\n",
    "print('--------------')\n",
    "print(int(b))\n",
    "print(float(b))\n",
    "print(complex(b))\n",
    "print(bool(b))\n",
    "print(\"--------------\")\n",
    "\n",
    "print(int(c))\n",
    "print(float(c))\n",
    "print(complex(c))\n",
    "print(bool(c))\n",
    "print('--------------')\n",
    "\n",
    "print(int(d)\n",
    "print(float(d))\n",
    "print(complex(d))\n",
    "print(bool(d))\n",
    "print('--------------')\n",
    "\n"
   ]
  },
  {
   "cell_type": "code",
   "execution_count": 5,
   "id": "8f813008",
   "metadata": {},
   "outputs": [
    {
     "name": "stdout",
     "output_type": "stream",
     "text": [
      "**Arthimetic operators**\n",
      "sum: 31\n",
      "subtract: 13\n",
      "division: 2.4444444444444446\n",
      "multiply: 198\n",
      "modulus: 4\n",
      "exponent: 1207269217792\n",
      "floor division: 2\n",
      "------------------\n",
      "**Assignment operators**\n",
      "equal: False\n",
      "not equal: True\n",
      "greather than: True\n",
      "less than: False\n",
      "greater than equal to: True\n",
      "less than equal to: False\n",
      "------------------\n",
      "**logical operators**\n",
      "AND: False\n",
      "OR: True\n",
      "not: True\n"
     ]
    }
   ],
   "source": [
    "## task 5\n",
    "# arthimetic operators\n",
    "\n",
    "a=22\n",
    "b=9\n",
    "print('**Arthimetic operators**')\n",
    "print('sum:',a+b)\n",
    "print('subtract:',a-b)\n",
    "print('division:',a/b)\n",
    "print('multiply:',a*b)\n",
    "print('modulus:',a%b)\n",
    "print('exponent:',a**b)\n",
    "print('floor division:',a//b)\n",
    "print('------------------')\n",
    "print('**Assignment operators**')\n",
    "print('equal:',a==b)\n",
    "print('not equal:',a!=b)\n",
    "print('greather than:',a>b)\n",
    "print('less than:',a<b)\n",
    "print('greater than equal to:',a>=b)\n",
    "print('less than equal to:',a<=b)\n",
    "print('------------------')\n",
    "print('**logical operators**')\n",
    "print('AND:',a>b and a<b)\n",
    "print('OR:',a>b or a<b)\n",
    "print('not:',not(a>b and a<b))"
   ]
  },
  {
   "cell_type": "code",
   "execution_count": null,
   "id": "c63a7676",
   "metadata": {},
   "outputs": [],
   "source": []
  },
  {
   "cell_type": "code",
   "execution_count": 6,
   "id": "557d0f50",
   "metadata": {},
   "outputs": [
    {
     "name": "stdout",
     "output_type": "stream",
     "text": [
      "enter number:55\n",
      "enter number:44\n",
      "true\n"
     ]
    }
   ],
   "source": [
    "## task -6\n",
    "## conditions(if else,if elif else)\n",
    " \n",
    "a=int(input('enter number:'))\n",
    "b=int(input('enter number:'))\n",
    "if a>b:\n",
    "    print('true')\n",
    "else:\n",
    "    print('false')\n",
    "    "
   ]
  },
  {
   "cell_type": "code",
   "execution_count": 7,
   "id": "669cf840",
   "metadata": {
    "scrolled": true
   },
   "outputs": [
    {
     "name": "stdout",
     "output_type": "stream",
     "text": [
      "enter number:47\n",
      "enter number:56\n",
      "true\n"
     ]
    }
   ],
   "source": [
    "a=int(input('enter number:'))\n",
    "b=int(input('enter number:'))\n",
    "if a<b:\n",
    "    print('true')\n",
    "elif a==b:\n",
    "    print('equal')\n",
    "else:\n",
    "    print('false')\n"
   ]
  },
  {
   "cell_type": "code",
   "execution_count": 8,
   "id": "74c3694a",
   "metadata": {},
   "outputs": [
    {
     "name": "stdout",
     "output_type": "stream",
     "text": [
      "enter number:258\n",
      "a is more than 220\n",
      "a is more than 240 \n"
     ]
    }
   ],
   "source": [
    "## nested if\n",
    "a=int(input('enter number:'))\n",
    "\n",
    "if a>220:\n",
    "    print('a is more than 220')\n",
    "    if a>240:\n",
    "        print('a is more than 240 ')\n",
    "    elif a==240:\n",
    "        print('a is equal to 240')\n",
    "else:\n",
    "    print('a is less than 220')"
   ]
  },
  {
   "cell_type": "code",
   "execution_count": null,
   "id": "f07b6069",
   "metadata": {},
   "outputs": [],
   "source": []
  },
  {
   "cell_type": "code",
   "execution_count": 1,
   "id": "92f7496b",
   "metadata": {},
   "outputs": [
    {
     "name": "stdout",
     "output_type": "stream",
     "text": [
      "enter num:1\n",
      "1\n",
      "2\n",
      "3\n",
      "4\n",
      "5\n",
      "6\n",
      "7\n",
      "w is no long than 8\n"
     ]
    }
   ],
   "source": [
    "## task 7\n",
    "## loops ( for ,while)\n",
    "\n",
    "w=int(input('enter num:'))\n",
    "while w<8:\n",
    "    print(w)\n",
    "    w+=1\n",
    "else:\n",
    "    print('w is no long than 8')"
   ]
  },
  {
   "cell_type": "code",
   "execution_count": 2,
   "id": "4ea42aca",
   "metadata": {},
   "outputs": [
    {
     "name": "stdout",
     "output_type": "stream",
     "text": [
      "tea\n",
      "coffe\n",
      "puff\n"
     ]
    }
   ],
   "source": [
    "## for loop\n",
    "snacks=['tea','coffe','puff']\n",
    "for i in snacks:\n",
    "    print(i)\n"
   ]
  },
  {
   "cell_type": "code",
   "execution_count": 15,
   "id": "5ca8d7e5",
   "metadata": {},
   "outputs": [
    {
     "name": "stdout",
     "output_type": "stream",
     "text": [
      "o\n",
      "n\n",
      "i\n",
      "o\n",
      "n\n"
     ]
    }
   ],
   "source": [
    "for i in 'onion':\n",
    "    print(i)"
   ]
  },
  {
   "cell_type": "code",
   "execution_count": 24,
   "id": "17331308",
   "metadata": {},
   "outputs": [
    {
     "name": "stdout",
     "output_type": "stream",
     "text": [
      "5\n",
      "6\n",
      "7\n",
      "8\n",
      "9\n",
      "-----\n",
      "3\n",
      "5\n",
      "7\n",
      "9\n",
      "11\n",
      "13\n",
      "------\n",
      "4\n",
      "12\n",
      "20\n",
      "28\n",
      "finised\n",
      "--------\n",
      "small tv\n",
      "small home theatre\n",
      "large tv\n",
      "large home theatre\n"
     ]
    }
   ],
   "source": [
    "for i in range(5,10):\n",
    "    print(i)\n",
    "print('-----')\n",
    "for i in range(3,15,2):\n",
    "    print(i)\n",
    "print('------')\n",
    "for i in range(4,30,8):\n",
    "    print(i)\n",
    "else:\n",
    "    print('finised')\n",
    "print('--------')\n",
    "\n",
    "f1=['small','large']\n",
    "f2=['tv','home theatre']\n",
    "for i in f1:\n",
    "    for j in f2:\n",
    "        print(i,j)\n",
    "    "
   ]
  },
  {
   "cell_type": "code",
   "execution_count": null,
   "id": "afaf8cb3",
   "metadata": {},
   "outputs": [],
   "source": []
  },
  {
   "cell_type": "code",
   "execution_count": 16,
   "id": "d0a26001",
   "metadata": {},
   "outputs": [
    {
     "name": "stdout",
     "output_type": "stream",
     "text": [
      "0\n",
      "1\n",
      "2\n",
      "3\n",
      "5\n",
      "6\n",
      "-----\n",
      "0\n",
      "1\n",
      "2\n",
      "3\n",
      "-----\n",
      "0\n",
      "1\n",
      "2\n",
      "3\n",
      "4\n",
      "5\n",
      "6\n"
     ]
    }
   ],
   "source": [
    "## break,continue,pass statements\n",
    "\n",
    "for i in range(7):\n",
    "    if i==4:\n",
    "        continue\n",
    "    print(i)\n",
    "    \n",
    "print('-----')\n",
    "\n",
    "for i in range(7):\n",
    "    if i==4:\n",
    "        break\n",
    "    print(i)\n",
    "    \n",
    "print('-----')\n",
    "\n",
    "for i in range(7):\n",
    "    if i==4:\n",
    "        pass\n",
    "    print(i)\n",
    "    \n",
    "    "
   ]
  },
  {
   "cell_type": "code",
   "execution_count": 34,
   "id": "07a0bb08",
   "metadata": {},
   "outputs": [
    {
     "name": "stdout",
     "output_type": "stream",
     "text": [
      "0\n",
      "1\n",
      "2\n",
      "3\n",
      "4\n",
      "5\n",
      "----\n",
      "12\n",
      "13\n",
      "14\n",
      "15\n",
      "----\n",
      "22\n",
      "34\n",
      "46\n"
     ]
    }
   ],
   "source": [
    "## range functions\n",
    "\n",
    "r=range(6)\n",
    "for i in r:\n",
    "    print(i)\n",
    "\n",
    "print('----')\n",
    "\n",
    "r=range(12,16)\n",
    "for i in r:\n",
    "    print(i)\n",
    "    \n",
    "print('----')\n",
    "\n",
    "r=range(22,48,12)\n",
    "for i in r:\n",
    "    print(i)\n",
    "\n"
   ]
  },
  {
   "cell_type": "code",
   "execution_count": 145,
   "id": "0aa1f5a2",
   "metadata": {},
   "outputs": [
    {
     "name": "stdout",
     "output_type": "stream",
     "text": [
      "[24, 'mars', 36, 19, 'moon', 14, 'sun', 44, 66, 99]\n",
      "-----\n",
      "moon\n",
      "-----\n",
      "[36, 19, 'moon', 14, 'sun', 44]\n",
      "-----\n",
      "[36, 14, 66]\n",
      "-----\n",
      "[66, 14, 36]\n",
      "------\n",
      "[14, 'sun', 44, 66, 99]\n",
      "-----\n",
      "[24, 'mars', 36, 19, 'moon']\n",
      "-----\n",
      "[24, 'mars', 36, 19, 'moon', 14, 'sun', 44, 66]\n",
      "------\n",
      "[24, 'mars', 36, 19, 'moon', 14, 'sun']\n",
      "------\n",
      "[99, 66, 44, 'sun', 14, 'moon', 19, 36, 'mars', 24]\n",
      "------\n",
      "[99, 'sun', 19, 24]\n"
     ]
    }
   ],
   "source": [
    "## task- 8, lists\n",
    "\n",
    "l=[24,'mars',36,19,\"moon\",14,'sun',44,66,99]\n",
    "print(l)\n",
    "print('-----')\n",
    "print(l[4])\n",
    "print('-----')\n",
    "print(l[2:8])\n",
    "print('-----')\n",
    "print(l[2:9:3])\n",
    "print('-----')\n",
    "print(l[8:0:-3])\n",
    "print('------')\n",
    "print(l[5:])\n",
    "print('-----')\n",
    "print(l[:5])\n",
    "print('-----')\n",
    "print(l[:-1])\n",
    "print('------')\n",
    "print(l[:-3])\n",
    "print('------')\n",
    "print(l[::-1])\n",
    "print('------')\n",
    "print(l[::-3])"
   ]
  },
  {
   "cell_type": "code",
   "execution_count": null,
   "id": "562e70c7",
   "metadata": {},
   "outputs": [],
   "source": []
  },
  {
   "cell_type": "code",
   "execution_count": 110,
   "id": "df28bbfe",
   "metadata": {},
   "outputs": [
    {
     "name": "stdout",
     "output_type": "stream",
     "text": [
      "[24, 'mars', 36, 19, 'moon', 14, 'sun', 44, 66, 99, 'saturn']\n"
     ]
    }
   ],
   "source": [
    "## task -9,,,,,,list functions or methods\n",
    "\n",
    "l=[24,'mars',36,19,\"moon\",14,'sun',44,66,99]\n",
    "l.append('saturn')\n",
    "print(l)"
   ]
  },
  {
   "cell_type": "code",
   "execution_count": 107,
   "id": "bb0f9379",
   "metadata": {},
   "outputs": [
    {
     "data": {
      "text/plain": [
       "[24, 'mars', 36, 19, 'moon', 14, 'sun', 44, 66, 99, ['saturn']]"
      ]
     },
     "execution_count": 107,
     "metadata": {},
     "output_type": "execute_result"
    }
   ],
   "source": [
    "l=[24,'mars',36,19,\"moon\",14,'sun',44,66,99]\n",
    "l.append(['saturn'])\n",
    "print(l)"
   ]
  },
  {
   "cell_type": "code",
   "execution_count": 109,
   "id": "815624d9",
   "metadata": {},
   "outputs": [
    {
     "name": "stdout",
     "output_type": "stream",
     "text": [
      "[24, 'mars', 36, 19, 'moon', 14, 'sun', 44, 66, 99, 's', 'a', 't', 'u', 'r', 'n']\n"
     ]
    }
   ],
   "source": [
    "l=[24,'mars',36,19,\"moon\",14,'sun',44,66,99]\n",
    "l.extend('saturn')\n",
    "print(l)"
   ]
  },
  {
   "cell_type": "code",
   "execution_count": 84,
   "id": "6830a2c4",
   "metadata": {},
   "outputs": [
    {
     "name": "stdout",
     "output_type": "stream",
     "text": [
      "[24, 'mars', 36, 19, 'moon', 14, 'sun', 44, 66, 99, 'saturn']\n"
     ]
    }
   ],
   "source": [
    "l=[24,'mars',36,19,\"moon\",14,'sun',44,66,99]\n",
    "l.extend(['saturn'])\n",
    "print(l)"
   ]
  },
  {
   "cell_type": "code",
   "execution_count": 96,
   "id": "5588550e",
   "metadata": {},
   "outputs": [
    {
     "name": "stdout",
     "output_type": "stream",
     "text": [
      "[24, 'mars', 36, 19, 'moon', 14, 'sun', 44, 66, 99]\n"
     ]
    }
   ],
   "source": [
    "l=[24,'mars',36,19,\"moon\",14,'sun',44,66,99]\n",
    "m=l.copy()\n",
    "l.append(12)\n",
    "print(m)"
   ]
  },
  {
   "cell_type": "code",
   "execution_count": 103,
   "id": "039de754",
   "metadata": {},
   "outputs": [
    {
     "name": "stdout",
     "output_type": "stream",
     "text": [
      "[]\n"
     ]
    }
   ],
   "source": [
    "l=[24,'mars',36,19,\"moon\",14,'sun',44,66,99]\n",
    "l.clear()\n",
    "print(l)"
   ]
  },
  {
   "cell_type": "code",
   "execution_count": 111,
   "id": "5e9ed7dc",
   "metadata": {},
   "outputs": [
    {
     "name": "stdout",
     "output_type": "stream",
     "text": [
      "1\n"
     ]
    }
   ],
   "source": [
    "l=[24,'mars',36,19,\"moon\",14,'sun',44,66,99]\n",
    "print(l.count(36))"
   ]
  },
  {
   "cell_type": "code",
   "execution_count": 118,
   "id": "e6b9eb7c",
   "metadata": {},
   "outputs": [
    {
     "name": "stdout",
     "output_type": "stream",
     "text": [
      "5\n"
     ]
    }
   ],
   "source": [
    "l=[24,'mars',36,19,\"moon\",14,'sun',44,66,99]\n",
    "print(l.index(14))"
   ]
  },
  {
   "cell_type": "code",
   "execution_count": 116,
   "id": "1d673700",
   "metadata": {},
   "outputs": [
    {
     "name": "stdout",
     "output_type": "stream",
     "text": [
      "[24, 'hello', 'mars', 36, 19, 'moon', 14, 'sun', 44, 66, 99]\n",
      "[24, 'hello', 'mars', 36, 19, 'moon', 14, 'sun', 'byee', 44, 66, 99]\n"
     ]
    }
   ],
   "source": [
    "l=[24,'mars',36,19,\"moon\",14,'sun',44,66,99]\n",
    "l.insert(1,'hello')\n",
    "print(l)\n",
    "l.insert(-3,'byee')\n",
    "print(l)"
   ]
  },
  {
   "cell_type": "code",
   "execution_count": 147,
   "id": "b44bc22a",
   "metadata": {},
   "outputs": [
    {
     "name": "stdout",
     "output_type": "stream",
     "text": [
      "[24, 'mars', 36, 19, 'moon', 14, 44, 66, 99]\n"
     ]
    }
   ],
   "source": [
    "l=[24,'mars',36,19,\"moon\",14,'sun',44,66,99]\n",
    "l.pop(6)\n",
    "print(l)"
   ]
  },
  {
   "cell_type": "code",
   "execution_count": 123,
   "id": "22e4f9f8",
   "metadata": {},
   "outputs": [
    {
     "name": "stdout",
     "output_type": "stream",
     "text": [
      "[24, 'mars', 36, 19, 'moon', 'sun', 44, 66, 99]\n"
     ]
    }
   ],
   "source": [
    "l=[24,'mars',36,19,\"moon\",14,'sun',44,66,99]\n",
    "l.remove(14)\n",
    "print(l)"
   ]
  },
  {
   "cell_type": "code",
   "execution_count": 149,
   "id": "ae383ca5",
   "metadata": {},
   "outputs": [
    {
     "name": "stdout",
     "output_type": "stream",
     "text": [
      "[99, 66, 44, 14, 19, 36, 24]\n"
     ]
    }
   ],
   "source": [
    "l=[24,36,19,14,44,66,99]\n",
    "l.reverse()\n",
    "print(l)"
   ]
  },
  {
   "cell_type": "code",
   "execution_count": 152,
   "id": "edf14654",
   "metadata": {},
   "outputs": [
    {
     "name": "stdout",
     "output_type": "stream",
     "text": [
      "[14, 19, 24, 36, 44, 66, 99]\n",
      "[99, 66, 44, 36, 24, 19, 14]\n"
     ]
    }
   ],
   "source": [
    "l=[24,36,19,14,44,66,99]\n",
    "l.sort()\n",
    "print(l)\n",
    "l.sort(reverse=True)\n",
    "print(l)"
   ]
  },
  {
   "cell_type": "code",
   "execution_count": null,
   "id": "c027b493",
   "metadata": {},
   "outputs": [],
   "source": []
  },
  {
   "cell_type": "code",
   "execution_count": 6,
   "id": "9695ee70",
   "metadata": {
    "scrolled": true
   },
   "outputs": [
    {
     "name": "stdout",
     "output_type": "stream",
     "text": [
      "\n",
      "* \n",
      "* * \n",
      "* * * \n",
      "* * * * \n",
      "* * * * * \n"
     ]
    }
   ],
   "source": [
    "## task-10 patterns\n",
    "# pattern 0\n",
    "\n",
    "for i in range(6):              #   for i in range(5):\n",
    "    for j in range(1,i+1):      #       for j in range(i+1):\n",
    "        print(\"*\",end=' ')       #           print('*',end='')\n",
    "    print()                     #      print()"
   ]
  },
  {
   "cell_type": "code",
   "execution_count": 9,
   "id": "0dc87d0f",
   "metadata": {},
   "outputs": [
    {
     "name": "stdout",
     "output_type": "stream",
     "text": [
      "* * * * * \n",
      "* * * * * \n",
      "* * * * * \n",
      "* * * * * \n",
      "* * * * * \n",
      "----or-----\n",
      "* * * * *\n",
      "* * * * *\n",
      "* * * * *\n",
      "* * * * *\n",
      "* * * * *\n"
     ]
    }
   ],
   "source": [
    "# pattern 1\n",
    "for i in range(5):\n",
    "    for j in range(5):\n",
    "        print('*',end=' ')\n",
    "    print()\n",
    "    \n",
    "print('----or-----')  \n",
    "\n",
    "for i in range(5):\n",
    "    print('* * * * *')"
   ]
  },
  {
   "cell_type": "code",
   "execution_count": null,
   "id": "9537231c",
   "metadata": {},
   "outputs": [],
   "source": []
  },
  {
   "cell_type": "code",
   "execution_count": 2,
   "id": "d8dd52f3",
   "metadata": {},
   "outputs": [
    {
     "name": "stdout",
     "output_type": "stream",
     "text": [
      "1 1 1 1 1 \n",
      "2 2 2 2 2 \n",
      "3 3 3 3 3 \n",
      "4 4 4 4 4 \n",
      "5 5 5 5 5 \n"
     ]
    }
   ],
   "source": [
    "# pattern 2\n",
    "\n",
    "for i in range(1,6):\n",
    "    for j in range(5):\n",
    "        print(i,end=' ')\n",
    "    print()"
   ]
  },
  {
   "cell_type": "code",
   "execution_count": 82,
   "id": "407edacd",
   "metadata": {},
   "outputs": [
    {
     "name": "stdout",
     "output_type": "stream",
     "text": [
      "1 \n",
      "2 2 \n",
      "3 3 3 \n",
      "4 4 4 4 \n",
      "5 5 5 5 5 \n"
     ]
    }
   ],
   "source": [
    "# pattern 3\n",
    "for i in range(1,6):\n",
    "    for j in range(1,i+1):\n",
    "        print(i,end=' ')\n",
    "    print()\n",
    "        "
   ]
  },
  {
   "cell_type": "code",
   "execution_count": 79,
   "id": "35869e3f",
   "metadata": {},
   "outputs": [
    {
     "name": "stdout",
     "output_type": "stream",
     "text": [
      "* * * * * \n",
      "* * * * \n",
      "* * * \n",
      "* * \n",
      "* \n",
      "\n"
     ]
    }
   ],
   "source": [
    "#pattern 4\n",
    "for i in range(6):\n",
    "    for j in range(5-i):\n",
    "        print('*',end=' ')\n",
    "    print()"
   ]
  },
  {
   "cell_type": "code",
   "execution_count": 116,
   "id": "e0eb94cc",
   "metadata": {},
   "outputs": [
    {
     "name": "stdout",
     "output_type": "stream",
     "text": [
      "* * * * * \n",
      "* * * * \n",
      "* * * \n",
      "* * \n",
      "* \n"
     ]
    }
   ],
   "source": [
    "# pattern 4\n",
    "for i in range(5,0,-1):\n",
    "    for j in range(i,0,-1):\n",
    "        print('*',end=' ')\n",
    "    print()"
   ]
  },
  {
   "cell_type": "code",
   "execution_count": 12,
   "id": "570c776a",
   "metadata": {},
   "outputs": [
    {
     "name": "stdout",
     "output_type": "stream",
     "text": [
      "     *\n",
      "    **\n",
      "   ***\n",
      "  ****\n",
      " *****\n"
     ]
    }
   ],
   "source": [
    "# pattern 5\n",
    "for i in range(5):\n",
    "    for j in range(i,5):\n",
    "        print(' ',end='')\n",
    "    for j in range(i+1):\n",
    "        print('*',end='')\n",
    "    print()\n",
    "    "
   ]
  },
  {
   "cell_type": "code",
   "execution_count": 11,
   "id": "2ed5ce68",
   "metadata": {},
   "outputs": [
    {
     "name": "stdout",
     "output_type": "stream",
     "text": [
      "     *\n",
      "    ***\n",
      "   *****\n",
      "  *******\n",
      " *********\n"
     ]
    }
   ],
   "source": [
    "#pattern 6\n",
    "for i in range(5):\n",
    "    for j in range(i,5):\n",
    "        print(' ',end='')\n",
    "    for j in range(i):\n",
    "        print('*',end='')\n",
    "    for j in range(i+1):\n",
    "        print('*',end='')\n",
    "    print()\n",
    "        "
   ]
  },
  {
   "cell_type": "code",
   "execution_count": null,
   "id": "054b3ed4",
   "metadata": {},
   "outputs": [],
   "source": []
  },
  {
   "cell_type": "code",
   "execution_count": null,
   "id": "46f99ee6",
   "metadata": {},
   "outputs": [],
   "source": []
  },
  {
   "cell_type": "code",
   "execution_count": null,
   "id": "b38b31bd",
   "metadata": {},
   "outputs": [],
   "source": []
  },
  {
   "cell_type": "code",
   "execution_count": null,
   "id": "b9e831cb",
   "metadata": {},
   "outputs": [],
   "source": []
  },
  {
   "cell_type": "code",
   "execution_count": null,
   "id": "caaa7b92",
   "metadata": {},
   "outputs": [],
   "source": []
  },
  {
   "cell_type": "code",
   "execution_count": null,
   "id": "8d4622fb",
   "metadata": {},
   "outputs": [],
   "source": []
  },
  {
   "cell_type": "code",
   "execution_count": null,
   "id": "ae113eef",
   "metadata": {},
   "outputs": [],
   "source": []
  },
  {
   "cell_type": "code",
   "execution_count": null,
   "id": "5f84411a",
   "metadata": {},
   "outputs": [],
   "source": []
  }
 ],
 "metadata": {
  "kernelspec": {
   "display_name": "Python 3",
   "language": "python",
   "name": "python3"
  },
  "language_info": {
   "codemirror_mode": {
    "name": "ipython",
    "version": 3
   },
   "file_extension": ".py",
   "mimetype": "text/x-python",
   "name": "python",
   "nbconvert_exporter": "python",
   "pygments_lexer": "ipython3",
   "version": "3.8.8"
  }
 },
 "nbformat": 4,
 "nbformat_minor": 5
}
