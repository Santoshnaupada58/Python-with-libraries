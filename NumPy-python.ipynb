{
 "cells": [
  {
   "cell_type": "code",
   "execution_count": 2,
   "id": "a22c13d2",
   "metadata": {},
   "outputs": [
    {
     "name": "stdout",
     "output_type": "stream",
     "text": [
      "Requirement already satisfied: numpy in c:\\users\\hp\\anaconda3\\lib\\site-packages (1.20.1)\n"
     ]
    }
   ],
   "source": [
    "'''numpy is a python library, its stands for Numerical Python(numpy)\n",
    "its consisting of multi-dimensionsal array objects'''\n",
    "\n",
    "!pip install numpy\n",
    "import numpy as np"
   ]
  },
  {
   "cell_type": "code",
   "execution_count": 13,
   "id": "4fc593c9",
   "metadata": {},
   "outputs": [
    {
     "data": {
      "text/plain": [
       "array([ 2,  5, 88, 45])"
      ]
     },
     "execution_count": 13,
     "metadata": {},
     "output_type": "execute_result"
    }
   ],
   "source": [
    "a=np.array([2,5,88,45])\n",
    "a"
   ]
  },
  {
   "cell_type": "code",
   "execution_count": 42,
   "id": "4bf05622",
   "metadata": {},
   "outputs": [],
   "source": [
    "#dimensional-array like 2d,3d\n",
    "\n",
    "a1=np.array(5)\n",
    "a=np.array([2])\n",
    "b=np.array([24,36,45])\n",
    "c=np.array([[24,36,45],[55,88,66]])\n",
    "d=np.array([[[24,36,45],[55,88,66],[29,39,49]]])\n",
    "e=np.array([[[24,36,45],[55,88,66]],[[11,22,33],[77,89,99]]])"
   ]
  },
  {
   "cell_type": "code",
   "execution_count": 43,
   "id": "68b7f2cf",
   "metadata": {},
   "outputs": [
    {
     "name": "stdout",
     "output_type": "stream",
     "text": [
      "a1 dimension: 0\n",
      "a dimension: 1\n",
      "b dimension: 1\n",
      "c dimension: 2\n",
      "d dimension: 3\n",
      "e dimension: 3\n"
     ]
    }
   ],
   "source": [
    "print('a1 dimension:',a1.ndim)\n",
    "print('a dimension:', a.ndim)\n",
    "print('b dimension:', b.ndim)\n",
    "print('c dimension:', c.ndim)\n",
    "print('d dimension:', d.ndim)\n",
    "print('e dimension:', e.ndim)"
   ]
  },
  {
   "cell_type": "code",
   "execution_count": 50,
   "id": "3cee9566",
   "metadata": {},
   "outputs": [
    {
     "name": "stdout",
     "output_type": "stream",
     "text": [
      "5\n",
      "a1 shape: ()\n",
      "----------\n",
      "[2]\n",
      "a shape: (1,)\n",
      "----------\n",
      "[24 36 45]\n",
      "b shape: (3,)\n",
      "-----------\n",
      "[[24 36 45]\n",
      " [55 88 66]]\n",
      "c shape: (2, 3)\n",
      "-----------\n",
      "[[[24 36 45]\n",
      "  [55 88 66]\n",
      "  [29 39 49]]]\n",
      "d shape: (1, 3, 3)\n",
      "-------------\n",
      "[[[24 36 45]\n",
      "  [55 88 66]]\n",
      "\n",
      " [[11 22 33]\n",
      "  [77 89 99]]]\n",
      "e shape: (2, 2, 3)\n"
     ]
    }
   ],
   "source": [
    "## find - shape of array\n",
    "\n",
    "a1=np.array(5)\n",
    "a=np.array([2])\n",
    "b=np.array([24,36,45])\n",
    "c=np.array([[24,36,45],[55,88,66]])\n",
    "d=np.array([[[24,36,45],[55,88,66],[29,39,49]]])\n",
    "e=np.array([[[24,36,45],[55,88,66]],[[11,22,33],[77,89,99]]])\n",
    "\n",
    "print(a1)\n",
    "print('a1 shape:',a1.shape)\n",
    "print('----------')\n",
    "print(a)\n",
    "print('a shape:', a.shape)\n",
    "print('----------')\n",
    "print(b)\n",
    "print('b shape:', b.shape)\n",
    "print('-----------')\n",
    "print(c)\n",
    "print('c shape:', c.shape)\n",
    "print('-----------')\n",
    "print(d)\n",
    "print('d shape:', d.shape)\n",
    "print('-------------')\n",
    "print(e)\n",
    "print('e shape:', e.shape)"
   ]
  },
  {
   "cell_type": "code",
   "execution_count": 60,
   "id": "b5624b54",
   "metadata": {},
   "outputs": [
    {
     "name": "stdout",
     "output_type": "stream",
     "text": [
      "a1 type: int32\n",
      "a type: int32\n",
      "b type: int32\n",
      "c type: int32\n",
      "d type: int32\n",
      "e type: int32\n"
     ]
    }
   ],
   "source": [
    "## data type\n",
    "\n",
    "a1=np.array(5)\n",
    "a=np.array([2])\n",
    "b=np.array([24,36,45])\n",
    "c=np.array([[24,36,45],[55,88,66]])\n",
    "d=np.array([[[24,36,45],[55,88,66],[29,39,49]]])\n",
    "e=np.array([[[24,36,45],[55,88,66]],[[11,22,33],[77,89,99]]])\n",
    "\n",
    "print('a1 type:',a1.dtype)\n",
    "print('a type:', a.dtype)\n",
    "print('b type:', b.dtype)\n",
    "print('c type:', c.dtype)\n",
    "print('d type:', d.dtype)\n",
    "print('e type:', e.dtype)"
   ]
  },
  {
   "cell_type": "code",
   "execution_count": 63,
   "id": "88092dc9",
   "metadata": {},
   "outputs": [
    {
     "data": {
      "text/plain": [
       "numpy.ndarray"
      ]
     },
     "execution_count": 63,
     "metadata": {},
     "output_type": "execute_result"
    }
   ],
   "source": [
    "type(c)  # type func"
   ]
  },
  {
   "cell_type": "code",
   "execution_count": 64,
   "id": "7faa5d54",
   "metadata": {},
   "outputs": [
    {
     "data": {
      "text/plain": [
       "numpy.ndarray"
      ]
     },
     "execution_count": 64,
     "metadata": {},
     "output_type": "execute_result"
    }
   ],
   "source": [
    "type(d)"
   ]
  },
  {
   "cell_type": "code",
   "execution_count": 73,
   "id": "280e7d79",
   "metadata": {},
   "outputs": [
    {
     "data": {
      "text/plain": [
       "3"
      ]
     },
     "execution_count": 73,
     "metadata": {},
     "output_type": "execute_result"
    }
   ],
   "source": [
    "# length\n",
    "len(b)"
   ]
  },
  {
   "cell_type": "code",
   "execution_count": 74,
   "id": "e4b885ca",
   "metadata": {},
   "outputs": [
    {
     "data": {
      "text/plain": [
       "2"
      ]
     },
     "execution_count": 74,
     "metadata": {},
     "output_type": "execute_result"
    }
   ],
   "source": [
    "len(e)"
   ]
  },
  {
   "cell_type": "code",
   "execution_count": 78,
   "id": "fcf89df9",
   "metadata": {},
   "outputs": [
    {
     "data": {
      "text/plain": [
       "array([12, 13, 14, 15, 16, 17, 18, 19, 20, 21, 22, 23])"
      ]
     },
     "execution_count": 78,
     "metadata": {},
     "output_type": "execute_result"
    }
   ],
   "source": [
    "np.arange(12,24) # range"
   ]
  },
  {
   "cell_type": "code",
   "execution_count": 79,
   "id": "3d668867",
   "metadata": {},
   "outputs": [
    {
     "data": {
      "text/plain": [
       "array([12, 15, 18, 21])"
      ]
     },
     "execution_count": 79,
     "metadata": {},
     "output_type": "execute_result"
    }
   ],
   "source": [
    "np.arange(12,24,3)"
   ]
  },
  {
   "cell_type": "code",
   "execution_count": 89,
   "id": "a02e809b",
   "metadata": {},
   "outputs": [
    {
     "data": {
      "text/plain": [
       "array([[1., 0., 0., 0., 0., 0.],\n",
       "       [0., 1., 0., 0., 0., 0.],\n",
       "       [0., 0., 1., 0., 0., 0.],\n",
       "       [0., 0., 0., 1., 0., 0.],\n",
       "       [0., 0., 0., 0., 1., 0.],\n",
       "       [0., 0., 0., 0., 0., 1.]])"
      ]
     },
     "execution_count": 89,
     "metadata": {},
     "output_type": "execute_result"
    }
   ],
   "source": [
    "np.eye(6,dtype=float) # eye function passing parameter"
   ]
  },
  {
   "cell_type": "code",
   "execution_count": 101,
   "id": "d6045976",
   "metadata": {},
   "outputs": [
    {
     "data": {
      "text/plain": [
       "array([[1., 0., 0., 0., 0., 0., 0.],\n",
       "       [0., 1., 0., 0., 0., 0., 0.],\n",
       "       [0., 0., 1., 0., 0., 0., 0.],\n",
       "       [0., 0., 0., 1., 0., 0., 0.],\n",
       "       [0., 0., 0., 0., 1., 0., 0.]])"
      ]
     },
     "execution_count": 101,
     "metadata": {},
     "output_type": "execute_result"
    }
   ],
   "source": [
    "np.eye(5,7,dtype=float)"
   ]
  },
  {
   "cell_type": "code",
   "execution_count": 104,
   "id": "6bf81461",
   "metadata": {},
   "outputs": [
    {
     "data": {
      "text/plain": [
       "array([[0., 0., 0., 0., 0., 0.],\n",
       "       [0., 0., 0., 0., 0., 0.],\n",
       "       [0., 0., 0., 0., 0., 0.],\n",
       "       [0., 0., 0., 0., 0., 0.],\n",
       "       [0., 0., 0., 0., 0., 0.]])"
      ]
     },
     "execution_count": 104,
     "metadata": {},
     "output_type": "execute_result"
    }
   ],
   "source": [
    "np.zeros((5,6))"
   ]
  },
  {
   "cell_type": "code",
   "execution_count": 105,
   "id": "06b82809",
   "metadata": {},
   "outputs": [
    {
     "data": {
      "text/plain": [
       "array([[1., 1., 1., 1., 1.],\n",
       "       [1., 1., 1., 1., 1.],\n",
       "       [1., 1., 1., 1., 1.],\n",
       "       [1., 1., 1., 1., 1.]])"
      ]
     },
     "execution_count": 105,
     "metadata": {},
     "output_type": "execute_result"
    }
   ],
   "source": [
    "np.ones((4,5))"
   ]
  },
  {
   "cell_type": "code",
   "execution_count": 109,
   "id": "98522319",
   "metadata": {},
   "outputs": [
    {
     "data": {
      "text/plain": [
       "array([[4, 4, 4, 4, 4, 4],\n",
       "       [4, 4, 4, 4, 4, 4],\n",
       "       [4, 4, 4, 4, 4, 4],\n",
       "       [4, 4, 4, 4, 4, 4]])"
      ]
     },
     "execution_count": 109,
     "metadata": {},
     "output_type": "execute_result"
    }
   ],
   "source": [
    "np.full((4,6),4)"
   ]
  },
  {
   "cell_type": "code",
   "execution_count": 118,
   "id": "7d0fe49d",
   "metadata": {},
   "outputs": [
    {
     "data": {
      "text/plain": [
       "array([[24,  0,  0,  0,  0],\n",
       "       [ 0, 25,  0,  0,  0],\n",
       "       [ 0,  0, 26,  0,  0],\n",
       "       [ 0,  0,  0, 27,  0],\n",
       "       [ 0,  0,  0,  0, 28]])"
      ]
     },
     "execution_count": 118,
     "metadata": {},
     "output_type": "execute_result"
    }
   ],
   "source": [
    "d=(24,25,26,27,28) ## diagonal function array\n",
    "np.diag(d)"
   ]
  },
  {
   "cell_type": "code",
   "execution_count": 143,
   "id": "e4beff05",
   "metadata": {},
   "outputs": [
    {
     "data": {
      "text/plain": [
       "0.3988726505824248"
      ]
     },
     "execution_count": 143,
     "metadata": {},
     "output_type": "execute_result"
    }
   ],
   "source": [
    "import random   # random generate integer\n",
    "np.random.random(3)[2]"
   ]
  },
  {
   "cell_type": "code",
   "execution_count": 156,
   "id": "38097032",
   "metadata": {},
   "outputs": [
    {
     "data": {
      "text/plain": [
       "array([[0.14635282, 0.10153919, 0.25619568],\n",
       "       [0.49906035, 0.9714526 , 0.44474371],\n",
       "       [0.41101535, 0.19550629, 0.56378519],\n",
       "       [0.53453225, 0.52147374, 0.0928892 ]])"
      ]
     },
     "execution_count": 156,
     "metadata": {},
     "output_type": "execute_result"
    }
   ],
   "source": [
    "np.random.rand(4,3)"
   ]
  },
  {
   "cell_type": "code",
   "execution_count": 163,
   "id": "c9a5bf9d",
   "metadata": {},
   "outputs": [
    {
     "data": {
      "text/plain": [
       "array([12, 13, 14, 15, 16, 17, 18, 19, 20, 21, 22, 23, 24, 25, 26, 27])"
      ]
     },
     "execution_count": 163,
     "metadata": {},
     "output_type": "execute_result"
    }
   ],
   "source": [
    "r=np.arange(12,28)\n",
    "r"
   ]
  },
  {
   "cell_type": "code",
   "execution_count": 164,
   "id": "43e7d77a",
   "metadata": {},
   "outputs": [
    {
     "data": {
      "text/plain": [
       "(16,)"
      ]
     },
     "execution_count": 164,
     "metadata": {},
     "output_type": "execute_result"
    }
   ],
   "source": [
    "r.shape"
   ]
  },
  {
   "cell_type": "code",
   "execution_count": 167,
   "id": "e01c445a",
   "metadata": {},
   "outputs": [
    {
     "data": {
      "text/plain": [
       "array([[12, 13, 14, 15],\n",
       "       [16, 17, 18, 19],\n",
       "       [20, 21, 22, 23],\n",
       "       [24, 25, 26, 27]])"
      ]
     },
     "execution_count": 167,
     "metadata": {},
     "output_type": "execute_result"
    }
   ],
   "source": [
    "r1=r.reshape(4,4) # covert 1x16 to 4x4\n",
    "r1"
   ]
  },
  {
   "cell_type": "code",
   "execution_count": 168,
   "id": "e9a88ca0",
   "metadata": {},
   "outputs": [
    {
     "data": {
      "text/plain": [
       "(4, 4)"
      ]
     },
     "execution_count": 168,
     "metadata": {},
     "output_type": "execute_result"
    }
   ],
   "source": [
    "r1.shape  #  shape"
   ]
  },
  {
   "cell_type": "code",
   "execution_count": 173,
   "id": "d717bcf5",
   "metadata": {},
   "outputs": [
    {
     "data": {
      "text/plain": [
       "array([12, 13, 14, 15, 16, 17, 18, 19, 20, 21, 22, 23, 24, 25, 26, 27])"
      ]
     },
     "execution_count": 173,
     "metadata": {},
     "output_type": "execute_result"
    }
   ],
   "source": [
    "# convert old dimension\n",
    "r2=r1.ravel()\n",
    "r2"
   ]
  },
  {
   "cell_type": "code",
   "execution_count": 175,
   "id": "fd966e95",
   "metadata": {},
   "outputs": [
    {
     "data": {
      "text/plain": [
       "(16,)"
      ]
     },
     "execution_count": 175,
     "metadata": {},
     "output_type": "execute_result"
    }
   ],
   "source": [
    "r2.shape"
   ]
  },
  {
   "cell_type": "code",
   "execution_count": 177,
   "id": "c3e18bc3",
   "metadata": {},
   "outputs": [
    {
     "data": {
      "text/plain": [
       "array([12, 13, 14, 15, 16, 17, 18, 19, 20, 21, 22, 23, 24, 25, 26, 27])"
      ]
     },
     "execution_count": 177,
     "metadata": {},
     "output_type": "execute_result"
    }
   ],
   "source": [
    "r"
   ]
  },
  {
   "cell_type": "code",
   "execution_count": 186,
   "id": "45490022",
   "metadata": {},
   "outputs": [
    {
     "data": {
      "text/plain": [
       "array([[12, 13],\n",
       "       [14, 15],\n",
       "       [16, 17],\n",
       "       [18, 19],\n",
       "       [20, 21],\n",
       "       [22, 23],\n",
       "       [24, 25],\n",
       "       [26, 27]])"
      ]
     },
     "execution_count": 186,
     "metadata": {},
     "output_type": "execute_result"
    }
   ],
   "source": [
    "r.reshape(8,2)"
   ]
  },
  {
   "cell_type": "code",
   "execution_count": 190,
   "id": "06e4760e",
   "metadata": {},
   "outputs": [
    {
     "data": {
      "text/plain": [
       "array([[12, 20],\n",
       "       [13, 21],\n",
       "       [14, 22],\n",
       "       [15, 23],\n",
       "       [16, 24],\n",
       "       [17, 25],\n",
       "       [18, 26],\n",
       "       [19, 27]])"
      ]
     },
     "execution_count": 190,
     "metadata": {},
     "output_type": "execute_result"
    }
   ],
   "source": [
    "r.reshape(8,2,order='F')"
   ]
  },
  {
   "cell_type": "code",
   "execution_count": 193,
   "id": "6fdd121b",
   "metadata": {},
   "outputs": [
    {
     "data": {
      "text/plain": [
       "array([12, 13, 14, 15, 16, 17, 18, 19, 20, 21, 22, 23, 24, 25, 26, 27])"
      ]
     },
     "execution_count": 193,
     "metadata": {},
     "output_type": "execute_result"
    }
   ],
   "source": [
    "r1.flatten()"
   ]
  },
  {
   "cell_type": "code",
   "execution_count": 198,
   "id": "b2ccaaea",
   "metadata": {},
   "outputs": [
    {
     "data": {
      "text/plain": [
       "array([ 3,  6,  9, 12, 15, 18, 21])"
      ]
     },
     "execution_count": 198,
     "metadata": {},
     "output_type": "execute_result"
    }
   ],
   "source": [
    "a=np.arange(3,22,3)\n",
    "a"
   ]
  },
  {
   "cell_type": "code",
   "execution_count": 206,
   "id": "48714b7b",
   "metadata": {},
   "outputs": [
    {
     "data": {
      "text/plain": [
       "array([12, 18])"
      ]
     },
     "execution_count": 206,
     "metadata": {},
     "output_type": "execute_result"
    }
   ],
   "source": [
    "a[3:22:2]"
   ]
  },
  {
   "cell_type": "code",
   "execution_count": 218,
   "id": "ab4803d0",
   "metadata": {},
   "outputs": [
    {
     "data": {
      "text/plain": [
       "(1, 4, 3)"
      ]
     },
     "execution_count": 218,
     "metadata": {},
     "output_type": "execute_result"
    }
   ],
   "source": [
    "k=np.array([[[2,3,4],[5,6,7],[8,9,10],[45,2,8]]])\n",
    "k.shape"
   ]
  },
  {
   "cell_type": "code",
   "execution_count": 220,
   "id": "fe4b7004",
   "metadata": {},
   "outputs": [
    {
     "data": {
      "text/plain": [
       "array([ 0,  1,  2,  3,  4,  5,  6,  7,  8,  9, 10, 11, 12, 13, 14])"
      ]
     },
     "execution_count": 220,
     "metadata": {},
     "output_type": "execute_result"
    }
   ],
   "source": [
    "k1=np.arange(15)\n",
    "k1"
   ]
  },
  {
   "cell_type": "code",
   "execution_count": 223,
   "id": "0cfc0ddf",
   "metadata": {},
   "outputs": [
    {
     "data": {
      "text/plain": [
       "array([ 0,  1,  2,  3,  4,  5,  6,  7,  8,  9, 10, 11, 12, 13, 14])"
      ]
     },
     "execution_count": 223,
     "metadata": {},
     "output_type": "execute_result"
    }
   ],
   "source": [
    "k2=k1\n",
    "k2"
   ]
  },
  {
   "cell_type": "code",
   "execution_count": 226,
   "id": "300741db",
   "metadata": {},
   "outputs": [
    {
     "name": "stdout",
     "output_type": "stream",
     "text": [
      "[ 0  1  2  3  4 25  6  7  8  9 10 11 12 13 14]\n",
      "[ 0  1  2  3  4 25  6  7  8  9 10 11 12 13 14]\n"
     ]
    }
   ],
   "source": [
    "k2[5]=25\n",
    "print(k2)\n",
    "print(k1)"
   ]
  },
  {
   "cell_type": "code",
   "execution_count": 234,
   "id": "64802fdd",
   "metadata": {},
   "outputs": [
    {
     "name": "stdout",
     "output_type": "stream",
     "text": [
      "True\n",
      "2351235265808\n",
      "2351235265808\n"
     ]
    }
   ],
   "source": [
    "print(np.shares_memory(k1,k2))\n",
    "print(id(k1))\n",
    "print(id(k2))"
   ]
  },
  {
   "cell_type": "code",
   "execution_count": 252,
   "id": "9b2f3c15",
   "metadata": {},
   "outputs": [
    {
     "data": {
      "text/plain": [
       "True"
      ]
     },
     "execution_count": 252,
     "metadata": {},
     "output_type": "execute_result"
    }
   ],
   "source": [
    "k3=k1.view()\n",
    "np.shares_memory(k1,k3)"
   ]
  },
  {
   "cell_type": "code",
   "execution_count": 236,
   "id": "677d4ec7",
   "metadata": {},
   "outputs": [
    {
     "name": "stdout",
     "output_type": "stream",
     "text": [
      "[ 0  1  2  3 77 25  6  7  8  9 10 11 12 13 14]\n",
      "[ 0  1  2  3 77 25  6  7  8  9 10 11 12 13 14]\n"
     ]
    }
   ],
   "source": [
    "k3[4]=77\n",
    "print(k1)\n",
    "print(k3)"
   ]
  },
  {
   "cell_type": "code",
   "execution_count": 238,
   "id": "4b3ab651",
   "metadata": {},
   "outputs": [
    {
     "data": {
      "text/plain": [
       "array([ 0,  1,  2,  3, 77, 25,  6,  7,  8,  9, 10, 11, 12, 13, 14])"
      ]
     },
     "execution_count": 238,
     "metadata": {},
     "output_type": "execute_result"
    }
   ],
   "source": [
    "k4=np.copy(k1)\n",
    "k4"
   ]
  },
  {
   "cell_type": "code",
   "execution_count": 246,
   "id": "e5f6af45",
   "metadata": {},
   "outputs": [
    {
     "name": "stdout",
     "output_type": "stream",
     "text": [
      "[ 0  1  2  3 77 25  6  7  8  9 10 11 12 13 14]\n",
      "[ 0  1  2  3 77 25  6  7  8  9 10 11  0 13 14]\n"
     ]
    }
   ],
   "source": [
    "k4[-3]=0\n",
    "print(k1)\n",
    "print(k4)"
   ]
  },
  {
   "cell_type": "code",
   "execution_count": 250,
   "id": "7ee6805a",
   "metadata": {},
   "outputs": [
    {
     "data": {
      "text/plain": [
       "False"
      ]
     },
     "execution_count": 250,
     "metadata": {},
     "output_type": "execute_result"
    }
   ],
   "source": [
    "np.shares_memory(k1,k4)\n"
   ]
  },
  {
   "cell_type": "code",
   "execution_count": 268,
   "id": "1ec21746",
   "metadata": {},
   "outputs": [
    {
     "data": {
      "text/plain": [
       "array([[24, 25, 26],\n",
       "       [27, 28, 29],\n",
       "       [30, 31, 38]])"
      ]
     },
     "execution_count": 268,
     "metadata": {},
     "output_type": "execute_result"
    }
   ],
   "source": [
    "m=np.array([[24,25,26],[27,28,29],[30,31,38]])\n",
    "m"
   ]
  },
  {
   "cell_type": "code",
   "execution_count": 269,
   "id": "fa7a2f27",
   "metadata": {},
   "outputs": [
    {
     "data": {
      "text/plain": [
       "array([[ True,  True,  True],\n",
       "       [ True, False, False],\n",
       "       [False, False, False]])"
      ]
     },
     "execution_count": 269,
     "metadata": {},
     "output_type": "execute_result"
    }
   ],
   "source": [
    "m<28"
   ]
  },
  {
   "cell_type": "code",
   "execution_count": 270,
   "id": "cada7e6b",
   "metadata": {},
   "outputs": [
    {
     "data": {
      "text/plain": [
       "array([[False, False, False],\n",
       "       [False, False,  True],\n",
       "       [ True,  True,  True]])"
      ]
     },
     "execution_count": 270,
     "metadata": {},
     "output_type": "execute_result"
    }
   ],
   "source": [
    "m>28"
   ]
  },
  {
   "cell_type": "code",
   "execution_count": 275,
   "id": "8ca91b70",
   "metadata": {},
   "outputs": [
    {
     "data": {
      "text/plain": [
       "array([29, 30, 31, 38])"
      ]
     },
     "execution_count": 275,
     "metadata": {},
     "output_type": "execute_result"
    }
   ],
   "source": [
    "m[m>28]"
   ]
  },
  {
   "cell_type": "code",
   "execution_count": 276,
   "id": "540cea7a",
   "metadata": {},
   "outputs": [
    {
     "data": {
      "text/plain": [
       "array([29, 30, 31])"
      ]
     },
     "execution_count": 276,
     "metadata": {},
     "output_type": "execute_result"
    }
   ],
   "source": [
    "m[(m>28) & (m<34)]"
   ]
  },
  {
   "cell_type": "code",
   "execution_count": 277,
   "id": "2ca45fb8",
   "metadata": {},
   "outputs": [
    {
     "data": {
      "text/plain": [
       "array([ True,  True,  True,  True,  True,  True,  True,  True,  True,\n",
       "        True,  True,  True, False,  True,  True])"
      ]
     },
     "execution_count": 277,
     "metadata": {},
     "output_type": "execute_result"
    }
   ],
   "source": [
    "k1==k4"
   ]
  },
  {
   "cell_type": "code",
   "execution_count": 278,
   "id": "fa67a01b",
   "metadata": {},
   "outputs": [
    {
     "data": {
      "text/plain": [
       "array([ True,  True,  True,  True,  True,  True,  True,  True,  True,\n",
       "        True,  True,  True,  True,  True,  True])"
      ]
     },
     "execution_count": 278,
     "metadata": {},
     "output_type": "execute_result"
    }
   ],
   "source": [
    "k1==k3"
   ]
  },
  {
   "cell_type": "code",
   "execution_count": 280,
   "id": "52cecbc7",
   "metadata": {},
   "outputs": [
    {
     "data": {
      "text/plain": [
       "array([[24, 25, 26],\n",
       "       [27, 28, 29],\n",
       "       [30, 31, 38]])"
      ]
     },
     "execution_count": 280,
     "metadata": {},
     "output_type": "execute_result"
    }
   ],
   "source": [
    "a"
   ]
  },
  {
   "cell_type": "code",
   "execution_count": 281,
   "id": "1628baf4",
   "metadata": {},
   "outputs": [
    {
     "data": {
      "text/plain": [
       "array([[24, 27, 30],\n",
       "       [25, 28, 31],\n",
       "       [26, 29, 38]])"
      ]
     },
     "execution_count": 281,
     "metadata": {},
     "output_type": "execute_result"
    }
   ],
   "source": [
    "a.transpose()"
   ]
  },
  {
   "cell_type": "code",
   "execution_count": 283,
   "id": "aff69b51",
   "metadata": {},
   "outputs": [
    {
     "name": "stdout",
     "output_type": "stream",
     "text": [
      "[ 0  1  2  3 77 25  6  7  8  9 10 11 12 13 14]\n",
      "[ 0  1  2  3 77 25  6  7  8  9 10 11  0 13 14]\n"
     ]
    },
    {
     "data": {
      "text/plain": [
       "array([[ 0,  1,  2,  3, 77, 25,  6,  7,  8,  9, 10, 11, 12, 13, 14],\n",
       "       [ 0,  1,  2,  3, 77, 25,  6,  7,  8,  9, 10, 11,  0, 13, 14]])"
      ]
     },
     "execution_count": 283,
     "metadata": {},
     "output_type": "execute_result"
    }
   ],
   "source": [
    "print(k1)\n",
    "print(k4)\n",
    "np.vstack((k1,k4))"
   ]
  },
  {
   "cell_type": "code",
   "execution_count": 284,
   "id": "9e5d88a2",
   "metadata": {},
   "outputs": [
    {
     "data": {
      "text/plain": [
       "array([ 0,  1,  2,  3, 77, 25,  6,  7,  8,  9, 10, 11, 12, 13, 14,  0,  1,\n",
       "        2,  3, 77, 25,  6,  7,  8,  9, 10, 11,  0, 13, 14])"
      ]
     },
     "execution_count": 284,
     "metadata": {},
     "output_type": "execute_result"
    }
   ],
   "source": [
    "np.hstack((k1,k4))"
   ]
  },
  {
   "cell_type": "code",
   "execution_count": 287,
   "id": "a763f119",
   "metadata": {},
   "outputs": [
    {
     "data": {
      "text/plain": [
       "array([ 0,  1,  2,  3, 77, 25,  6, 60,  7,  8,  9, 10, 11, 12, 13, 14])"
      ]
     },
     "execution_count": 287,
     "metadata": {},
     "output_type": "execute_result"
    }
   ],
   "source": [
    "np.insert(k1,7,60)"
   ]
  },
  {
   "cell_type": "code",
   "execution_count": 288,
   "id": "5245e7ea",
   "metadata": {},
   "outputs": [
    {
     "data": {
      "text/plain": [
       "array([ 0,  1,  2,  3, 77, 25,  6,  0,  1,  2,  3, 77, 25,  6,  7,  8,  9,\n",
       "       10, 11,  0, 13, 14,  7,  8,  9, 10, 11, 12, 13, 14])"
      ]
     },
     "execution_count": 288,
     "metadata": {},
     "output_type": "execute_result"
    }
   ],
   "source": [
    "np.insert(k1,7,k4)"
   ]
  },
  {
   "cell_type": "code",
   "execution_count": 291,
   "id": "84a2f32e",
   "metadata": {},
   "outputs": [
    {
     "name": "stdout",
     "output_type": "stream",
     "text": [
      "[ 0  1  2  3 77 25  6  7  8  9 10 11 12 13 14]\n"
     ]
    },
    {
     "data": {
      "text/plain": [
       "array([ 0,  1,  2,  3, 77,  6,  7,  8,  9, 10, 11, 12, 13, 14])"
      ]
     },
     "execution_count": 291,
     "metadata": {},
     "output_type": "execute_result"
    }
   ],
   "source": [
    "print(k1)        # index 5th 25 deleted\n",
    "np.delete(k1,5)"
   ]
  },
  {
   "cell_type": "code",
   "execution_count": 292,
   "id": "ec673294",
   "metadata": {},
   "outputs": [
    {
     "data": {
      "text/plain": [
       "array([[24, 25, 26],\n",
       "       [27, 28, 29],\n",
       "       [30, 31, 38]])"
      ]
     },
     "execution_count": 292,
     "metadata": {},
     "output_type": "execute_result"
    }
   ],
   "source": [
    "a"
   ]
  },
  {
   "cell_type": "code",
   "execution_count": 294,
   "id": "6b49a27f",
   "metadata": {},
   "outputs": [
    {
     "data": {
      "text/plain": [
       "array([[-0.90557836, -0.13235175,  0.76255845],\n",
       "       [ 0.95637593,  0.27090579, -0.66363388],\n",
       "       [-0.98803162, -0.40403765,  0.29636858]])"
      ]
     },
     "execution_count": 294,
     "metadata": {},
     "output_type": "execute_result"
    }
   ],
   "source": [
    "np.sin(a)"
   ]
  },
  {
   "cell_type": "code",
   "execution_count": 296,
   "id": "e93c0187",
   "metadata": {},
   "outputs": [
    {
     "data": {
      "text/plain": [
       "array([[-2.1348967 , -0.13352641,  1.17875355],\n",
       "       [-3.2737038 , -0.2814296 ,  0.88714284],\n",
       "       [-6.4053312 , -0.44169557,  0.31030966]])"
      ]
     },
     "execution_count": 296,
     "metadata": {},
     "output_type": "execute_result"
    }
   ],
   "source": [
    "np.tan(a)"
   ]
  },
  {
   "cell_type": "code",
   "execution_count": 297,
   "id": "a0aac909",
   "metadata": {},
   "outputs": [
    {
     "data": {
      "text/plain": [
       "array([[2.64891221e+10, 7.20048993e+10, 1.95729609e+11],\n",
       "       [5.32048241e+11, 1.44625706e+12, 3.93133430e+12],\n",
       "       [1.06864746e+13, 2.90488497e+13, 3.18559318e+16]])"
      ]
     },
     "execution_count": 297,
     "metadata": {},
     "output_type": "execute_result"
    }
   ],
   "source": [
    "np.exp(a)"
   ]
  },
  {
   "cell_type": "code",
   "execution_count": 298,
   "id": "d33aa357",
   "metadata": {},
   "outputs": [
    {
     "data": {
      "text/plain": [
       "258"
      ]
     },
     "execution_count": 298,
     "metadata": {},
     "output_type": "execute_result"
    }
   ],
   "source": [
    "np.sum(a)"
   ]
  },
  {
   "cell_type": "code",
   "execution_count": 300,
   "id": "647b49fc",
   "metadata": {},
   "outputs": [
    {
     "data": {
      "text/plain": [
       "array([81, 84, 93])"
      ]
     },
     "execution_count": 300,
     "metadata": {},
     "output_type": "execute_result"
    }
   ],
   "source": [
    "np.sum(a,axis=0)"
   ]
  },
  {
   "cell_type": "code",
   "execution_count": 299,
   "id": "578f857f",
   "metadata": {},
   "outputs": [
    {
     "data": {
      "text/plain": [
       "array([75, 84, 99])"
      ]
     },
     "execution_count": 299,
     "metadata": {},
     "output_type": "execute_result"
    }
   ],
   "source": [
    "np.sum(a,axis=1)"
   ]
  },
  {
   "cell_type": "code",
   "execution_count": 301,
   "id": "ed91fe76",
   "metadata": {},
   "outputs": [
    {
     "data": {
      "text/plain": [
       "array([[24, 25, 26],\n",
       "       [27, 28, 29],\n",
       "       [30, 31, 38]])"
      ]
     },
     "execution_count": 301,
     "metadata": {},
     "output_type": "execute_result"
    }
   ],
   "source": [
    "a"
   ]
  },
  {
   "cell_type": "code",
   "execution_count": 302,
   "id": "bd2fe504",
   "metadata": {},
   "outputs": [
    {
     "data": {
      "text/plain": [
       "28.666666666666668"
      ]
     },
     "execution_count": 302,
     "metadata": {},
     "output_type": "execute_result"
    }
   ],
   "source": [
    "np.mean(a)"
   ]
  },
  {
   "cell_type": "code",
   "execution_count": 305,
   "id": "01acb2ad",
   "metadata": {},
   "outputs": [
    {
     "data": {
      "text/plain": [
       "28.0"
      ]
     },
     "execution_count": 305,
     "metadata": {},
     "output_type": "execute_result"
    }
   ],
   "source": [
    "np.median(a)"
   ]
  },
  {
   "cell_type": "code",
   "execution_count": 307,
   "id": "c12950eb",
   "metadata": {},
   "outputs": [
    {
     "data": {
      "text/plain": [
       "3.9440531887330774"
      ]
     },
     "execution_count": 307,
     "metadata": {},
     "output_type": "execute_result"
    }
   ],
   "source": [
    "np.std(a)"
   ]
  },
  {
   "cell_type": "code",
   "execution_count": 308,
   "id": "fd190bbd",
   "metadata": {},
   "outputs": [
    {
     "data": {
      "text/plain": [
       "38"
      ]
     },
     "execution_count": 308,
     "metadata": {},
     "output_type": "execute_result"
    }
   ],
   "source": [
    "np.max(a)"
   ]
  },
  {
   "cell_type": "code",
   "execution_count": 310,
   "id": "3a05f1c5",
   "metadata": {},
   "outputs": [
    {
     "data": {
      "text/plain": [
       "array([ 0,  1,  2,  3, 77, 25,  6,  7,  8,  9, 10, 11, 12, 13, 14])"
      ]
     },
     "execution_count": 310,
     "metadata": {},
     "output_type": "execute_result"
    }
   ],
   "source": [
    "k1"
   ]
  },
  {
   "cell_type": "code",
   "execution_count": 309,
   "id": "a6ccee11",
   "metadata": {},
   "outputs": [
    {
     "data": {
      "text/plain": [
       "array([ 0,  1,  2,  3,  6,  7,  8,  9, 10, 11, 12, 13, 14, 25, 77])"
      ]
     },
     "execution_count": 309,
     "metadata": {},
     "output_type": "execute_result"
    }
   ],
   "source": [
    "np.sort(k1)"
   ]
  },
  {
   "cell_type": "code",
   "execution_count": 311,
   "id": "231a467f",
   "metadata": {},
   "outputs": [
    {
     "data": {
      "text/plain": [
       "(array([10], dtype=int64),)"
      ]
     },
     "execution_count": 311,
     "metadata": {},
     "output_type": "execute_result"
    }
   ],
   "source": [
    "np.where(k1==10)"
   ]
  },
  {
   "cell_type": "code",
   "execution_count": 312,
   "id": "7cdf4c6d",
   "metadata": {},
   "outputs": [
    {
     "data": {
      "text/plain": [
       "(array([ 0,  5, 10], dtype=int64),)"
      ]
     },
     "execution_count": 312,
     "metadata": {},
     "output_type": "execute_result"
    }
   ],
   "source": [
    "np.where(k1%5==0)"
   ]
  },
  {
   "cell_type": "code",
   "execution_count": 317,
   "id": "e671c1d7",
   "metadata": {},
   "outputs": [
    {
     "data": {
      "text/plain": [
       "array([ 0,  0,  0,  0, 77, 25,  0,  0,  8,  9, 10, 11, 12, 13, 14])"
      ]
     },
     "execution_count": 317,
     "metadata": {},
     "output_type": "execute_result"
    }
   ],
   "source": [
    "np.where(k1>7,k1,0)"
   ]
  },
  {
   "cell_type": "code",
   "execution_count": null,
   "id": "946b988f",
   "metadata": {},
   "outputs": [],
   "source": []
  },
  {
   "cell_type": "code",
   "execution_count": null,
   "id": "103fb2bb",
   "metadata": {},
   "outputs": [],
   "source": []
  },
  {
   "cell_type": "code",
   "execution_count": null,
   "id": "b06ec5ec",
   "metadata": {},
   "outputs": [],
   "source": []
  },
  {
   "cell_type": "code",
   "execution_count": null,
   "id": "ba119073",
   "metadata": {},
   "outputs": [],
   "source": []
  },
  {
   "cell_type": "code",
   "execution_count": null,
   "id": "29ceb888",
   "metadata": {},
   "outputs": [],
   "source": []
  },
  {
   "cell_type": "code",
   "execution_count": null,
   "id": "7a0e5f70",
   "metadata": {},
   "outputs": [],
   "source": []
  },
  {
   "cell_type": "code",
   "execution_count": null,
   "id": "2d8f5726",
   "metadata": {},
   "outputs": [],
   "source": []
  },
  {
   "cell_type": "code",
   "execution_count": null,
   "id": "989f9664",
   "metadata": {},
   "outputs": [],
   "source": []
  },
  {
   "cell_type": "code",
   "execution_count": null,
   "id": "7f4aabf0",
   "metadata": {},
   "outputs": [],
   "source": []
  }
 ],
 "metadata": {
  "kernelspec": {
   "display_name": "Python 3",
   "language": "python",
   "name": "python3"
  },
  "language_info": {
   "codemirror_mode": {
    "name": "ipython",
    "version": 3
   },
   "file_extension": ".py",
   "mimetype": "text/x-python",
   "name": "python",
   "nbconvert_exporter": "python",
   "pygments_lexer": "ipython3",
   "version": "3.8.8"
  }
 },
 "nbformat": 4,
 "nbformat_minor": 5
}
