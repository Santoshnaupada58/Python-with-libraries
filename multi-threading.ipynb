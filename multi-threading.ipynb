{
 "cells": [
  {
   "cell_type": "code",
   "execution_count": null,
   "id": "11dc9885",
   "metadata": {},
   "outputs": [],
   "source": [
    "'''\n",
    "# Process:\n",
    "# The process is a program (set of instructions) in execution\n",
    "# Process cannot share the memory\n",
    "\n",
    "\n",
    "# Thread:\n",
    "# Thread is light-weight processes\n",
    "# Threads can be used to perform complicated tasks in the background without interrupting the main program.\n",
    "# Threads can Share the memory\n",
    "\n",
    "\n",
    "# run():is the entry point for a thread.\n",
    "\n",
    "# start():method starts a thread by calling the run method.\n",
    "\n",
    "# join([time]):waits for threads to terminate.\n",
    "\n",
    "# isAlive():method checks whether a thread is still executing.\n",
    "\n",
    "# getName():method returns the name of a thread.\n",
    "\n",
    "'''"
   ]
  },
  {
   "cell_type": "code",
   "execution_count": 10,
   "id": "360b0000",
   "metadata": {},
   "outputs": [],
   "source": [
    "import threading\n",
    "from threading import *\n",
    "from time import sleep"
   ]
  },
  {
   "cell_type": "code",
   "execution_count": 11,
   "id": "5e38bd21",
   "metadata": {},
   "outputs": [
    {
     "name": "stdout",
     "output_type": "stream",
     "text": [
      "this is 1st thread\n",
      "this is 1st thread\n",
      "this is 1st thread\n",
      "this is 1st thread\n",
      "this is 1st thread\n",
      "this is 1st thread\n",
      "this is 1st thread\n",
      "this is 1st thread\n",
      "this is 2nd thread\n",
      "this is 2nd thread\n",
      "this is 2nd thread\n",
      "this is 2nd thread\n",
      "this is 2nd thread\n",
      "this is 2nd thread\n",
      "this is 2nd thread\n",
      "this is 2nd thread\n"
     ]
    }
   ],
   "source": [
    "# without sleep(),thread not accurate\n",
    "\n",
    "class SantoshThread(Thread):\n",
    "    def run(self):\n",
    "        for i in range(8):\n",
    "            print('this is 1st thread')\n",
    "            \n",
    "            \n",
    "class KumarThread(Thread):\n",
    "     def run(self):\n",
    "         for i in range(8):\n",
    "            print('this is 2nd thread')\n",
    "            \n",
    "\n",
    "A=SantoshThread()\n",
    "B=KumarThread()\n",
    "A.start()\n",
    "B.start()"
   ]
  },
  {
   "cell_type": "code",
   "execution_count": 15,
   "id": "87b539de",
   "metadata": {},
   "outputs": [
    {
     "name": "stdout",
     "output_type": "stream",
     "text": [
      "this is 1st thread\n",
      "this is 2nd thread\n",
      "this is 2nd threadthis is 1st thread\n",
      "\n",
      "this is 2nd thread\n",
      "this is 1st thread\n",
      "this is 1st thread\n",
      "this is 2nd thread\n",
      "this is 1st thread\n",
      "this is 2nd thread\n",
      "this is 2nd threadthis is 1st thread\n",
      "\n"
     ]
    }
   ],
   "source": [
    "## using sleep() ,minor error\n",
    "\n",
    "class SantoshThread(Thread):\n",
    "    def run(self):\n",
    "        for i in range(8):\n",
    "            print('this is 1st thread')\n",
    "            sleep(4)\n",
    "            \n",
    "class KumarThread(Thread):\n",
    "     def run(self):\n",
    "         for i in range(8):\n",
    "            print('this is 2nd thread')\n",
    "            sleep(4)\n",
    "\n",
    "A=SantoshThread()\n",
    "B=KumarThread()\n",
    "A.start()\n",
    "B.start()"
   ]
  },
  {
   "cell_type": "code",
   "execution_count": 17,
   "id": "0ba44adb",
   "metadata": {},
   "outputs": [
    {
     "name": "stdout",
     "output_type": "stream",
     "text": [
      "this is 1st thread\n",
      "this is 2nd thread\n",
      "this is 1st thread\n",
      "this is 2nd thread\n",
      "this is 1st thread\n",
      "this is 2nd thread\n",
      "this is 1st thread\n",
      "this is 2nd thread\n",
      "this is 1st thread\n",
      "this is 2nd thread\n",
      "this is 1st thread\n",
      "this is 2nd thread\n",
      "this is 1st thread\n",
      "this is 2nd thread\n",
      "this is 1st thread\n",
      "this is 2nd thread\n"
     ]
    }
   ],
   "source": [
    "# overcome the error, using sleep() in below threads\n",
    "\n",
    "class SantoshThread(Thread):\n",
    "    def run(self):\n",
    "        for i in range(8):\n",
    "            print('this is 1st thread')\n",
    "            sleep(5)\n",
    "            \n",
    "class KumarThread(Thread):\n",
    "     def run(self):\n",
    "         for i in range(8):\n",
    "            print('this is 2nd thread')\n",
    "            sleep(5)\n",
    "\n",
    "A=SantoshThread()\n",
    "B=KumarThread()\n",
    "A.start()\n",
    "sleep(1)\n",
    "B.start()"
   ]
  },
  {
   "cell_type": "code",
   "execution_count": 18,
   "id": "bead726e",
   "metadata": {},
   "outputs": [
    {
     "name": "stdout",
     "output_type": "stream",
     "text": [
      "this is 1st thread\n",
      "this is 2nd thread\n",
      "this is 1st thread\n",
      "this is 2nd thread\n",
      "this is 1st thread\n",
      "this is 2nd thread\n",
      "this is 1st thread\n",
      "this is 2nd thread\n",
      "this is 1st thread\n",
      "this is 2nd thread\n",
      "this is 1st thread\n",
      "this is 2nd thread\n",
      "this is 1st thread\n",
      "this is 2nd thread\n",
      "this is 1st thread\n",
      "this is 2nd thread\n"
     ]
    }
   ],
   "source": [
    "# here using join(), terminate the thread()\n",
    "\n",
    "class SantoshThread(Thread):\n",
    "    def run(self):\n",
    "        for i in range(8):\n",
    "            print('this is 1st thread')\n",
    "            sleep(3)\n",
    "            \n",
    "class KumarThread(Thread):\n",
    "     def run(self):\n",
    "         for i in range(8):\n",
    "            print('this is 2nd thread')\n",
    "            sleep(3)\n",
    "\n",
    "A=SantoshThread()\n",
    "B=KumarThread()\n",
    "A.start()\n",
    "sleep(1)\n",
    "B.start()\n",
    "A.join(3)\n",
    "B.join(3)"
   ]
  },
  {
   "cell_type": "code",
   "execution_count": 20,
   "id": "0617179c",
   "metadata": {},
   "outputs": [
    {
     "name": "stdout",
     "output_type": "stream",
     "text": [
      "this is 1st thread\n",
      "True\n",
      "this is 2nd thread\n",
      "this is 1st thread\n",
      "this is 2nd thread\n",
      "this is 1st thread\n",
      "this is 2nd thread\n",
      "this is 1st thread\n",
      "this is 2nd thread\n",
      "this is 1st thread\n",
      "this is 2nd thread\n",
      "this is 1st thread\n",
      "this is 2nd thread\n",
      "this is 1st thread\n",
      "this is 2nd thread\n",
      "this is 1st thread\n",
      "this is 2nd thread\n",
      "False\n"
     ]
    }
   ],
   "source": [
    "## using   .is_alive,they give value true/false\n",
    "\n",
    "class SantoshThread(Thread):\n",
    "    def run(self):\n",
    "        for i in range(8):\n",
    "            print('this is 1st thread')\n",
    "            sleep(3)\n",
    "            \n",
    "class KumarThread(Thread):\n",
    "     def run(self):\n",
    "         for i in range(8):\n",
    "            print('this is 2nd thread')\n",
    "            sleep(3)\n",
    "\n",
    "A=SantoshThread()\n",
    "B=KumarThread()\n",
    "A.start()\n",
    "print(A.is_alive())\n",
    "sleep(1)\n",
    "B.start()\n",
    "A.join()\n",
    "B.join()\n",
    "print(A.is_alive())"
   ]
  },
  {
   "cell_type": "code",
   "execution_count": 22,
   "id": "771f9098",
   "metadata": {},
   "outputs": [
    {
     "name": "stdout",
     "output_type": "stream",
     "text": [
      "this is 1st thread Thread-34\n",
      "this is 2nd thread Thread-35\n",
      "this is 1st thread Thread-34\n",
      "this is 2nd thread Thread-35\n",
      "this is 1st thread Thread-34\n",
      "this is 2nd thread Thread-35\n",
      "this is 1st thread Thread-34\n",
      "this is 2nd thread Thread-35\n",
      "this is 1st thread Thread-34\n",
      "this is 2nd thread Thread-35\n",
      "this is 1st thread Thread-34\n",
      "this is 2nd thread Thread-35\n",
      "this is 1st thread Thread-34\n",
      "this is 2nd thread Thread-35\n",
      "this is 1st thread Thread-34\n",
      "this is 2nd thread Thread-35\n"
     ]
    }
   ],
   "source": [
    "# current threads\n",
    "\n",
    "class SantoshThread(Thread):\n",
    "    def run(self):\n",
    "        for i in range(8):\n",
    "            print('this is 1st thread',threading.current_thread().getName())\n",
    "            sleep(3)\n",
    "            \n",
    "class KumarThread(Thread):\n",
    "     def run(self):\n",
    "         for i in range(8):\n",
    "            print('this is 2nd thread',threading.current_thread().getName())\n",
    "            sleep(3)\n",
    "\n",
    "A=SantoshThread()\n",
    "B=KumarThread()\n",
    "A.start()\n",
    "sleep(1)\n",
    "B.start()\n",
    "A.join()\n",
    "B.join()"
   ]
  },
  {
   "cell_type": "code",
   "execution_count": 23,
   "id": "5a5c6ddf",
   "metadata": {},
   "outputs": [
    {
     "name": "stdout",
     "output_type": "stream",
     "text": [
      "MainThread\n"
     ]
    }
   ],
   "source": [
    "import threading\n",
    "print(threading.current_thread().getName())"
   ]
  },
  {
   "cell_type": "code",
   "execution_count": null,
   "id": "cd046b8d",
   "metadata": {},
   "outputs": [],
   "source": []
  },
  {
   "cell_type": "code",
   "execution_count": null,
   "id": "a4ef1848",
   "metadata": {},
   "outputs": [],
   "source": []
  },
  {
   "cell_type": "code",
   "execution_count": null,
   "id": "2d805e7e",
   "metadata": {},
   "outputs": [],
   "source": []
  },
  {
   "cell_type": "code",
   "execution_count": null,
   "id": "d6b6dc0a",
   "metadata": {},
   "outputs": [],
   "source": []
  },
  {
   "cell_type": "code",
   "execution_count": null,
   "id": "9592bd44",
   "metadata": {},
   "outputs": [],
   "source": []
  },
  {
   "cell_type": "code",
   "execution_count": null,
   "id": "128d4cc3",
   "metadata": {},
   "outputs": [],
   "source": []
  },
  {
   "cell_type": "code",
   "execution_count": null,
   "id": "74d5d64c",
   "metadata": {},
   "outputs": [],
   "source": []
  },
  {
   "cell_type": "code",
   "execution_count": null,
   "id": "ef2126ee",
   "metadata": {},
   "outputs": [],
   "source": []
  },
  {
   "cell_type": "code",
   "execution_count": null,
   "id": "28e6137c",
   "metadata": {},
   "outputs": [],
   "source": []
  }
 ],
 "metadata": {
  "kernelspec": {
   "display_name": "Python 3",
   "language": "python",
   "name": "python3"
  },
  "language_info": {
   "codemirror_mode": {
    "name": "ipython",
    "version": 3
   },
   "file_extension": ".py",
   "mimetype": "text/x-python",
   "name": "python",
   "nbconvert_exporter": "python",
   "pygments_lexer": "ipython3",
   "version": "3.8.8"
  }
 },
 "nbformat": 4,
 "nbformat_minor": 5
}
