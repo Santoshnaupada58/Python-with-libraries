{
 "cells": [
  {
   "cell_type": "code",
   "execution_count": 14,
   "id": "3d2ecc74",
   "metadata": {},
   "outputs": [
    {
     "name": "stdout",
     "output_type": "stream",
     "text": [
      "<class 'str'>\n"
     ]
    },
    {
     "data": {
      "text/plain": [
       "'I love my india my'"
      ]
     },
     "execution_count": 14,
     "metadata": {},
     "output_type": "execute_result"
    }
   ],
   "source": [
    "# task 11\n",
    "# strings\n",
    "\n",
    "quote=('i LOVE my INDIA my')\n",
    "print(type(quote))\n",
    "quote.capitalize()"
   ]
  },
  {
   "cell_type": "code",
   "execution_count": 38,
   "id": "f4c1fd1f",
   "metadata": {},
   "outputs": [
    {
     "data": {
      "text/plain": [
       "18"
      ]
     },
     "execution_count": 38,
     "metadata": {},
     "output_type": "execute_result"
    }
   ],
   "source": [
    "len(quote)"
   ]
  },
  {
   "cell_type": "code",
   "execution_count": 39,
   "id": "6075158e",
   "metadata": {},
   "outputs": [
    {
     "data": {
      "text/plain": [
       "'I LOVE MY INDIA MY'"
      ]
     },
     "execution_count": 39,
     "metadata": {},
     "output_type": "execute_result"
    }
   ],
   "source": [
    "quote.upper()"
   ]
  },
  {
   "cell_type": "code",
   "execution_count": 40,
   "id": "91b908fe",
   "metadata": {},
   "outputs": [
    {
     "data": {
      "text/plain": [
       "'i love my india my'"
      ]
     },
     "execution_count": 40,
     "metadata": {},
     "output_type": "execute_result"
    }
   ],
   "source": [
    "quote.lower()"
   ]
  },
  {
   "cell_type": "code",
   "execution_count": 41,
   "id": "7923982e",
   "metadata": {},
   "outputs": [
    {
     "data": {
      "text/plain": [
       "'####i LOVE my INDIA my###'"
      ]
     },
     "execution_count": 41,
     "metadata": {},
     "output_type": "execute_result"
    }
   ],
   "source": [
    "quote.center(25,'#')"
   ]
  },
  {
   "cell_type": "code",
   "execution_count": 42,
   "id": "559e37cc",
   "metadata": {},
   "outputs": [
    {
     "data": {
      "text/plain": [
       "2"
      ]
     },
     "execution_count": 42,
     "metadata": {},
     "output_type": "execute_result"
    }
   ],
   "source": [
    "quote.count('my')"
   ]
  },
  {
   "cell_type": "code",
   "execution_count": 43,
   "id": "26762fb3",
   "metadata": {},
   "outputs": [
    {
     "data": {
      "text/plain": [
       "['i', 'LOVE', 'my', 'INDIA', 'my']"
      ]
     },
     "execution_count": 43,
     "metadata": {},
     "output_type": "execute_result"
    }
   ],
   "source": [
    "quote.split()"
   ]
  },
  {
   "cell_type": "code",
   "execution_count": 44,
   "id": "1945b2cc",
   "metadata": {},
   "outputs": [
    {
     "data": {
      "text/plain": [
       "True"
      ]
     },
     "execution_count": 44,
     "metadata": {},
     "output_type": "execute_result"
    }
   ],
   "source": [
    "quote.startswith('i')"
   ]
  },
  {
   "cell_type": "code",
   "execution_count": 45,
   "id": "4f731205",
   "metadata": {},
   "outputs": [
    {
     "data": {
      "text/plain": [
       "False"
      ]
     },
     "execution_count": 45,
     "metadata": {},
     "output_type": "execute_result"
    }
   ],
   "source": [
    "quote.endswith('INDIA')"
   ]
  },
  {
   "cell_type": "code",
   "execution_count": 46,
   "id": "f04c61bc",
   "metadata": {},
   "outputs": [
    {
     "data": {
      "text/plain": [
       "2"
      ]
     },
     "execution_count": 46,
     "metadata": {},
     "output_type": "execute_result"
    }
   ],
   "source": [
    "quote=('i LOVE my INDIA my')    \n",
    "quote.find('LOVE')"
   ]
  },
  {
   "cell_type": "code",
   "execution_count": 47,
   "id": "684e6ac4",
   "metadata": {},
   "outputs": [
    {
     "data": {
      "text/plain": [
       "3"
      ]
     },
     "execution_count": 47,
     "metadata": {},
     "output_type": "execute_result"
    }
   ],
   "source": [
    "quote=('i LOVE my INDIA my')\n",
    "quote.index('O')"
   ]
  },
  {
   "cell_type": "code",
   "execution_count": 48,
   "id": "9a1acd27",
   "metadata": {},
   "outputs": [
    {
     "data": {
      "text/plain": [
       "'my name is sanju, iam 24'"
      ]
     },
     "execution_count": 48,
     "metadata": {},
     "output_type": "execute_result"
    }
   ],
   "source": [
    "q='my name is {0}, iam {1}'.format('sanju',24)\n",
    "q"
   ]
  },
  {
   "cell_type": "code",
   "execution_count": 49,
   "id": "f87dac69",
   "metadata": {},
   "outputs": [
    {
     "data": {
      "text/plain": [
       "True"
      ]
     },
     "execution_count": 49,
     "metadata": {},
     "output_type": "execute_result"
    }
   ],
   "source": [
    "n='6789wxyz'\n",
    "n.isalnum()     # alpha numeric"
   ]
  },
  {
   "cell_type": "code",
   "execution_count": 50,
   "id": "5bdfea29",
   "metadata": {},
   "outputs": [
    {
     "data": {
      "text/plain": [
       "False"
      ]
     },
     "execution_count": 50,
     "metadata": {},
     "output_type": "execute_result"
    }
   ],
   "source": [
    "n.isdecimal()    #only decimal-true"
   ]
  },
  {
   "cell_type": "code",
   "execution_count": 51,
   "id": "fd09bd31",
   "metadata": {},
   "outputs": [
    {
     "data": {
      "text/plain": [
       "False"
      ]
     },
     "execution_count": 51,
     "metadata": {},
     "output_type": "execute_result"
    }
   ],
   "source": [
    "n.isdigit()   # only digit-true"
   ]
  },
  {
   "cell_type": "code",
   "execution_count": 52,
   "id": "85aa7917",
   "metadata": {},
   "outputs": [
    {
     "data": {
      "text/plain": [
       "'i LOVE my INDIA my'"
      ]
     },
     "execution_count": 52,
     "metadata": {},
     "output_type": "execute_result"
    }
   ],
   "source": [
    "quote=('           i LOVE my INDIA my')\n",
    "quote.lstrip()"
   ]
  },
  {
   "cell_type": "code",
   "execution_count": 53,
   "id": "cbaf2774",
   "metadata": {},
   "outputs": [
    {
     "data": {
      "text/plain": [
       "'i LOVE my INDIA my'"
      ]
     },
     "execution_count": 53,
     "metadata": {},
     "output_type": "execute_result"
    }
   ],
   "source": [
    "quote=('i LOVE my INDIA my'        )\n",
    "quote.rstrip()"
   ]
  },
  {
   "cell_type": "code",
   "execution_count": 62,
   "id": "73fd3e43",
   "metadata": {},
   "outputs": [
    {
     "data": {
      "text/plain": [
       "'I Love My Country'"
      ]
     },
     "execution_count": 62,
     "metadata": {},
     "output_type": "execute_result"
    }
   ],
   "source": [
    "quote=('i love my country')\n",
    "quote.title()"
   ]
  },
  {
   "cell_type": "code",
   "execution_count": 80,
   "id": "0695b2b0",
   "metadata": {},
   "outputs": [
    {
     "data": {
      "text/plain": [
       "'i love my india'"
      ]
     },
     "execution_count": 80,
     "metadata": {},
     "output_type": "execute_result"
    }
   ],
   "source": [
    "quote=('i love my country')\n",
    "quote.replace('country','india')"
   ]
  },
  {
   "cell_type": "code",
   "execution_count": 88,
   "id": "a257c8d8",
   "metadata": {},
   "outputs": [
    {
     "data": {
      "text/plain": [
       "'i#love#my#country'"
      ]
     },
     "execution_count": 88,
     "metadata": {},
     "output_type": "execute_result"
    }
   ],
   "source": [
    "quote=('i','love','my','country')\n",
    "k='#'.join(quote)\n",
    "k"
   ]
  },
  {
   "cell_type": "code",
   "execution_count": 12,
   "id": "8cb1d67a",
   "metadata": {},
   "outputs": [
    {
     "data": {
      "text/plain": [
       "'1.Tuple is used to store the sequence of immutable.\\n2.The tuple is similar to lists since the value \\nof the items stored in the list can be changed, \\nwhereas the tuple is immutable,\\nand the value of the items stored in the tuple cannot be changed.\\n3.A tuple can be written as the collection of comma-separated (,) \\n4.values enclosed with the small ()'"
      ]
     },
     "execution_count": 12,
     "metadata": {},
     "output_type": "execute_result"
    }
   ],
   "source": [
    "## tuples\n",
    "\n",
    "'''1.Tuple is used to store the sequence of immutable.\n",
    "2.The tuple is similar to lists since the value \n",
    "of the items stored in the list can be changed, \n",
    "whereas the tuple is immutable,\n",
    "and the value of the items stored in the tuple cannot be changed.\n",
    "3.A tuple can be written as the collection of comma-separated (,) \n",
    "4.values enclosed with the small ()'''              "
   ]
  },
  {
   "cell_type": "code",
   "execution_count": 13,
   "id": "26f517cf",
   "metadata": {},
   "outputs": [
    {
     "data": {
      "text/plain": [
       "tuple"
      ]
     },
     "execution_count": 13,
     "metadata": {},
     "output_type": "execute_result"
    }
   ],
   "source": [
    "###  tuples\n",
    "t=('car',24)\n",
    "type(t)"
   ]
  },
  {
   "cell_type": "code",
   "execution_count": 23,
   "id": "504dd052",
   "metadata": {},
   "outputs": [
    {
     "data": {
      "text/plain": [
       "85"
      ]
     },
     "execution_count": 23,
     "metadata": {},
     "output_type": "execute_result"
    }
   ],
   "source": [
    "t=(21,12,14,85,45,63,35,44)\n",
    "max(t)"
   ]
  },
  {
   "cell_type": "code",
   "execution_count": 22,
   "id": "ce438d51",
   "metadata": {},
   "outputs": [
    {
     "data": {
      "text/plain": [
       "12"
      ]
     },
     "execution_count": 22,
     "metadata": {},
     "output_type": "execute_result"
    }
   ],
   "source": [
    "min(t)"
   ]
  },
  {
   "cell_type": "code",
   "execution_count": 24,
   "id": "1f834bd8",
   "metadata": {},
   "outputs": [
    {
     "data": {
      "text/plain": [
       "319"
      ]
     },
     "execution_count": 24,
     "metadata": {},
     "output_type": "execute_result"
    }
   ],
   "source": [
    "sum(t)"
   ]
  },
  {
   "cell_type": "code",
   "execution_count": 25,
   "id": "6c8e50a3",
   "metadata": {},
   "outputs": [
    {
     "data": {
      "text/plain": [
       "8"
      ]
     },
     "execution_count": 25,
     "metadata": {},
     "output_type": "execute_result"
    }
   ],
   "source": [
    "len(t)"
   ]
  },
  {
   "cell_type": "code",
   "execution_count": 30,
   "id": "2bfcfcfb",
   "metadata": {},
   "outputs": [
    {
     "name": "stdout",
     "output_type": "stream",
     "text": [
      "(21, 12, 14, 85, 45, 63, 35, 44, 21, 12, 14, 85, 45, 63, 35, 44, 21, 12, 14, 85, 45, 63, 35, 44)\n"
     ]
    }
   ],
   "source": [
    "print(t*3)"
   ]
  },
  {
   "cell_type": "code",
   "execution_count": 2,
   "id": "42055a82",
   "metadata": {},
   "outputs": [
    {
     "data": {
      "text/plain": [
       "(1, 2, 3, 4, 5, 1, 2, 3, 4, 5)"
      ]
     },
     "execution_count": 2,
     "metadata": {},
     "output_type": "execute_result"
    }
   ],
   "source": [
    "\n",
    "v=(1,2,3,4,5)\n",
    "y=(1,2,3,4,5)\n",
    "v+y"
   ]
  },
  {
   "cell_type": "code",
   "execution_count": 26,
   "id": "caf05b21",
   "metadata": {},
   "outputs": [
    {
     "data": {
      "text/plain": [
       "(2, 4, 6, 8, 10)"
      ]
     },
     "execution_count": 26,
     "metadata": {},
     "output_type": "execute_result"
    }
   ],
   "source": [
    "### task-12\n",
    "\n",
    "t1=(1,2,3,4,5)\n",
    "t2=(1,2,3,4,5)\n",
    "t3=[]\n",
    "\n",
    "for i in range(5):\n",
    "    \n",
    "    a=t1[i]+t2[i]\n",
    "    t3.append(a)\n",
    "    \n",
    "tuple(t3)"
   ]
  },
  {
   "cell_type": "code",
   "execution_count": 1,
   "id": "cc35f037",
   "metadata": {},
   "outputs": [
    {
     "name": "stdout",
     "output_type": "stream",
     "text": [
      "guess number from 1 to 20:14\n",
      "you need to guess higher.try again\n",
      "guess number from 1 to 20:15\n",
      "you need to guess higher.try again\n",
      "guess number from 1 to 20:16\n",
      "you need to guess higher.try again\n",
      "guess number from 1 to 20:17\n",
      "you guess the number correctly\n"
     ]
    }
   ],
   "source": [
    "## task-13\n",
    "\n",
    "import random\n",
    "num=random.randrange(1,20)\n",
    "guess=int(input('guess number from 1 to 20:'))\n",
    "while guess !=num:\n",
    "    if guess<num:\n",
    "        print('you need to guess higher.try again')\n",
    "        guess=int(input('guess number from 1 to 20:'))\n",
    "    else:\n",
    "        print('you need to guess lower.try again')\n",
    "        guess=int(input('guess number from 1 to 20:'))\n",
    "        \n",
    "print('you guess the number correctly')\n",
    "\n",
    "\n",
    "\n"
   ]
  },
  {
   "cell_type": "code",
   "execution_count": null,
   "id": "798265db",
   "metadata": {},
   "outputs": [],
   "source": []
  },
  {
   "cell_type": "code",
   "execution_count": 3,
   "id": "a5f5c9f8",
   "metadata": {},
   "outputs": [
    {
     "name": "stdout",
     "output_type": "stream",
     "text": [
      "<class 'set'>\n"
     ]
    }
   ],
   "source": [
    "## task -14     sets {}\n",
    "\n",
    "s=set()\n",
    "print(type(s))"
   ]
  },
  {
   "cell_type": "code",
   "execution_count": 10,
   "id": "9af859a5",
   "metadata": {},
   "outputs": [
    {
     "data": {
      "text/plain": [
       "{24, 32, 34, 'hai'}"
      ]
     },
     "execution_count": 10,
     "metadata": {},
     "output_type": "execute_result"
    }
   ],
   "source": [
    "s={24,32,34,'hai',34}\n",
    "s"
   ]
  },
  {
   "cell_type": "code",
   "execution_count": 6,
   "id": "acff4401",
   "metadata": {},
   "outputs": [
    {
     "ename": "TypeError",
     "evalue": "'set' object is not subscriptable",
     "output_type": "error",
     "traceback": [
      "\u001b[1;31m---------------------------------------------------------------------------\u001b[0m",
      "\u001b[1;31mTypeError\u001b[0m                                 Traceback (most recent call last)",
      "\u001b[1;32m<ipython-input-6-c9c96910e542>\u001b[0m in \u001b[0;36m<module>\u001b[1;34m\u001b[0m\n\u001b[1;32m----> 1\u001b[1;33m \u001b[0ms\u001b[0m\u001b[1;33m[\u001b[0m\u001b[1;36m0\u001b[0m\u001b[1;33m]\u001b[0m\u001b[1;33m\u001b[0m\u001b[1;33m\u001b[0m\u001b[0m\n\u001b[0m",
      "\u001b[1;31mTypeError\u001b[0m: 'set' object is not subscriptable"
     ]
    }
   ],
   "source": [
    "s[0]"
   ]
  },
  {
   "cell_type": "code",
   "execution_count": 9,
   "id": "f97caa39",
   "metadata": {},
   "outputs": [
    {
     "data": {
      "text/plain": [
       "{24, 32, 34, 'hai', 'platform', 'rain', 'raju'}"
      ]
     },
     "execution_count": 9,
     "metadata": {},
     "output_type": "execute_result"
    }
   ],
   "source": [
    "s.add('rain')\n",
    "s"
   ]
  },
  {
   "cell_type": "code",
   "execution_count": 13,
   "id": "ffd2feae",
   "metadata": {},
   "outputs": [
    {
     "data": {
      "text/plain": [
       "set()"
      ]
     },
     "execution_count": 13,
     "metadata": {},
     "output_type": "execute_result"
    }
   ],
   "source": [
    "s.clear()\n",
    "s"
   ]
  },
  {
   "cell_type": "code",
   "execution_count": 15,
   "id": "dc9cf178",
   "metadata": {},
   "outputs": [
    {
     "data": {
      "text/plain": [
       "{24, 32, 34, 'hai', 'platform', 'rain', 'raju'}"
      ]
     },
     "execution_count": 15,
     "metadata": {},
     "output_type": "execute_result"
    }
   ],
   "source": [
    "s={24, 32, 34, 'hai', 'platform', 'rain', 'raju'}\n",
    "s.copy()\n",
    "s"
   ]
  },
  {
   "cell_type": "code",
   "execution_count": 29,
   "id": "19e50a9d",
   "metadata": {},
   "outputs": [
    {
     "data": {
      "text/plain": [
       "{24, 34, 'hai', 'platform', 'rain', 'raju'}"
      ]
     },
     "execution_count": 29,
     "metadata": {},
     "output_type": "execute_result"
    }
   ],
   "source": [
    "s={24, 32, 34, 'hai', 'platform', 'rain', 'raju'}\n",
    "s.pop()\n",
    "s"
   ]
  },
  {
   "cell_type": "code",
   "execution_count": 36,
   "id": "0f3ef856",
   "metadata": {},
   "outputs": [
    {
     "data": {
      "text/plain": [
       "{24, 32, 34, 'platform', 'rain', 'raju'}"
      ]
     },
     "execution_count": 36,
     "metadata": {},
     "output_type": "execute_result"
    }
   ],
   "source": [
    "s={24, 32, 34, 'hai', 'platform', 'rain', 'raju'}\n",
    "s.remove('hai')\n",
    "s"
   ]
  },
  {
   "cell_type": "code",
   "execution_count": 43,
   "id": "6c3dae3d",
   "metadata": {},
   "outputs": [
    {
     "data": {
      "text/plain": [
       "{24, 32, 34, 'a', 'b', 'platform', 'rain', 'raju'}"
      ]
     },
     "execution_count": 43,
     "metadata": {},
     "output_type": "execute_result"
    }
   ],
   "source": [
    "s.update('a','b')\n",
    "s"
   ]
  },
  {
   "cell_type": "code",
   "execution_count": 44,
   "id": "4396a838",
   "metadata": {},
   "outputs": [
    {
     "data": {
      "text/plain": [
       "{1, 2, 3, 4, 5, 6, 7, 8, 9, 10, 11, 12}"
      ]
     },
     "execution_count": 44,
     "metadata": {},
     "output_type": "execute_result"
    }
   ],
   "source": [
    "# set operations\n",
    "s1={1,2,3,4,5,6}\n",
    "s2={5,6,7,8,9,10,11,12}\n",
    "s1.union(s2)"
   ]
  },
  {
   "cell_type": "code",
   "execution_count": 45,
   "id": "cb8dd1e2",
   "metadata": {},
   "outputs": [
    {
     "data": {
      "text/plain": [
       "{5, 6}"
      ]
     },
     "execution_count": 45,
     "metadata": {},
     "output_type": "execute_result"
    }
   ],
   "source": [
    "s1.intersection(s2)"
   ]
  },
  {
   "cell_type": "code",
   "execution_count": 46,
   "id": "f6d4cfb8",
   "metadata": {},
   "outputs": [
    {
     "data": {
      "text/plain": [
       "{1, 2, 3, 4}"
      ]
     },
     "execution_count": 46,
     "metadata": {},
     "output_type": "execute_result"
    }
   ],
   "source": [
    "s1.difference(s2)"
   ]
  },
  {
   "cell_type": "code",
   "execution_count": 56,
   "id": "8589d266",
   "metadata": {},
   "outputs": [
    {
     "data": {
      "text/plain": [
       "{1, 2, 3, 4, 7, 8, 9, 10, 11, 12}"
      ]
     },
     "execution_count": 56,
     "metadata": {},
     "output_type": "execute_result"
    }
   ],
   "source": [
    "s1={1,2,3,4,5,6}\n",
    "s2={5,6,7,8,9,10,11,12}\n",
    "s1.symmetric_difference(s2)"
   ]
  },
  {
   "cell_type": "code",
   "execution_count": 58,
   "id": "ceb26e50",
   "metadata": {},
   "outputs": [
    {
     "data": {
      "text/plain": [
       "False"
      ]
     },
     "execution_count": 58,
     "metadata": {},
     "output_type": "execute_result"
    }
   ],
   "source": [
    "s1.issubset(s2)"
   ]
  },
  {
   "cell_type": "code",
   "execution_count": 61,
   "id": "685a2022",
   "metadata": {},
   "outputs": [
    {
     "data": {
      "text/plain": [
       "True"
      ]
     },
     "execution_count": 61,
     "metadata": {},
     "output_type": "execute_result"
    }
   ],
   "source": [
    "s1={'a','b','c'}\n",
    "s2={'a'}\n",
    "s1.issuperset(s2)"
   ]
  },
  {
   "cell_type": "code",
   "execution_count": 62,
   "id": "9d7aa121",
   "metadata": {},
   "outputs": [
    {
     "data": {
      "text/plain": [
       "False"
      ]
     },
     "execution_count": 62,
     "metadata": {},
     "output_type": "execute_result"
    }
   ],
   "source": [
    "s2.issuperset(s1)"
   ]
  },
  {
   "cell_type": "code",
   "execution_count": 63,
   "id": "3da7a741",
   "metadata": {},
   "outputs": [
    {
     "data": {
      "text/plain": [
       "False"
      ]
     },
     "execution_count": 63,
     "metadata": {},
     "output_type": "execute_result"
    }
   ],
   "source": [
    "s1.isdisjoint(s2)"
   ]
  },
  {
   "cell_type": "code",
   "execution_count": null,
   "id": "0f5e8d1d",
   "metadata": {},
   "outputs": [],
   "source": []
  },
  {
   "cell_type": "code",
   "execution_count": null,
   "id": "24d10ed3",
   "metadata": {},
   "outputs": [],
   "source": [
    "## dictionary"
   ]
  },
  {
   "cell_type": "code",
   "execution_count": 21,
   "id": "b8ab3ed1",
   "metadata": {},
   "outputs": [
    {
     "data": {
      "text/plain": [
       "'croods'"
      ]
     },
     "execution_count": 21,
     "metadata": {},
     "output_type": "execute_result"
    }
   ],
   "source": [
    "hotel={'name':'croods','seats':80,'tables':16}\n",
    "hotel['name']"
   ]
  },
  {
   "cell_type": "code",
   "execution_count": 29,
   "id": "421ea017",
   "metadata": {},
   "outputs": [
    {
     "data": {
      "text/plain": [
       "dict_keys(['name', 'seats', 'tables'])"
      ]
     },
     "execution_count": 29,
     "metadata": {},
     "output_type": "execute_result"
    }
   ],
   "source": [
    "hotel.keys()"
   ]
  },
  {
   "cell_type": "code",
   "execution_count": 31,
   "id": "7e8fff60",
   "metadata": {},
   "outputs": [
    {
     "data": {
      "text/plain": [
       "dict_values(['croods', 80, 16])"
      ]
     },
     "execution_count": 31,
     "metadata": {},
     "output_type": "execute_result"
    }
   ],
   "source": [
    "hotel.values()"
   ]
  },
  {
   "cell_type": "code",
   "execution_count": 43,
   "id": "8a52d5e3",
   "metadata": {},
   "outputs": [
    {
     "data": {
      "text/plain": [
       "18"
      ]
     },
     "execution_count": 43,
     "metadata": {},
     "output_type": "execute_result"
    }
   ],
   "source": [
    "hotel={'name':'croods','seats':80,'tables':[16,18]}\n",
    "h=hotel.get('tables')\n",
    "h[1]"
   ]
  },
  {
   "cell_type": "code",
   "execution_count": 44,
   "id": "27bbe545",
   "metadata": {},
   "outputs": [
    {
     "data": {
      "text/plain": [
       "dict_items([('name', 'croods'), ('seats', 80), ('tables', [16, 18])])"
      ]
     },
     "execution_count": 44,
     "metadata": {},
     "output_type": "execute_result"
    }
   ],
   "source": [
    "hotel.items()"
   ]
  },
  {
   "cell_type": "code",
   "execution_count": 59,
   "id": "0ccafc01",
   "metadata": {},
   "outputs": [
    {
     "data": {
      "text/plain": [
       "{'name': 'croods', 'seats': 80, 'tables': 16, 'add': 'dishes'}"
      ]
     },
     "execution_count": 59,
     "metadata": {},
     "output_type": "execute_result"
    }
   ],
   "source": [
    "hotel={'name':'croods','seats':80,'tables':16}\n",
    "hotel.update({'add':'dishes'})\n",
    "hotel"
   ]
  },
  {
   "cell_type": "code",
   "execution_count": 72,
   "id": "8f98388f",
   "metadata": {},
   "outputs": [
    {
     "data": {
      "text/plain": [
       "{'name': 'punjabi', 'seats': 80, 'tables': 16}"
      ]
     },
     "execution_count": 72,
     "metadata": {},
     "output_type": "execute_result"
    }
   ],
   "source": [
    "hotel={'name':'croods','seats':80,'tables':16}\n",
    "hotel['name']='punjabi'\n",
    "hotel"
   ]
  },
  {
   "cell_type": "code",
   "execution_count": 77,
   "id": "32fce034",
   "metadata": {},
   "outputs": [
    {
     "data": {
      "text/plain": [
       "80"
      ]
     },
     "execution_count": 77,
     "metadata": {},
     "output_type": "execute_result"
    }
   ],
   "source": [
    "hotel={'name':'croods','seats':80,'tables':16}\n",
    "hotel.pop('seats')"
   ]
  },
  {
   "cell_type": "code",
   "execution_count": 82,
   "id": "ad1353cc",
   "metadata": {},
   "outputs": [
    {
     "name": "stdout",
     "output_type": "stream",
     "text": [
      "name\n",
      "seats\n",
      "tables\n"
     ]
    }
   ],
   "source": [
    "hotel={'name':'croods','seats':80,'tables':16}\n",
    "\n",
    "for i in hotel:\n",
    "    print(i)"
   ]
  },
  {
   "cell_type": "code",
   "execution_count": 80,
   "id": "e6f6898a",
   "metadata": {},
   "outputs": [
    {
     "name": "stdout",
     "output_type": "stream",
     "text": [
      "croods\n",
      "80\n",
      "16\n"
     ]
    }
   ],
   "source": [
    "hotel={'name':'croods','seats':80,'tables':16}\n",
    "for i in hotel.values():\n",
    "    print(i)"
   ]
  },
  {
   "cell_type": "code",
   "execution_count": 84,
   "id": "2c3333e9",
   "metadata": {},
   "outputs": [
    {
     "name": "stdout",
     "output_type": "stream",
     "text": [
      "('name', 'croods')\n",
      "('seats', 80)\n",
      "('tables', 16)\n"
     ]
    }
   ],
   "source": [
    "for i in hotel.items():\n",
    "    print(i)"
   ]
  },
  {
   "cell_type": "code",
   "execution_count": 7,
   "id": "e55b24ca",
   "metadata": {},
   "outputs": [
    {
     "name": "stdout",
     "output_type": "stream",
     "text": [
      "enter num1:2855\n",
      "enter num2:18\n",
      " enter operator:/\n",
      "div: 158.61111111111111\n"
     ]
    }
   ],
   "source": [
    "## task-15 calculator\n",
    "\n",
    "num1=float(input('enter num1:'))\n",
    "num2=float(input('enter num2:'))\n",
    "operator=input(' enter operator:')\n",
    "if operator=='+':\n",
    "    print('add:',num1+num2)\n",
    "elif operator=='-':\n",
    "    print('sub:',num1-num2)\n",
    "elif operator=='*':\n",
    "    print('mul:',num1*num2)\n",
    "elif operator=='/':\n",
    "    print('div:',num1/num2)\n",
    "elif operator=='%':\n",
    "    print('percentage or modulus:',num1%num2)\n",
    "else:\n",
    "    print('invalid')\n"
   ]
  },
  {
   "cell_type": "code",
   "execution_count": null,
   "id": "78ea2c52",
   "metadata": {},
   "outputs": [],
   "source": [
    "## task -16 all saves in notepad"
   ]
  },
  {
   "cell_type": "code",
   "execution_count": 1,
   "id": "bc79d909",
   "metadata": {},
   "outputs": [
    {
     "name": "stdout",
     "output_type": "stream",
     "text": [
      "this is function\n"
     ]
    }
   ],
   "source": [
    "## task -17 functions\n",
    "# A function is a block of code which only runs when it is call\n",
    "\n",
    "def func():\n",
    "    print('this is function')\n",
    "func()\n",
    "    "
   ]
  },
  {
   "cell_type": "code",
   "execution_count": 5,
   "id": "53724fb3",
   "metadata": {},
   "outputs": [
    {
     "name": "stdout",
     "output_type": "stream",
     "text": [
      "this is function 15 20\n"
     ]
    }
   ],
   "source": [
    "def func(a,b):\n",
    "    print('this is function',a,b)\n",
    "func(15,20)\n"
   ]
  },
  {
   "cell_type": "code",
   "execution_count": 15,
   "id": "2a5c34e8",
   "metadata": {},
   "outputs": [
    {
     "name": "stdout",
     "output_type": "stream",
     "text": [
      "function (25, 26, 'hai')\n"
     ]
    }
   ],
   "source": [
    "##   * is arg(argument) ,  * use for tuple \n",
    "\n",
    "def func(*a):\n",
    "    print('function',a)\n",
    "func(25,26,'hai')"
   ]
  },
  {
   "cell_type": "code",
   "execution_count": 19,
   "id": "07b743a5",
   "metadata": {},
   "outputs": [
    {
     "name": "stdout",
     "output_type": "stream",
     "text": [
      "function {'vehicle': 'bus', 'cost': 200}\n"
     ]
    }
   ],
   "source": [
    "def func(**a):             # ** uses for dictionary\n",
    "    print('function',a)\n",
    "func(vehicle='bus',cost=200)"
   ]
  },
  {
   "cell_type": "code",
   "execution_count": 28,
   "id": "727c600f",
   "metadata": {},
   "outputs": [
    {
     "name": "stdout",
     "output_type": "stream",
     "text": [
      "this is func 1 2 3\n",
      "this is func 1 2 3\n",
      "this is func 1 2 3\n"
     ]
    }
   ],
   "source": [
    "\n",
    "def func(a,b=2,c=3):\n",
    "    print('this is func',a,b,c)\n",
    "func(1,2,3)\n",
    "func(1,2)\n",
    "func(1)"
   ]
  },
  {
   "cell_type": "code",
   "execution_count": 50,
   "id": "115a5626",
   "metadata": {},
   "outputs": [
    {
     "name": "stdout",
     "output_type": "stream",
     "text": [
      "this is outer\n",
      "this is inner\n"
     ]
    }
   ],
   "source": [
    "def outer():\n",
    "    print('this is outer')\n",
    "    def inner():\n",
    "        print('this is inner')\n",
    "    inner()\n",
    "outer()"
   ]
  },
  {
   "cell_type": "code",
   "execution_count": 39,
   "id": "27ce4bab",
   "metadata": {},
   "outputs": [
    {
     "data": {
      "text/plain": [
       "13"
      ]
     },
     "execution_count": 39,
     "metadata": {},
     "output_type": "execute_result"
    }
   ],
   "source": [
    "def add(a,b):\n",
    "    return a+b\n",
    "add(8,5)"
   ]
  },
  {
   "cell_type": "code",
   "execution_count": 40,
   "id": "8d4ef818",
   "metadata": {},
   "outputs": [
    {
     "data": {
      "text/plain": [
       "6"
      ]
     },
     "execution_count": 40,
     "metadata": {},
     "output_type": "execute_result"
    }
   ],
   "source": [
    "def sub(a,b):\n",
    "    return a-b\n",
    "sub(15,9)"
   ]
  },
  {
   "cell_type": "code",
   "execution_count": 65,
   "id": "1ff718b6",
   "metadata": {},
   "outputs": [
    {
     "data": {
      "text/plain": [
       "40"
      ]
     },
     "execution_count": 65,
     "metadata": {},
     "output_type": "execute_result"
    }
   ],
   "source": [
    "def mul(a,b):\n",
    "    return a*b\n",
    "mul(8,5)"
   ]
  },
  {
   "cell_type": "code",
   "execution_count": 66,
   "id": "33f23130",
   "metadata": {},
   "outputs": [
    {
     "data": {
      "text/plain": [
       "1.6"
      ]
     },
     "execution_count": 66,
     "metadata": {},
     "output_type": "execute_result"
    }
   ],
   "source": [
    "def div(a,b):\n",
    "    return a/b\n",
    "div(8,5)"
   ]
  },
  {
   "cell_type": "code",
   "execution_count": 75,
   "id": "4c473df3",
   "metadata": {},
   "outputs": [
    {
     "name": "stdout",
     "output_type": "stream",
     "text": [
      "10\n"
     ]
    }
   ],
   "source": [
    "##  task -18 ## advance functions\n",
    "\n",
    "'''A lambda function is a small anonymous function.\n",
    "\n",
    "A lambda function can take any number of arguments,\n",
    " but can only have one expression.\n",
    "\n",
    "lambda arguments : expression'''\n",
    "\n",
    "f=lambda a:a+a\n",
    "print(f(5))"
   ]
  },
  {
   "cell_type": "code",
   "execution_count": 78,
   "id": "e808ae8c",
   "metadata": {},
   "outputs": [
    {
     "name": "stdout",
     "output_type": "stream",
     "text": [
      "48\n"
     ]
    }
   ],
   "source": [
    "f=lambda a,b,c:a*b*c\n",
    "print(f(2,4,6))"
   ]
  },
  {
   "cell_type": "code",
   "execution_count": 29,
   "id": "a7b35c5d",
   "metadata": {},
   "outputs": [
    {
     "name": "stdout",
     "output_type": "stream",
     "text": [
      "only >=18: [20, 52, 44, 47, 18]\n"
     ]
    }
   ],
   "source": [
    "## filters().\n",
    "'''\n",
    "The filter() method filters the given sequence with the help \n",
    "of a function that tests each element in the sequence \n",
    "to be true or not.'''\n",
    "\n",
    "'''syntax:\n",
    "\n",
    "filter(function, sequence)\n",
    "Parameters:\n",
    "function: function that tests if each element of a \n",
    "sequence true or not.\n",
    "sequence: sequence which needs to be filtered, it can \n",
    "be sets, lists, tuples, or containers of any iterators.\n",
    "Returns:\n",
    "returns an iterator that is already filtered.\n",
    "\n",
    "'''\n",
    "## example##\n",
    "\n",
    "ages=[20,15,52,44,47,18,8,16]\n",
    "\n",
    "def func(x):\n",
    "    if x <18:\n",
    "        return False\n",
    "    else:\n",
    "        return True\n",
    "    \n",
    "adults = filter(func,ages)\n",
    "print('only >=18:',list(adults))"
   ]
  },
  {
   "cell_type": "code",
   "execution_count": null,
   "id": "b5a778ac",
   "metadata": {},
   "outputs": [],
   "source": []
  },
  {
   "cell_type": "code",
   "execution_count": 26,
   "id": "7ec19b77",
   "metadata": {},
   "outputs": [
    {
     "name": "stdout",
     "output_type": "stream",
     "text": [
      "multiplication: (9, 25, 49, 81, 121, 169, 196)\n",
      "------------\n",
      "addition: [6, 10, 14, 18, 22, 26, 28]\n"
     ]
    }
   ],
   "source": [
    "'''maps:\n",
    "# The python map() function is used to return a list of results\n",
    "# after applying a given function to each item of an iterable(list, tuple etc.)\n",
    "# map(function, iterables)  '''\n",
    "\n",
    "def calculation_of_multiplication(n):\n",
    "    return n*n\n",
    "num=(3,5,7,9,11,13,14)\n",
    "answer=map(calculation_of_multiplication,num)\n",
    "print('multiplication:',tuple(answer))\n",
    "\n",
    "print('------------')\n",
    "\n",
    "def calculation_of_addition(n):\n",
    "    return n+n\n",
    "num=(3,5,7,9,11,13,14)\n",
    "answer=map(calculation_of_addition,num)\n",
    "print('addition:',list(answer))"
   ]
  },
  {
   "cell_type": "code",
   "execution_count": null,
   "id": "2032683f",
   "metadata": {},
   "outputs": [],
   "source": []
  },
  {
   "cell_type": "code",
   "execution_count": 5,
   "id": "fdacd92a",
   "metadata": {},
   "outputs": [
    {
     "name": "stdout",
     "output_type": "stream",
     "text": [
      "addition: 210\n",
      "---------------\n",
      "multiply: 720000000\n",
      "---------------\n",
      "subtraction: -190\n"
     ]
    }
   ],
   "source": [
    "from functools import reduce\n",
    "'''\n",
    "The reduce() function, as the name describes,\n",
    "applies a given function to the iterables and returns a single value.\n",
    "\n",
    "Working conditions:\n",
    "\n",
    "The first two elements of the sequence are chosen in the first step, and the result is achieved.\n",
    "The result is then saved after applying the same function to the previously obtained result and the number preceding of\n",
    "the second element.\n",
    "This method is repeated until there are no more elements in the container.\n",
    "The final result is returned to the console and printed.\n",
    "'''\n",
    "func=reduce(lambda a,b:a+b,[10,20,30,40,50,60])\n",
    "print('addition:',func)\n",
    "print('---------------')\n",
    "func=reduce(lambda a,b:a*b,[10,20,30,40,50,60])\n",
    "print('multiply:',func)\n",
    "print('---------------')\n",
    "func=reduce(lambda a,b:a-b,[10,20,30,40,50,60])\n",
    "print('subtraction:',func)"
   ]
  },
  {
   "cell_type": "code",
   "execution_count": 21,
   "id": "e6e33ac0",
   "metadata": {},
   "outputs": [
    {
     "data": {
      "text/plain": [
       "(10, 20, 30, 40, 50, 60, 10, 20, 30, 40, 50, 60)"
      ]
     },
     "execution_count": 21,
     "metadata": {},
     "output_type": "execute_result"
    }
   ],
   "source": [
    "def add(*a):\n",
    "    return a+a\n",
    "add(10,20,30,40,50,60)"
   ]
  },
  {
   "cell_type": "code",
   "execution_count": 34,
   "id": "b17b936b",
   "metadata": {},
   "outputs": [
    {
     "data": {
      "text/plain": [
       "['False',\n",
       " 'None',\n",
       " 'True',\n",
       " 'and',\n",
       " 'as',\n",
       " 'assert',\n",
       " 'async',\n",
       " 'await',\n",
       " 'break',\n",
       " 'class',\n",
       " 'continue',\n",
       " 'def',\n",
       " 'del',\n",
       " 'elif',\n",
       " 'else',\n",
       " 'except',\n",
       " 'finally',\n",
       " 'for',\n",
       " 'from',\n",
       " 'global',\n",
       " 'if',\n",
       " 'import',\n",
       " 'in',\n",
       " 'is',\n",
       " 'lambda',\n",
       " 'nonlocal',\n",
       " 'not',\n",
       " 'or',\n",
       " 'pass',\n",
       " 'raise',\n",
       " 'return',\n",
       " 'try',\n",
       " 'while',\n",
       " 'with',\n",
       " 'yield']"
      ]
     },
     "execution_count": 34,
     "metadata": {},
     "output_type": "execute_result"
    }
   ],
   "source": [
    "import keyword\n",
    "keyword.kwlist"
   ]
  },
  {
   "cell_type": "code",
   "execution_count": 86,
   "id": "1421cb31",
   "metadata": {},
   "outputs": [
    {
     "name": "stdout",
     "output_type": "stream",
     "text": [
      "1\n",
      "2\n",
      "3\n",
      "4\n"
     ]
    }
   ],
   "source": [
    "# generator functions - {use only 'yield' keyword}\n",
    "'''\n",
    "Generator-Function ::\n",
    "...A generator-function is defined like a normal function,\n",
    "...but whenever it needs to generate a value, \n",
    "...it does so with the yield keyword rather than return.\n",
    "...If the body of a def contains yield, the function automatically\n",
    "becomes a generator function.\n",
    "'''\n",
    "'''\n",
    "1)The yield statement is responsible for controlling the flow of the generator function.\n",
    "2)It pauses the function execution by saving all states and yielded to the caller. \n",
    "3)Later it resumes execution when a successive function is called. We can use the multiple yield statement in the\n",
    "generator function.\n",
    "\n",
    "4)The return statement returns a value and terminates the whole function and only one return statement can be used\n",
    "in the function.\n",
    "'''\n",
    "\n",
    "def GeneratorFunc():\n",
    "\tyield 1\n",
    "\tyield 2\n",
    "\tyield 3\n",
    "\tyield 4   \n",
    "             # # x is a generator object\n",
    "g= GeneratorFunc()\n",
    "\n",
    "            # #Iterating over the generator object using next\n",
    "    \n",
    "print(g.__next__()) # In Python 3, __next__()\n",
    "print(g.__next__())\n",
    "print(g.__next__())\n",
    "print(g.__next__())"
   ]
  },
  {
   "cell_type": "code",
   "execution_count": 15,
   "id": "994cd68d",
   "metadata": {},
   "outputs": [
    {
     "name": "stdout",
     "output_type": "stream",
     "text": [
      "enter year:1997\n",
      "enter month:06\n",
      "calendar of 1997:      June 1997\n",
      "Mo Tu We Th Fr Sa Su\n",
      "                   1\n",
      " 2  3  4  5  6  7  8\n",
      " 9 10 11 12 13 14 15\n",
      "16 17 18 19 20 21 22\n",
      "23 24 25 26 27 28 29\n",
      "30\n",
      "\n"
     ]
    }
   ],
   "source": [
    "## task-19\n",
    "import calendar\n",
    "year=int(input('enter year:'))\n",
    "month=int(input('enter month:'))\n",
    "\n",
    "print('calendar of 1997:')\n",
    "print(calendar.month(year,month))\n"
   ]
  },
  {
   "cell_type": "code",
   "execution_count": null,
   "id": "afd2347d",
   "metadata": {},
   "outputs": [],
   "source": []
  },
  {
   "cell_type": "code",
   "execution_count": null,
   "id": "3c720692",
   "metadata": {},
   "outputs": [],
   "source": []
  },
  {
   "cell_type": "code",
   "execution_count": null,
   "id": "217a052f",
   "metadata": {},
   "outputs": [],
   "source": []
  },
  {
   "cell_type": "code",
   "execution_count": null,
   "id": "2cf15257",
   "metadata": {},
   "outputs": [],
   "source": []
  },
  {
   "cell_type": "code",
   "execution_count": null,
   "id": "2b9d0284",
   "metadata": {},
   "outputs": [],
   "source": []
  },
  {
   "cell_type": "code",
   "execution_count": null,
   "id": "f55897bc",
   "metadata": {},
   "outputs": [],
   "source": []
  },
  {
   "cell_type": "code",
   "execution_count": null,
   "id": "94761635",
   "metadata": {},
   "outputs": [],
   "source": []
  },
  {
   "cell_type": "code",
   "execution_count": null,
   "id": "e2a5a4ae",
   "metadata": {},
   "outputs": [],
   "source": []
  },
  {
   "cell_type": "code",
   "execution_count": null,
   "id": "02b5304a",
   "metadata": {},
   "outputs": [],
   "source": []
  },
  {
   "cell_type": "code",
   "execution_count": null,
   "id": "76350b6f",
   "metadata": {},
   "outputs": [],
   "source": []
  }
 ],
 "metadata": {
  "kernelspec": {
   "display_name": "Python 3",
   "language": "python",
   "name": "python3"
  },
  "language_info": {
   "codemirror_mode": {
    "name": "ipython",
    "version": 3
   },
   "file_extension": ".py",
   "mimetype": "text/x-python",
   "name": "python",
   "nbconvert_exporter": "python",
   "pygments_lexer": "ipython3",
   "version": "3.8.8"
  }
 },
 "nbformat": 4,
 "nbformat_minor": 5
}
