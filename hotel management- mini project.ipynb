{
 "cells": [
  {
   "cell_type": "code",
   "execution_count": 9,
   "id": "14049592",
   "metadata": {},
   "outputs": [
    {
     "name": "stdout",
     "output_type": "stream",
     "text": [
      "------------------------------------------HOTEL MANAGEMENT----------------------------------------------\n",
      "                                                                                     check-in date: 2022-03-16 22:00:39.878411\n",
      "enter visitors name:huju\n",
      "visitors name: huju\n",
      "how many rooms you want:1\n",
      "room is booked: 1.0\n",
      "meals : yes\n",
      "wifi : yes\n",
      "hot water : yes\n",
      "room per day\n",
      "GST : 20%\n",
      "GST amount: 600.0\n",
      "total price: 3600.0\n",
      "---------------------------------------Thank you visit again----------------------------------------------\n"
     ]
    }
   ],
   "source": [
    "print('------------------------------------------HOTEL MANAGEMENT----------------------------------------------')\n",
    "\n",
    "import datetime\n",
    "c=datetime.datetime.now()\n",
    "print(\"                                                                                     check-in date:\",c)\n",
    "print('visitors name:',input('enter visitors name:'))\n",
    "print('room is booked:',float(input('how many rooms you want:')))\n",
    "print('meals : yes')\n",
    "print('wifi : yes')\n",
    "print('hot water : yes')\n",
    "\n",
    "d=3000\n",
    "print('room per day')\n",
    "print('GST : 20%')\n",
    "\n",
    "int=a=(20/100*d)\n",
    "print('GST amount:',a)\n",
    "print('total price:',a+d)\n",
    "\n",
    "print('---------------------------------------Thank you visit again----------------------------------------------')\n"
   ]
  },
  {
   "cell_type": "code",
   "execution_count": null,
   "id": "91bed553",
   "metadata": {},
   "outputs": [],
   "source": []
  },
  {
   "cell_type": "code",
   "execution_count": null,
   "id": "1286d58e",
   "metadata": {},
   "outputs": [],
   "source": []
  }
 ],
 "metadata": {
  "kernelspec": {
   "display_name": "Python 3",
   "language": "python",
   "name": "python3"
  },
  "language_info": {
   "codemirror_mode": {
    "name": "ipython",
    "version": 3
   },
   "file_extension": ".py",
   "mimetype": "text/x-python",
   "name": "python",
   "nbconvert_exporter": "python",
   "pygments_lexer": "ipython3",
   "version": "3.8.8"
  }
 },
 "nbformat": 4,
 "nbformat_minor": 5
}
